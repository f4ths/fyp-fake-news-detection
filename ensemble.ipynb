{
 "cells": [
  {
   "cell_type": "code",
   "execution_count": 31,
   "metadata": {
    "collapsed": true
   },
   "outputs": [],
   "source": [
    "import pandas as pd\n",
    "import numpy as np\n",
    "import pickle\n",
    "\n",
    "import keras\n",
    "import keras.utils\n",
    "\n",
    "from keras.callbacks import TensorBoard\n",
    "from keras import optimizers\n",
    "\n",
    "from keras.models import Model, load_model\n",
    "from keras.layers import Input\n",
    "from keras.layers import Embedding\n",
    "from keras.layers import Dense,LSTM,Dropout,Bidirectional,GRU, Concatenate, GlobalMaxPooling1D, GlobalAveragePooling1D\n",
    "\n",
    "from keras.utils import to_categorical\n",
    "from keras.layers import Flatten\n",
    "\n",
    "\n",
    "from keras.utils import pad_sequences\n",
    "from keras_preprocessing import sequence\n",
    "\n",
    "from sklearn.metrics import accuracy_score, precision_score, recall_score, f1_score, confusion_matrix\n",
    "import seaborn as sns\n",
    "import matplotlib.pyplot as plt\n",
    "\n",
    "from keras.optimizers import SGD\n",
    "from keras.regularizers import l2\n",
    "from keras.optimizers import Adam\n",
    "\n",
    "from keras.callbacks import EarlyStopping, ModelCheckpoint\n"
   ]
  },
  {
   "cell_type": "code",
   "execution_count": 185,
   "outputs": [],
   "source": [
    "# columns = ['id','label','statement','subject','speaker','job-title','state','party','barely-true-counts','false-counts','half-true-counts','mostly-true-counts','pants-on-fire-counts','context']\n",
    "# label_map = {'pants-fire':0, 'false':1, 'barely-true':2, 'half-true':3, 'mostly-true':4, 'true':5}\n",
    "# # load v1 train_data from tsv\n",
    "# train_data_TEMP = pd.read_csv('train.tsv', sep='\\t', header=None, names=columns)"
   ],
   "metadata": {
    "collapsed": false
   }
  },
  {
   "cell_type": "code",
   "execution_count": 186,
   "outputs": [
    {
     "data": {
      "text/plain": "               id        label  \\\n0       2635.json        false   \n1      10540.json    half-true   \n2        324.json  mostly-true   \n3       1123.json        false   \n4       9028.json    half-true   \n...           ...          ...   \n10235   5473.json  mostly-true   \n10236   3408.json  mostly-true   \n10237   3959.json    half-true   \n10238   2253.json        false   \n10239   1155.json   pants-fire   \n\n                                               statement  \\\n0      Says the Annies List political group supports ...   \n1      When did the decline of coal start? It started...   \n2      Hillary Clinton agrees with John McCain \"by vo...   \n3      Health care reform legislation is likely to ma...   \n4      The economic turnaround started at the end of ...   \n...                                                  ...   \n10235  There are a larger number of shark attacks in ...   \n10236  Democrats have now become the party of the [At...   \n10237  Says an alternative to Social Security that op...   \n10238  On lifting the U.S. Cuban embargo and allowing...   \n10239  The Department of Veterans Affairs has a manua...   \n\n                                  subject         speaker  \\\n0                                abortion    dwayne-bohac   \n1      energy,history,job-accomplishments  scott-surovell   \n2                          foreign-policy    barack-obama   \n3                             health-care    blog-posting   \n4                            economy,jobs   charlie-crist   \n...                                   ...             ...   \n10235                   animals,elections    aclu-florida   \n10236                           elections     alan-powell   \n10237          retirement,social-security     herman-cain   \n10238              florida,foreign-policy     jeff-greene   \n10239                health-care,veterans  michael-steele   \n\n                                           job-title     state       party  \\\n0                               State representative     Texas  republican   \n1                                     State delegate  Virginia    democrat   \n2                                          President  Illinois    democrat   \n3                                                NaN       NaN        none   \n4                                                NaN   Florida    democrat   \n...                                              ...       ...         ...   \n10235                                            NaN   Florida        none   \n10236                                            NaN   Georgia  republican   \n10237                                            NaN   Georgia  republican   \n10238                                            NaN   Florida    democrat   \n10239  chairman of the Republican National Committee  Maryland  republican   \n\n       barely-true-counts  false-counts  half-true-counts  mostly-true-counts  \\\n0                     0.0           1.0               0.0                 0.0   \n1                     0.0           0.0               1.0                 1.0   \n2                    70.0          71.0             160.0               163.0   \n3                     7.0          19.0               3.0                 5.0   \n4                    15.0           9.0              20.0                19.0   \n...                   ...           ...               ...                 ...   \n10235                 0.0           1.0               1.0                 1.0   \n10236                 0.0           0.0               0.0                 1.0   \n10237                 4.0          11.0               5.0                 3.0   \n10238                 3.0           1.0               3.0                 0.0   \n10239                 0.0           1.0               1.0                 0.0   \n\n       pants-on-fire-counts                                            context  \n0                       0.0                                           a mailer  \n1                       0.0                                    a floor speech.  \n2                       9.0                                             Denver  \n3                      44.0                                     a news release  \n4                       2.0                                an interview on CNN  \n...                     ...                                                ...  \n10235                   0.0                  interview on \"The Colbert Report\"  \n10236                   0.0                                       an interview  \n10237                   3.0                   a Republican presidential debate  \n10238                   0.0  a televised debate on Miami's WPLG-10 against ...  \n10239                   2.0                               a Fox News interview  \n\n[10240 rows x 14 columns]",
      "text/html": "<div>\n<style scoped>\n    .dataframe tbody tr th:only-of-type {\n        vertical-align: middle;\n    }\n\n    .dataframe tbody tr th {\n        vertical-align: top;\n    }\n\n    .dataframe thead th {\n        text-align: right;\n    }\n</style>\n<table border=\"1\" class=\"dataframe\">\n  <thead>\n    <tr style=\"text-align: right;\">\n      <th></th>\n      <th>id</th>\n      <th>label</th>\n      <th>statement</th>\n      <th>subject</th>\n      <th>speaker</th>\n      <th>job-title</th>\n      <th>state</th>\n      <th>party</th>\n      <th>barely-true-counts</th>\n      <th>false-counts</th>\n      <th>half-true-counts</th>\n      <th>mostly-true-counts</th>\n      <th>pants-on-fire-counts</th>\n      <th>context</th>\n    </tr>\n  </thead>\n  <tbody>\n    <tr>\n      <th>0</th>\n      <td>2635.json</td>\n      <td>false</td>\n      <td>Says the Annies List political group supports ...</td>\n      <td>abortion</td>\n      <td>dwayne-bohac</td>\n      <td>State representative</td>\n      <td>Texas</td>\n      <td>republican</td>\n      <td>0.0</td>\n      <td>1.0</td>\n      <td>0.0</td>\n      <td>0.0</td>\n      <td>0.0</td>\n      <td>a mailer</td>\n    </tr>\n    <tr>\n      <th>1</th>\n      <td>10540.json</td>\n      <td>half-true</td>\n      <td>When did the decline of coal start? It started...</td>\n      <td>energy,history,job-accomplishments</td>\n      <td>scott-surovell</td>\n      <td>State delegate</td>\n      <td>Virginia</td>\n      <td>democrat</td>\n      <td>0.0</td>\n      <td>0.0</td>\n      <td>1.0</td>\n      <td>1.0</td>\n      <td>0.0</td>\n      <td>a floor speech.</td>\n    </tr>\n    <tr>\n      <th>2</th>\n      <td>324.json</td>\n      <td>mostly-true</td>\n      <td>Hillary Clinton agrees with John McCain \"by vo...</td>\n      <td>foreign-policy</td>\n      <td>barack-obama</td>\n      <td>President</td>\n      <td>Illinois</td>\n      <td>democrat</td>\n      <td>70.0</td>\n      <td>71.0</td>\n      <td>160.0</td>\n      <td>163.0</td>\n      <td>9.0</td>\n      <td>Denver</td>\n    </tr>\n    <tr>\n      <th>3</th>\n      <td>1123.json</td>\n      <td>false</td>\n      <td>Health care reform legislation is likely to ma...</td>\n      <td>health-care</td>\n      <td>blog-posting</td>\n      <td>NaN</td>\n      <td>NaN</td>\n      <td>none</td>\n      <td>7.0</td>\n      <td>19.0</td>\n      <td>3.0</td>\n      <td>5.0</td>\n      <td>44.0</td>\n      <td>a news release</td>\n    </tr>\n    <tr>\n      <th>4</th>\n      <td>9028.json</td>\n      <td>half-true</td>\n      <td>The economic turnaround started at the end of ...</td>\n      <td>economy,jobs</td>\n      <td>charlie-crist</td>\n      <td>NaN</td>\n      <td>Florida</td>\n      <td>democrat</td>\n      <td>15.0</td>\n      <td>9.0</td>\n      <td>20.0</td>\n      <td>19.0</td>\n      <td>2.0</td>\n      <td>an interview on CNN</td>\n    </tr>\n    <tr>\n      <th>...</th>\n      <td>...</td>\n      <td>...</td>\n      <td>...</td>\n      <td>...</td>\n      <td>...</td>\n      <td>...</td>\n      <td>...</td>\n      <td>...</td>\n      <td>...</td>\n      <td>...</td>\n      <td>...</td>\n      <td>...</td>\n      <td>...</td>\n      <td>...</td>\n    </tr>\n    <tr>\n      <th>10235</th>\n      <td>5473.json</td>\n      <td>mostly-true</td>\n      <td>There are a larger number of shark attacks in ...</td>\n      <td>animals,elections</td>\n      <td>aclu-florida</td>\n      <td>NaN</td>\n      <td>Florida</td>\n      <td>none</td>\n      <td>0.0</td>\n      <td>1.0</td>\n      <td>1.0</td>\n      <td>1.0</td>\n      <td>0.0</td>\n      <td>interview on \"The Colbert Report\"</td>\n    </tr>\n    <tr>\n      <th>10236</th>\n      <td>3408.json</td>\n      <td>mostly-true</td>\n      <td>Democrats have now become the party of the [At...</td>\n      <td>elections</td>\n      <td>alan-powell</td>\n      <td>NaN</td>\n      <td>Georgia</td>\n      <td>republican</td>\n      <td>0.0</td>\n      <td>0.0</td>\n      <td>0.0</td>\n      <td>1.0</td>\n      <td>0.0</td>\n      <td>an interview</td>\n    </tr>\n    <tr>\n      <th>10237</th>\n      <td>3959.json</td>\n      <td>half-true</td>\n      <td>Says an alternative to Social Security that op...</td>\n      <td>retirement,social-security</td>\n      <td>herman-cain</td>\n      <td>NaN</td>\n      <td>Georgia</td>\n      <td>republican</td>\n      <td>4.0</td>\n      <td>11.0</td>\n      <td>5.0</td>\n      <td>3.0</td>\n      <td>3.0</td>\n      <td>a Republican presidential debate</td>\n    </tr>\n    <tr>\n      <th>10238</th>\n      <td>2253.json</td>\n      <td>false</td>\n      <td>On lifting the U.S. Cuban embargo and allowing...</td>\n      <td>florida,foreign-policy</td>\n      <td>jeff-greene</td>\n      <td>NaN</td>\n      <td>Florida</td>\n      <td>democrat</td>\n      <td>3.0</td>\n      <td>1.0</td>\n      <td>3.0</td>\n      <td>0.0</td>\n      <td>0.0</td>\n      <td>a televised debate on Miami's WPLG-10 against ...</td>\n    </tr>\n    <tr>\n      <th>10239</th>\n      <td>1155.json</td>\n      <td>pants-fire</td>\n      <td>The Department of Veterans Affairs has a manua...</td>\n      <td>health-care,veterans</td>\n      <td>michael-steele</td>\n      <td>chairman of the Republican National Committee</td>\n      <td>Maryland</td>\n      <td>republican</td>\n      <td>0.0</td>\n      <td>1.0</td>\n      <td>1.0</td>\n      <td>0.0</td>\n      <td>2.0</td>\n      <td>a Fox News interview</td>\n    </tr>\n  </tbody>\n</table>\n<p>10240 rows × 14 columns</p>\n</div>"
     },
     "execution_count": 186,
     "metadata": {},
     "output_type": "execute_result"
    }
   ],
   "source": [
    "# train_data_TEMP"
   ],
   "metadata": {
    "collapsed": false
   }
  },
  {
   "cell_type": "code",
   "execution_count": 188,
   "outputs": [
    {
     "name": "stdout",
     "output_type": "stream",
     "text": [
      "Value at row 1280 and column statement : Hospitals, doctors, MRIs, surgeries and so forth are more extensively used and far more expensive in this country than they are in many other countries.''\thealth-care\tmitt-romney\tFormer governor\tMassachusetts\trepublican\t34\t32\t58\t33\t19\ta Fox News Sunday interview\n",
      "9874.json\tbarely-true\tObamacare cuts seniors Medicare.\thealth-care,medicare\ted-gillespie\tRepublican strategist\tWashington, D.C.\trepublican\t2\t3\t2\t2\t1\ta campaign email.\n",
      "3072.json\tmostly-true\tThe refusal of many federal employees to fly coach costs taxpayers $146 million annually.\tgovernment-efficiency,transparency\tnewsmax\tMagazine and website\tFlorida\tnone\t0\t0\t0\t1\t0\tan e-mail solicitation\n",
      "2436.json\tmostly-true\tFlorida spends more than $300 million a year just on children repeating pre-K through 3rd grade.\teducation\talex-sink\t\tFlorida\tdemocrat\t1\t2\t2\t4\t0\tfigures cites on campaign website\n",
      "9721.json\ttrue\tMilwaukee County Sheriff David A. Clarke Jr. advised citizens to point that barrel center mass and pull the trigger because 911 is not our best option.\tcrime,criminal-justice,guns,legal-issues\tgreater-wisconsin-political-fund\t\tWisconsin\tnone\t3\t3\t3\t1\t1\ta campaign TV ad\n",
      "3627.json\tfalse\tAlmost 37 percent of the total income from Planned Parenthood is from abortions.\tabortion\tronald-renuart\tState Representative\tFlorida\trepublican\t0\t1\t0\t0\t0\tcomments during a committee hearing\n",
      "11900.json\thalf-true\tThe United States has the highest rate of childhood poverty of almost any major country on Earth.\tchildren,poverty\tbernie-s\tU.S. Senator\tVermont\tindependent\t18\t12\t22\t41\t0\tcomments during the PBS Democratic debate\n",
      "4611.json\ttrue\tUnder Governor Almond the RI DMV had a program that allowed undocumented [people to] use their Personal Tax Identification Number . . . to apply [for] and receive a RI drivers license.\tcivil-rights,homeland-security,immigration,public-safety,transportation,workers\tdavid-quiroa\tprresident, Guatemalan-American Alliance of Rhode Island\tRhode Island\tnewsmaker\t0\t0\t0\t0\t0\ta news release\n",
      "3168.json\tpants-fire\tIllegal aliens cost the state of Rhode Island $400 million a year.\tcensus,crime,education,health-care,immigration,state-budget,taxes\tterry-gorman\tPresident, Rhode Islanders for Immigration Law Enforcement\tRhode Island\tnewsmaker\t1\t0\t0\t0\t1\ta radio interview\n",
      "6832.json\tpants-fire\tSays Eric Cantor voted to assure Congress would be paid if the government shut down and against guaranteeing troops would be paid.\tcongressional-rules,federal-budget,military\twayne-powell\tlawyer\tVirginia\tdemocrat\t1\t1\t0\t0\t1\ta debate.\n",
      "5893.json\tmostly-true\tIf Congress froze the current spending level and then cut it by 2 percent annually, we could balance the budget in five years.\tdeficit,federal-budget\tjamie-radtke\t\tVirginia\trepublican\t1\t1\t1\t2\t0\ta statement\n",
      "3304.json\ttrue\tEvery (Wisconsin) legislator that votes for this bill will have to give up the same amount of pay as other state employees.\tlabor,state-budget\tjeff-fitzgerald\tIncoming speaker of state Assembly\tWisconsin\trepublican\t2\t0\t1\t2\t2\tan interview on the Fox News Channel\n",
      "1638.json\thalf-true\tMarco Rubio controlled funds that out of the $600,000 that were raised, only $4,000 went to candidates to try to improve their chances to be elected to office.\"\n"
     ]
    }
   ],
   "source": [
    "# Specify the row label and column label\n",
    "row_label = 1280\n",
    "column_label = 'statement'\n",
    "\n",
    "# Access the value at the specified row and column\n",
    "cell_value = train_data_TEMP.at[row_label, column_label]\n",
    "\n",
    "print(\"Value at row\", row_label, \"and column\", column_label, \":\", cell_value)\n"
   ],
   "metadata": {
    "collapsed": false
   }
  },
  {
   "cell_type": "code",
   "execution_count": 3,
   "outputs": [
    {
     "name": "stdout",
     "output_type": "stream",
     "text": [
      "Length of the vocabulary dictionaries: 9606 9495\n",
      "Shape of the embedding matrixes: (9607, 100) (9496, 300)\n"
     ]
    },
    {
     "data": {
      "text/plain": "   index          id        label  \\\n0      0   2635.json        false   \n1      1  10540.json    half-true   \n2      2    324.json  mostly-true   \n3      3   1123.json        false   \n4      4   9028.json    half-true   \n\n                                           statement  \\\n0  Says the Annies List political group supports ...   \n1  When did the decline of coal start? It started...   \n2  Hillary Clinton agrees with John McCain \"by vo...   \n3  Health care reform legislation is likely to ma...   \n4  The economic turnaround started at the end of ...   \n\n                              subject         speaker             job-title  \\\n0                            abortion    dwayne-bohac  State representative   \n1  energy,history,job-accomplishments  scott-surovell        State delegate   \n2                      foreign-policy    barack-obama             President   \n3                         health-care    blog-posting               unknown   \n4                        economy,jobs   charlie-crist               unknown   \n\n        party  barely-true-counts  false-counts  ...  \\\n0  republican                 0.0           1.0  ...   \n1    democrat                 0.0           0.0  ...   \n2    democrat                70.0          71.0  ...   \n3        none                 7.0          19.0  ...   \n4    democrat                15.0           9.0  ...   \n\n                                         dep-id-fine  \\\n0         [8, 8, 4, 4, 3, 1, 8, 3, 8, 7, 2, 8, 8, 8]   \n1  [8, 8, 8, 1, 8, 7, 8, 8, 1, 8, 8, 3, 1, 8, 8, ...   \n2  [7, 1, 8, 8, 7, 8, 8, 8, 8, 8, 8, 7, 8, 8, 2, ...   \n3            [7, 7, 7, 1, 8, 8, 8, 8, 3, 7, 7, 2, 8]   \n4                  [8, 3, 1, 8, 8, 8, 8, 8, 8, 8, 8]   \n\n                                       dep-id-custom  \\\n0      [7, 5, 11, 11, 8, 6, 11, 8, 1, 4, 9, 2, 3, 1]   \n1  [11, 7, 5, 6, 2, 4, 3, 1, 6, 7, 11, 8, 6, 11, ...   \n2  [4, 6, 7, 2, 4, 3, 1, 2, 11, 10, 11, 4, 11, 5,...   \n3         [4, 4, 4, 6, 7, 11, 10, 11, 8, 4, 4, 9, 1]   \n4                 [5, 8, 6, 7, 2, 5, 3, 2, 11, 3, 1]   \n\n                                 statement-customswr  \\\n0  say annies list political group support third ...   \n1  when do decline coal start start when natural ...   \n2  hillary clinton agree john mccain vote give ge...   \n3  health care reform legislation be likely manda...   \n4                 economic turnaround start end term   \n\n                                  statement-spacyswr  job-id-jaccard  \\\n0  say annies list political group support trimes...               2   \n1  decline coal start start natural gas take star...               6   \n2  hillary clinton agree john mccain vote george ...               2   \n3  health care reform legislation likely mandate ...               0   \n4                 economic turnaround start end term               0   \n\n  party-id-jaccard context-id-jaccard  subject-id-jaccard  \\\n0                0                 13                   2   \n1                1                  0                   5   \n2                1                  3                   5   \n3                2                  0                   0   \n4                1                  3                   6   \n\n                                      word-id-custom  \\\n0  [3, 5440, 717, 493, 396, 54, 274, 4039, 155, 1...   \n1  [37, 9, 804, 861, 308, 308, 37, 981, 254, 39, ...   \n2  [104, 69, 734, 160, 201, 18, 89, 262, 137, 258...   \n3  [19, 22, 209, 252, 1, 592, 406, 361, 439, 176,...   \n4                         [282, 3331, 308, 247, 248]   \n\n                                       word-id-spacy  \n0       [1, 5315, 633, 423, 332, 37, 3919, 120, 936]  \n1  [720, 773, 249, 249, 891, 204, 46, 249, 527, 1...  \n2  [74, 49, 649, 125, 157, 12, 212, 103, 208, 274...  \n3  [13, 16, 165, 202, 514, 342, 301, 372, 140, 2747]  \n4                         [224, 3208, 249, 198, 199]  \n\n[5 rows x 36 columns]",
      "text/html": "<div>\n<style scoped>\n    .dataframe tbody tr th:only-of-type {\n        vertical-align: middle;\n    }\n\n    .dataframe tbody tr th {\n        vertical-align: top;\n    }\n\n    .dataframe thead th {\n        text-align: right;\n    }\n</style>\n<table border=\"1\" class=\"dataframe\">\n  <thead>\n    <tr style=\"text-align: right;\">\n      <th></th>\n      <th>index</th>\n      <th>id</th>\n      <th>label</th>\n      <th>statement</th>\n      <th>subject</th>\n      <th>speaker</th>\n      <th>job-title</th>\n      <th>party</th>\n      <th>barely-true-counts</th>\n      <th>false-counts</th>\n      <th>...</th>\n      <th>dep-id-fine</th>\n      <th>dep-id-custom</th>\n      <th>statement-customswr</th>\n      <th>statement-spacyswr</th>\n      <th>job-id-jaccard</th>\n      <th>party-id-jaccard</th>\n      <th>context-id-jaccard</th>\n      <th>subject-id-jaccard</th>\n      <th>word-id-custom</th>\n      <th>word-id-spacy</th>\n    </tr>\n  </thead>\n  <tbody>\n    <tr>\n      <th>0</th>\n      <td>0</td>\n      <td>2635.json</td>\n      <td>false</td>\n      <td>Says the Annies List political group supports ...</td>\n      <td>abortion</td>\n      <td>dwayne-bohac</td>\n      <td>State representative</td>\n      <td>republican</td>\n      <td>0.0</td>\n      <td>1.0</td>\n      <td>...</td>\n      <td>[8, 8, 4, 4, 3, 1, 8, 3, 8, 7, 2, 8, 8, 8]</td>\n      <td>[7, 5, 11, 11, 8, 6, 11, 8, 1, 4, 9, 2, 3, 1]</td>\n      <td>say annies list political group support third ...</td>\n      <td>say annies list political group support trimes...</td>\n      <td>2</td>\n      <td>0</td>\n      <td>13</td>\n      <td>2</td>\n      <td>[3, 5440, 717, 493, 396, 54, 274, 4039, 155, 1...</td>\n      <td>[1, 5315, 633, 423, 332, 37, 3919, 120, 936]</td>\n    </tr>\n    <tr>\n      <th>1</th>\n      <td>1</td>\n      <td>10540.json</td>\n      <td>half-true</td>\n      <td>When did the decline of coal start? It started...</td>\n      <td>energy,history,job-accomplishments</td>\n      <td>scott-surovell</td>\n      <td>State delegate</td>\n      <td>democrat</td>\n      <td>0.0</td>\n      <td>0.0</td>\n      <td>...</td>\n      <td>[8, 8, 8, 1, 8, 7, 8, 8, 1, 8, 8, 3, 1, 8, 8, ...</td>\n      <td>[11, 7, 5, 6, 2, 4, 3, 1, 6, 7, 11, 8, 6, 11, ...</td>\n      <td>when do decline coal start start when natural ...</td>\n      <td>decline coal start start natural gas take star...</td>\n      <td>6</td>\n      <td>1</td>\n      <td>0</td>\n      <td>5</td>\n      <td>[37, 9, 804, 861, 308, 308, 37, 981, 254, 39, ...</td>\n      <td>[720, 773, 249, 249, 891, 204, 46, 249, 527, 1...</td>\n    </tr>\n    <tr>\n      <th>2</th>\n      <td>2</td>\n      <td>324.json</td>\n      <td>mostly-true</td>\n      <td>Hillary Clinton agrees with John McCain \"by vo...</td>\n      <td>foreign-policy</td>\n      <td>barack-obama</td>\n      <td>President</td>\n      <td>democrat</td>\n      <td>70.0</td>\n      <td>71.0</td>\n      <td>...</td>\n      <td>[7, 1, 8, 8, 7, 8, 8, 8, 8, 8, 8, 7, 8, 8, 2, ...</td>\n      <td>[4, 6, 7, 2, 4, 3, 1, 2, 11, 10, 11, 4, 11, 5,...</td>\n      <td>hillary clinton agree john mccain vote give ge...</td>\n      <td>hillary clinton agree john mccain vote george ...</td>\n      <td>2</td>\n      <td>1</td>\n      <td>3</td>\n      <td>5</td>\n      <td>[104, 69, 734, 160, 201, 18, 89, 262, 137, 258...</td>\n      <td>[74, 49, 649, 125, 157, 12, 212, 103, 208, 274...</td>\n    </tr>\n    <tr>\n      <th>3</th>\n      <td>3</td>\n      <td>1123.json</td>\n      <td>false</td>\n      <td>Health care reform legislation is likely to ma...</td>\n      <td>health-care</td>\n      <td>blog-posting</td>\n      <td>unknown</td>\n      <td>none</td>\n      <td>7.0</td>\n      <td>19.0</td>\n      <td>...</td>\n      <td>[7, 7, 7, 1, 8, 8, 8, 8, 3, 7, 7, 2, 8]</td>\n      <td>[4, 4, 4, 6, 7, 11, 10, 11, 8, 4, 4, 9, 1]</td>\n      <td>health care reform legislation be likely manda...</td>\n      <td>health care reform legislation likely mandate ...</td>\n      <td>0</td>\n      <td>2</td>\n      <td>0</td>\n      <td>0</td>\n      <td>[19, 22, 209, 252, 1, 592, 406, 361, 439, 176,...</td>\n      <td>[13, 16, 165, 202, 514, 342, 301, 372, 140, 2747]</td>\n    </tr>\n    <tr>\n      <th>4</th>\n      <td>4</td>\n      <td>9028.json</td>\n      <td>half-true</td>\n      <td>The economic turnaround started at the end of ...</td>\n      <td>economy,jobs</td>\n      <td>charlie-crist</td>\n      <td>unknown</td>\n      <td>democrat</td>\n      <td>15.0</td>\n      <td>9.0</td>\n      <td>...</td>\n      <td>[8, 3, 1, 8, 8, 8, 8, 8, 8, 8, 8]</td>\n      <td>[5, 8, 6, 7, 2, 5, 3, 2, 11, 3, 1]</td>\n      <td>economic turnaround start end term</td>\n      <td>economic turnaround start end term</td>\n      <td>0</td>\n      <td>1</td>\n      <td>3</td>\n      <td>6</td>\n      <td>[282, 3331, 308, 247, 248]</td>\n      <td>[224, 3208, 249, 198, 199]</td>\n    </tr>\n  </tbody>\n</table>\n<p>5 rows × 36 columns</p>\n</div>"
     },
     "execution_count": 3,
     "metadata": {},
     "output_type": "execute_result"
    }
   ],
   "source": [
    "## LOAD SAVED DATA\n",
    "# load data\n",
    "# IMPORT v4 data\n",
    "# label_map = {'pants-fire':0, 'false':1, 'barely-true':2, 'half-true':3, 'mostly-true':4, 'true':5}\n",
    "\n",
    "train_data = pd.read_pickle('processed_train_data_v4.p')\n",
    "val_data = pd.read_pickle('processed_val_data_v4.p')\n",
    "test_data = pd.read_pickle('processed_test_data_v4.p')\n",
    "\n",
    "# load vocab dicts\n",
    "vocabulary_dict_custom = pickle.load(open('vocabulary_statement_custom.p', 'rb'))\n",
    "vocabulary_dict_spacy = pickle.load(open('vocabulary_statement_spacy.p', 'rb'))\n",
    "# vocab_length = len(vocabulary_dict_custom)\n",
    "print(\"Length of the vocabulary dictionaries:\", len(vocabulary_dict_custom), len(vocabulary_dict_spacy))\n",
    "\n",
    "# load Glove embeddings matrixes\n",
    "embedding_matrix_custom_100d = np.load('embedding_matrix_custom_100d.npy')\n",
    "embedding_matrix_spacy_100d = np.load('embedding_matrix_spacy_100d.npy')\n",
    "embedding_matrix_custom_300d = np.load('embedding_matrix_custom_300d.npy')\n",
    "embedding_matrix_spacy_300d = np.load('embedding_matrix_spacy_300d.npy')\n",
    "print(\"Shape of the embedding matrixes:\", embedding_matrix_custom_100d.shape, embedding_matrix_spacy_300d.shape)\n",
    "\n",
    "train_data.head()"
   ],
   "metadata": {
    "collapsed": false
   }
  },
  {
   "cell_type": "code",
   "execution_count": 202,
   "outputs": [],
   "source": [
    "# train_data['output'] = train_data['label'].apply(lambda x: label_map[x])\n",
    "# val_data['output'] = val_data['label'].apply(lambda x: label_map[x])\n",
    "# test_data['output'] = test_data['label'].apply(lambda x: label_map[x])"
   ],
   "metadata": {
    "collapsed": false
   }
  },
  {
   "cell_type": "code",
   "execution_count": 4,
   "outputs": [
    {
     "data": {
      "text/plain": "3    2114\n1    1995\n4    1962\n5    1676\n2    1654\n0     839\nName: output, dtype: int64"
     },
     "execution_count": 4,
     "metadata": {},
     "output_type": "execute_result"
    }
   ],
   "source": [
    "train_data['output'].value_counts()"
   ],
   "metadata": {
    "collapsed": false
   }
  },
  {
   "cell_type": "code",
   "execution_count": 5,
   "outputs": [],
   "source": [
    "# Load DEP_dict\n",
    "with open('dep_dict.p', 'rb') as f:\n",
    "    dep_dict_fine, dep_dict_custom = pickle.load(f)"
   ],
   "metadata": {
    "collapsed": false
   }
  },
  {
   "cell_type": "code",
   "execution_count": 6,
   "outputs": [],
   "source": [
    "# Load POS dict\n",
    "with open('pos_dicts.p', 'rb') as f:\n",
    "    pos_dict_custom, pos_dict_default, pos_dict_fine, pos_dict_fine_merged = pickle.load(f) #pos_dict_default is not used"
   ],
   "metadata": {
    "collapsed": false
   }
  },
  {
   "cell_type": "code",
   "execution_count": 7,
   "outputs": [
    {
     "data": {
      "text/plain": "Index(['index', 'id', 'label', 'statement', 'subject', 'speaker', 'job-title',\n       'party', 'barely-true-counts', 'false-counts', 'half-true-counts',\n       'mostly-true-counts', 'pants-on-fire-counts', 'context', 'output',\n       'preprocessed-subject', 'preprocessed-context', 'context-id-kmeans',\n       'preprocessed-job-title', 'preprocessed-party', 'party-id-kmeans',\n       'job-id-kmeans', 'subject-id-kmeans', 'pos-id-fine',\n       'pos-id-fine-merged', 'pos-id-custom', 'dep-id-fine', 'dep-id-custom',\n       'statement-customswr', 'statement-spacyswr', 'job-id-jaccard',\n       'party-id-jaccard', 'context-id-jaccard', 'subject-id-jaccard',\n       'word-id-custom', 'word-id-spacy'],\n      dtype='object')"
     },
     "execution_count": 7,
     "metadata": {},
     "output_type": "execute_result"
    }
   ],
   "source": [
    "train_data.columns"
   ],
   "metadata": {
    "collapsed": false
   }
  },
  {
   "cell_type": "code",
   "execution_count": 206,
   "outputs": [],
   "source": [
    "# train_data = train_data.rename(columns={'job-title-id-kmeans': 'job-id-kmeans'})\n",
    "#\n",
    "# val_data = val_data.rename(columns=\n",
    "#                                {'preprocessed-context-clustered': 'context-id-kmeans',\n",
    "#                                 'preprocessed-job-title-clustered': 'job-id-kmeans',\n",
    "#                                 'preprocessed-party-clustered': 'party-id-kmeans',\n",
    "#                                 'preprocessed-subject-clustered': 'subject-id-kmeans'\n",
    "#                                 }\n",
    "#                                )\n",
    "#\n",
    "# test_data = test_data.rename(columns=\n",
    "#                                {'preprocessed-context-clustered': 'context-id-kmeans',\n",
    "#                                 'preprocessed-job-title-clustered': 'job-id-kmeans',\n",
    "#                                 'preprocessed-party-clustered': 'party-id-kmeans',\n",
    "#                                 'preprocessed-subject-clustered': 'subject-id-kmeans'\n",
    "#                                 }\n",
    "#                                )"
   ],
   "metadata": {
    "collapsed": false
   }
  },
  {
   "cell_type": "code",
   "execution_count": 207,
   "outputs": [
    {
     "data": {
      "text/plain": "Index(['index', 'id', 'label', 'statement', 'subject', 'speaker', 'job-title',\n       'party', 'barely-true-counts', 'false-counts', 'half-true-counts',\n       'mostly-true-counts', 'pants-on-fire-counts', 'context', 'output',\n       'preprocessed-subject', 'preprocessed-context', 'context-id-kmeans',\n       'preprocessed-job-title', 'preprocessed-party', 'party-id-kmeans',\n       'job-id-kmeans', 'subject-id-kmeans', 'pos-id-fine',\n       'pos-id-fine-merged', 'pos-id-custom', 'dep-id-fine', 'dep-id-custom',\n       'statement-customswr', 'statement-spacyswr', 'job-id-jaccard',\n       'party-id-jaccard', 'context-id-jaccard', 'subject-id-jaccard',\n       'word-id-custom', 'word-id-spacy'],\n      dtype='object')"
     },
     "execution_count": 207,
     "metadata": {},
     "output_type": "execute_result"
    }
   ],
   "source": [
    "# train_data.columns"
   ],
   "metadata": {
    "collapsed": false
   }
  },
  {
   "cell_type": "code",
   "execution_count": 8,
   "outputs": [],
   "source": [
    "## OUTPUT\n",
    "Y_train = train_data['output']\n",
    "Y_train = keras.utils.to_categorical(Y_train, num_classes=6)\n",
    "\n",
    "Y_val = val_data['output']\n",
    "Y_val = keras.utils.to_categorical(Y_val, num_classes=6)\n",
    "\n",
    "Y_test = test_data['output']\n",
    "Y_test = keras.utils.to_categorical(Y_test, num_classes=6)"
   ],
   "metadata": {
    "collapsed": false
   }
  },
  {
   "cell_type": "code",
   "execution_count": 209,
   "outputs": [
    {
     "data": {
      "text/plain": "   index          id        label  \\\n0      0   2635.json        false   \n1      1  10540.json    half-true   \n2      2    324.json  mostly-true   \n3      3   1123.json        false   \n4      4   9028.json    half-true   \n\n                                           statement  \\\n0  Says the Annies List political group supports ...   \n1  When did the decline of coal start? It started...   \n2  Hillary Clinton agrees with John McCain \"by vo...   \n3  Health care reform legislation is likely to ma...   \n4  The economic turnaround started at the end of ...   \n\n                              subject         speaker             job-title  \\\n0                            abortion    dwayne-bohac  State representative   \n1  energy,history,job-accomplishments  scott-surovell        State delegate   \n2                      foreign-policy    barack-obama             President   \n3                         health-care    blog-posting               unknown   \n4                        economy,jobs   charlie-crist               unknown   \n\n        party  barely-true-counts  false-counts  ...  \\\n0  republican                 0.0           1.0  ...   \n1    democrat                 0.0           0.0  ...   \n2    democrat                70.0          71.0  ...   \n3        none                 7.0          19.0  ...   \n4    democrat                15.0           9.0  ...   \n\n                                         dep-id-fine  \\\n0         [8, 8, 4, 4, 3, 1, 8, 3, 8, 7, 2, 8, 8, 8]   \n1  [8, 8, 8, 1, 8, 7, 8, 8, 1, 8, 8, 3, 1, 8, 8, ...   \n2  [7, 1, 8, 8, 7, 8, 8, 8, 8, 8, 8, 7, 8, 8, 2, ...   \n3            [7, 7, 7, 1, 8, 8, 8, 8, 3, 7, 7, 2, 8]   \n4                  [8, 3, 1, 8, 8, 8, 8, 8, 8, 8, 8]   \n\n                                       dep-id-custom  \\\n0      [7, 5, 11, 11, 8, 6, 11, 8, 1, 4, 9, 2, 3, 1]   \n1  [11, 7, 5, 6, 2, 4, 3, 1, 6, 7, 11, 8, 6, 11, ...   \n2  [4, 6, 7, 2, 4, 3, 1, 2, 11, 10, 11, 4, 11, 5,...   \n3         [4, 4, 4, 6, 7, 11, 10, 11, 8, 4, 4, 9, 1]   \n4                 [5, 8, 6, 7, 2, 5, 3, 2, 11, 3, 1]   \n\n                                 statement-customswr  \\\n0  say annies list political group support third ...   \n1  when do decline coal start start when natural ...   \n2  hillary clinton agree john mccain vote give ge...   \n3  health care reform legislation be likely manda...   \n4                 economic turnaround start end term   \n\n                                  statement-spacyswr  job-id-jaccard  \\\n0  say annies list political group support trimes...               2   \n1  decline coal start start natural gas take star...               6   \n2  hillary clinton agree john mccain vote george ...               2   \n3  health care reform legislation likely mandate ...               0   \n4                 economic turnaround start end term               0   \n\n  party-id-jaccard context-id-jaccard  subject-id-jaccard  \\\n0                0                 13                   2   \n1                1                  0                   5   \n2                1                  3                   5   \n3                2                  0                   0   \n4                1                  3                   6   \n\n                                      word-id-custom  \\\n0  [3, 5440, 717, 493, 396, 54, 274, 4039, 155, 1...   \n1  [37, 9, 804, 861, 308, 308, 37, 981, 254, 39, ...   \n2  [104, 69, 734, 160, 201, 18, 89, 262, 137, 258...   \n3  [19, 22, 209, 252, 1, 592, 406, 361, 439, 176,...   \n4                         [282, 3331, 308, 247, 248]   \n\n                                       word-id-spacy  \n0       [1, 5315, 633, 423, 332, 37, 3919, 120, 936]  \n1  [720, 773, 249, 249, 891, 204, 46, 249, 527, 1...  \n2  [74, 49, 649, 125, 157, 12, 212, 103, 208, 274...  \n3  [13, 16, 165, 202, 514, 342, 301, 372, 140, 2747]  \n4                         [224, 3208, 249, 198, 199]  \n\n[5 rows x 36 columns]",
      "text/html": "<div>\n<style scoped>\n    .dataframe tbody tr th:only-of-type {\n        vertical-align: middle;\n    }\n\n    .dataframe tbody tr th {\n        vertical-align: top;\n    }\n\n    .dataframe thead th {\n        text-align: right;\n    }\n</style>\n<table border=\"1\" class=\"dataframe\">\n  <thead>\n    <tr style=\"text-align: right;\">\n      <th></th>\n      <th>index</th>\n      <th>id</th>\n      <th>label</th>\n      <th>statement</th>\n      <th>subject</th>\n      <th>speaker</th>\n      <th>job-title</th>\n      <th>party</th>\n      <th>barely-true-counts</th>\n      <th>false-counts</th>\n      <th>...</th>\n      <th>dep-id-fine</th>\n      <th>dep-id-custom</th>\n      <th>statement-customswr</th>\n      <th>statement-spacyswr</th>\n      <th>job-id-jaccard</th>\n      <th>party-id-jaccard</th>\n      <th>context-id-jaccard</th>\n      <th>subject-id-jaccard</th>\n      <th>word-id-custom</th>\n      <th>word-id-spacy</th>\n    </tr>\n  </thead>\n  <tbody>\n    <tr>\n      <th>0</th>\n      <td>0</td>\n      <td>2635.json</td>\n      <td>false</td>\n      <td>Says the Annies List political group supports ...</td>\n      <td>abortion</td>\n      <td>dwayne-bohac</td>\n      <td>State representative</td>\n      <td>republican</td>\n      <td>0.0</td>\n      <td>1.0</td>\n      <td>...</td>\n      <td>[8, 8, 4, 4, 3, 1, 8, 3, 8, 7, 2, 8, 8, 8]</td>\n      <td>[7, 5, 11, 11, 8, 6, 11, 8, 1, 4, 9, 2, 3, 1]</td>\n      <td>say annies list political group support third ...</td>\n      <td>say annies list political group support trimes...</td>\n      <td>2</td>\n      <td>0</td>\n      <td>13</td>\n      <td>2</td>\n      <td>[3, 5440, 717, 493, 396, 54, 274, 4039, 155, 1...</td>\n      <td>[1, 5315, 633, 423, 332, 37, 3919, 120, 936]</td>\n    </tr>\n    <tr>\n      <th>1</th>\n      <td>1</td>\n      <td>10540.json</td>\n      <td>half-true</td>\n      <td>When did the decline of coal start? It started...</td>\n      <td>energy,history,job-accomplishments</td>\n      <td>scott-surovell</td>\n      <td>State delegate</td>\n      <td>democrat</td>\n      <td>0.0</td>\n      <td>0.0</td>\n      <td>...</td>\n      <td>[8, 8, 8, 1, 8, 7, 8, 8, 1, 8, 8, 3, 1, 8, 8, ...</td>\n      <td>[11, 7, 5, 6, 2, 4, 3, 1, 6, 7, 11, 8, 6, 11, ...</td>\n      <td>when do decline coal start start when natural ...</td>\n      <td>decline coal start start natural gas take star...</td>\n      <td>6</td>\n      <td>1</td>\n      <td>0</td>\n      <td>5</td>\n      <td>[37, 9, 804, 861, 308, 308, 37, 981, 254, 39, ...</td>\n      <td>[720, 773, 249, 249, 891, 204, 46, 249, 527, 1...</td>\n    </tr>\n    <tr>\n      <th>2</th>\n      <td>2</td>\n      <td>324.json</td>\n      <td>mostly-true</td>\n      <td>Hillary Clinton agrees with John McCain \"by vo...</td>\n      <td>foreign-policy</td>\n      <td>barack-obama</td>\n      <td>President</td>\n      <td>democrat</td>\n      <td>70.0</td>\n      <td>71.0</td>\n      <td>...</td>\n      <td>[7, 1, 8, 8, 7, 8, 8, 8, 8, 8, 8, 7, 8, 8, 2, ...</td>\n      <td>[4, 6, 7, 2, 4, 3, 1, 2, 11, 10, 11, 4, 11, 5,...</td>\n      <td>hillary clinton agree john mccain vote give ge...</td>\n      <td>hillary clinton agree john mccain vote george ...</td>\n      <td>2</td>\n      <td>1</td>\n      <td>3</td>\n      <td>5</td>\n      <td>[104, 69, 734, 160, 201, 18, 89, 262, 137, 258...</td>\n      <td>[74, 49, 649, 125, 157, 12, 212, 103, 208, 274...</td>\n    </tr>\n    <tr>\n      <th>3</th>\n      <td>3</td>\n      <td>1123.json</td>\n      <td>false</td>\n      <td>Health care reform legislation is likely to ma...</td>\n      <td>health-care</td>\n      <td>blog-posting</td>\n      <td>unknown</td>\n      <td>none</td>\n      <td>7.0</td>\n      <td>19.0</td>\n      <td>...</td>\n      <td>[7, 7, 7, 1, 8, 8, 8, 8, 3, 7, 7, 2, 8]</td>\n      <td>[4, 4, 4, 6, 7, 11, 10, 11, 8, 4, 4, 9, 1]</td>\n      <td>health care reform legislation be likely manda...</td>\n      <td>health care reform legislation likely mandate ...</td>\n      <td>0</td>\n      <td>2</td>\n      <td>0</td>\n      <td>0</td>\n      <td>[19, 22, 209, 252, 1, 592, 406, 361, 439, 176,...</td>\n      <td>[13, 16, 165, 202, 514, 342, 301, 372, 140, 2747]</td>\n    </tr>\n    <tr>\n      <th>4</th>\n      <td>4</td>\n      <td>9028.json</td>\n      <td>half-true</td>\n      <td>The economic turnaround started at the end of ...</td>\n      <td>economy,jobs</td>\n      <td>charlie-crist</td>\n      <td>unknown</td>\n      <td>democrat</td>\n      <td>15.0</td>\n      <td>9.0</td>\n      <td>...</td>\n      <td>[8, 3, 1, 8, 8, 8, 8, 8, 8, 8, 8]</td>\n      <td>[5, 8, 6, 7, 2, 5, 3, 2, 11, 3, 1]</td>\n      <td>economic turnaround start end term</td>\n      <td>economic turnaround start end term</td>\n      <td>0</td>\n      <td>1</td>\n      <td>3</td>\n      <td>6</td>\n      <td>[282, 3331, 308, 247, 248]</td>\n      <td>[224, 3208, 249, 198, 199]</td>\n    </tr>\n  </tbody>\n</table>\n<p>5 rows × 36 columns</p>\n</div>"
     },
     "execution_count": 209,
     "metadata": {},
     "output_type": "execute_result"
    }
   ],
   "source": [
    "# train_data.head()"
   ],
   "metadata": {
    "collapsed": false
   }
  },
  {
   "cell_type": "code",
   "execution_count": 9,
   "outputs": [
    {
     "data": {
      "text/plain": "0        [3, 5440, 717, 493, 396, 54, 274, 4039, 155, 1...\n1        [37, 9, 804, 861, 308, 308, 37, 981, 254, 39, ...\n2        [104, 69, 734, 160, 201, 18, 89, 262, 137, 258...\n3        [19, 22, 209, 252, 1, 592, 406, 361, 439, 176,...\n4                               [282, 3331, 308, 247, 248]\n                               ...                        \n10235    [1, 161, 133, 5206, 314, 84, 86, 1, 408, 212, ...\n10236       [157, 2, 52, 283, 213, 464, 1399, 653, 4, 389]\n10237    [3, 2024, 154, 110, 1205, 3983, 124, 38, 2, 42...\n10238       [1604, 28, 13, 2857, 3115, 4, 153, 1391, 1473]\n10239    [216, 1429, 2087, 2, 5142, 826, 494, 327, 441,...\nName: word-id-custom, Length: 10240, dtype: object"
     },
     "execution_count": 9,
     "metadata": {},
     "output_type": "execute_result"
    }
   ],
   "source": [
    "train_data['word-id-custom']"
   ],
   "metadata": {
    "collapsed": false
   }
  },
  {
   "cell_type": "markdown",
   "source": [
    "### POS INPUT DATA"
   ],
   "metadata": {
    "collapsed": false
   }
  },
  {
   "cell_type": "code",
   "execution_count": 210,
   "outputs": [
    {
     "data": {
      "text/plain": "0        [9, 16, 16, 12, 1, 10, 9, 1, 16, 10, 11, 16, 1...\n1        [16, 5, 16, 10, 16, 10, 10, 16, 16, 5, 16, 1, ...\n2        [12, 12, 9, 16, 12, 12, 16, 16, 6, 16, 4, 12, ...\n3         [10, 10, 10, 10, 9, 1, 16, 4, 1, 10, 10, 11, 16]\n4               [16, 1, 10, 5, 16, 16, 10, 16, 16, 10, 16]\n                               ...                        \n10235    [16, 8, 16, 2, 10, 16, 10, 11, 16, 12, 16, 16,...\n10236    [16, 8, 13, 7, 16, 10, 16, 16, 16, 12, 16, 12,...\n10237    [9, 16, 10, 16, 12, 12, 16, 9, 16, 12, 12, 16,...\n10238        [16, 6, 16, 12, 1, 10, 16, 6, 10, 16, 12, 16]\n10239    [16, 12, 16, 16, 16, 9, 16, 10, 13, 13, 6, 16,...\nName: pos-id-fine, Length: 10240, dtype: object"
     },
     "execution_count": 210,
     "metadata": {},
     "output_type": "execute_result"
    }
   ],
   "source": [
    "train_data['pos-id-fine']"
   ],
   "metadata": {
    "collapsed": false
   }
  },
  {
   "cell_type": "code",
   "execution_count": 211,
   "outputs": [
    {
     "data": {
      "text/plain": "0            [2, 15, 9, 9, 3, 1, 2, 3, 11, 1, 1, 5, 1, 11]\n1        [8, 2, 15, 1, 5, 1, 1, 11, 6, 2, 8, 3, 1, 2, 5...\n2        [9, 9, 2, 5, 9, 9, 11, 5, 2, 13, 2, 9, 9, 15, ...\n3               [1, 1, 1, 1, 12, 3, 13, 2, 3, 1, 1, 1, 11]\n4                     [15, 3, 1, 2, 5, 15, 1, 5, 6, 1, 11]\n                               ...                        \n10235    [6, 2, 15, 3, 1, 5, 1, 1, 5, 9, 8, 6, 2, 1, 5,...\n10236    [9, 12, 4, 2, 15, 1, 5, 15, 15, 9, 11, 9, 1, 1...\n10237    [2, 15, 1, 5, 9, 9, 6, 2, 5, 9, 9, 11, 9, 11, ...\n10238              [5, 2, 15, 9, 3, 1, 16, 2, 1, 5, 9, 11]\n10239    [15, 9, 5, 9, 9, 2, 15, 1, 4, 4, 2, 6, 1, 1, 5...\nName: pos-id-custom, Length: 10240, dtype: object"
     },
     "execution_count": 211,
     "metadata": {},
     "output_type": "execute_result"
    }
   ],
   "source": [
    "train_data['pos-id-custom']"
   ],
   "metadata": {
    "collapsed": false
   }
  },
  {
   "cell_type": "code",
   "execution_count": 153,
   "outputs": [
    {
     "name": "stdout",
     "output_type": "stream",
     "text": [
      "Rows with long sequences:\n",
      "      index         id        label  \\\n",
      "1280   1280  1606.json  mostly-true   \n",
      "2142   2142   638.json        false   \n",
      "6119   6119  1993.json         true   \n",
      "7550   7550  1720.json        false   \n",
      "\n",
      "                                              statement  \\\n",
      "1280  Hospitals, doctors, MRIs, surgeries and so for...   \n",
      "2142  The fact is that although we have had a presid...   \n",
      "6119  Georgia has the most restrictive ballot access...   \n",
      "7550  The vast majority of the money I got was from ...   \n",
      "\n",
      "                      subject        speaker              job-title  \\\n",
      "1280  elections,ethics,states  charlie-crist                unknown   \n",
      "2142                  unknown        unknown                unknown   \n",
      "6119                    crime     dan-gelber                unknown   \n",
      "7550  stimulus,transportation   bobby-jindal  Governor of Louisiana   \n",
      "\n",
      "           party  barely-true-counts  false-counts  ...  \\\n",
      "1280    democrat                15.0           9.0  ...   \n",
      "2142     unknown                 NaN           NaN  ...   \n",
      "6119    democrat                 2.0           2.0  ...   \n",
      "7550  republican                 0.0           1.0  ...   \n",
      "\n",
      "                                          pos-id-custom  \\\n",
      "1280  [1, 11, 1, 11, 9, 11, 1, 16, 4, 4, 12, 4, 4, 2...   \n",
      "2142  [15, 1, 12, 8, 8, 6, 12, 2, 15, 1, 6, 12, 2, 5...   \n",
      "6119  [9, 2, 15, 4, 3, 1, 1, 1, 5, 15, 1, 11, 16, 1,...   \n",
      "7550  [15, 3, 1, 5, 15, 1, 6, 2, 12, 5, 3, 1, 4, 5, ...   \n",
      "\n",
      "                                            dep-id-fine  \\\n",
      "1280  [1, 8, 6, 8, 6, 8, 6, 8, 8, 6, 8, 8, 8, 8, 8, ...   \n",
      "2142  [8, 1, 8, 8, 8, 1, 8, 8, 8, 2, 8, 8, 8, 8, 8, ...   \n",
      "6119  [1, 8, 8, 8, 3, 7, 7, 2, 8, 8, 8, 8, 8, 1, 8, ...   \n",
      "7550  [8, 3, 1, 8, 8, 8, 1, 8, 8, 8, 3, 8, 8, 8, 8, ...   \n",
      "\n",
      "                                          dep-id-custom  \\\n",
      "1280  [6, 1, 11, 1, 11, 1, 11, 11, 11, 11, 7, 11, 11...   \n",
      "2142  [5, 6, 7, 11, 11, 6, 10, 11, 5, 9, 11, 11, 11,...   \n",
      "6119  [6, 7, 5, 11, 8, 4, 4, 9, 2, 5, 3, 1, 11, 6, 1...   \n",
      "7550  [5, 8, 6, 2, 5, 3, 6, 11, 7, 2, 8, 3, 11, 2, 5...   \n",
      "\n",
      "                                    statement-customswr  \\\n",
      "1280  hospital doctor mris surgery and so forth be m...   \n",
      "2142  fact be that although have have president be o...   \n",
      "6119  georgia have most restrictive ballot access la...   \n",
      "7550  vast majority money get be small donor all cou...   \n",
      "\n",
      "                                     statement-spacyswr job-id-jaccard  \\\n",
      "1280  hospital doctor mris surgery forth extensively...              0   \n",
      "2142  fact president oppose abortion year abortion g...              0   \n",
      "6119  georgia restrictive ballot access law country ...              0   \n",
      "7550  vast majority money get small donor country ca...              7   \n",
      "\n",
      "     party-id-jaccard  context-id-jaccard subject-id-jaccard sequence_length  \n",
      "1280                1                  13                  0             786  \n",
      "2142                5                  11                 14             131  \n",
      "6119                1                   8                 14             400  \n",
      "7550                0                  13                  2             526  \n",
      "\n",
      "[4 rows x 35 columns]\n"
     ]
    }
   ],
   "source": [
    "# # Get the length of each list in a new column\n",
    "# train_data['sequence_length'] = train_data['pos-id-custom'].apply(len)\n",
    "#\n",
    "# # Find the rows with sequence length greater than a specified threshold (e.g., 100)\n",
    "# long_sequences = train_data[train_data['sequence_length'] > 100]\n",
    "#\n",
    "# # Display rows with long sequences\n",
    "# print(\"Rows with long sequences:\")\n",
    "# print(long_sequences)"
   ],
   "metadata": {
    "collapsed": false
   }
  },
  {
   "cell_type": "code",
   "execution_count": 160,
   "outputs": [
    {
     "ename": "KeyError",
     "evalue": "'word-id-customswr'",
     "output_type": "error",
     "traceback": [
      "\u001B[1;31m---------------------------------------------------------------------------\u001B[0m",
      "\u001B[1;31mKeyError\u001B[0m                                  Traceback (most recent call last)",
      "File \u001B[1;32m~\\anaconda3\\envs\\fyp\\lib\\site-packages\\pandas\\core\\indexes\\base.py:3803\u001B[0m, in \u001B[0;36mIndex.get_loc\u001B[1;34m(self, key, method, tolerance)\u001B[0m\n\u001B[0;32m   3802\u001B[0m \u001B[38;5;28;01mtry\u001B[39;00m:\n\u001B[1;32m-> 3803\u001B[0m     \u001B[38;5;28;01mreturn\u001B[39;00m \u001B[38;5;28;43mself\u001B[39;49m\u001B[38;5;241;43m.\u001B[39;49m\u001B[43m_engine\u001B[49m\u001B[38;5;241;43m.\u001B[39;49m\u001B[43mget_loc\u001B[49m\u001B[43m(\u001B[49m\u001B[43mcasted_key\u001B[49m\u001B[43m)\u001B[49m\n\u001B[0;32m   3804\u001B[0m \u001B[38;5;28;01mexcept\u001B[39;00m \u001B[38;5;167;01mKeyError\u001B[39;00m \u001B[38;5;28;01mas\u001B[39;00m err:\n",
      "File \u001B[1;32m~\\anaconda3\\envs\\fyp\\lib\\site-packages\\pandas\\_libs\\index.pyx:138\u001B[0m, in \u001B[0;36mpandas._libs.index.IndexEngine.get_loc\u001B[1;34m()\u001B[0m\n",
      "File \u001B[1;32m~\\anaconda3\\envs\\fyp\\lib\\site-packages\\pandas\\_libs\\index.pyx:165\u001B[0m, in \u001B[0;36mpandas._libs.index.IndexEngine.get_loc\u001B[1;34m()\u001B[0m\n",
      "File \u001B[1;32mpandas\\_libs\\hashtable_class_helper.pxi:5745\u001B[0m, in \u001B[0;36mpandas._libs.hashtable.PyObjectHashTable.get_item\u001B[1;34m()\u001B[0m\n",
      "File \u001B[1;32mpandas\\_libs\\hashtable_class_helper.pxi:5753\u001B[0m, in \u001B[0;36mpandas._libs.hashtable.PyObjectHashTable.get_item\u001B[1;34m()\u001B[0m\n",
      "\u001B[1;31mKeyError\u001B[0m: 'word-id-customswr'",
      "\nThe above exception was the direct cause of the following exception:\n",
      "\u001B[1;31mKeyError\u001B[0m                                  Traceback (most recent call last)",
      "Cell \u001B[1;32mIn[160], line 10\u001B[0m\n\u001B[0;32m      7\u001B[0m column_label \u001B[38;5;241m=\u001B[39m \u001B[38;5;124m'\u001B[39m\u001B[38;5;124mword-id-customswr\u001B[39m\u001B[38;5;124m'\u001B[39m\n\u001B[0;32m      9\u001B[0m \u001B[38;5;66;03m# Access the value at the specified row and column\u001B[39;00m\n\u001B[1;32m---> 10\u001B[0m cell_value \u001B[38;5;241m=\u001B[39m \u001B[43mtrain_data\u001B[49m\u001B[38;5;241;43m.\u001B[39;49m\u001B[43mat\u001B[49m\u001B[43m[\u001B[49m\u001B[43mrow_label\u001B[49m\u001B[43m,\u001B[49m\u001B[43m \u001B[49m\u001B[43mcolumn_label\u001B[49m\u001B[43m]\u001B[49m\n\u001B[0;32m     12\u001B[0m \u001B[38;5;28mprint\u001B[39m(\u001B[38;5;124m\"\u001B[39m\u001B[38;5;124mValue at row\u001B[39m\u001B[38;5;124m\"\u001B[39m, row_label, \u001B[38;5;124m\"\u001B[39m\u001B[38;5;124mand column\u001B[39m\u001B[38;5;124m\"\u001B[39m, column_label, \u001B[38;5;124m\"\u001B[39m\u001B[38;5;124m:\u001B[39m\u001B[38;5;124m\"\u001B[39m, cell_value)\n",
      "File \u001B[1;32m~\\anaconda3\\envs\\fyp\\lib\\site-packages\\pandas\\core\\indexing.py:2431\u001B[0m, in \u001B[0;36m_AtIndexer.__getitem__\u001B[1;34m(self, key)\u001B[0m\n\u001B[0;32m   2428\u001B[0m         \u001B[38;5;28;01mraise\u001B[39;00m \u001B[38;5;167;01mValueError\u001B[39;00m(\u001B[38;5;124m\"\u001B[39m\u001B[38;5;124mInvalid call for scalar access (getting)!\u001B[39m\u001B[38;5;124m\"\u001B[39m)\n\u001B[0;32m   2429\u001B[0m     \u001B[38;5;28;01mreturn\u001B[39;00m \u001B[38;5;28mself\u001B[39m\u001B[38;5;241m.\u001B[39mobj\u001B[38;5;241m.\u001B[39mloc[key]\n\u001B[1;32m-> 2431\u001B[0m \u001B[38;5;28;01mreturn\u001B[39;00m \u001B[38;5;28;43msuper\u001B[39;49m\u001B[43m(\u001B[49m\u001B[43m)\u001B[49m\u001B[38;5;241;43m.\u001B[39;49m\u001B[38;5;21;43m__getitem__\u001B[39;49m\u001B[43m(\u001B[49m\u001B[43mkey\u001B[49m\u001B[43m)\u001B[49m\n",
      "File \u001B[1;32m~\\anaconda3\\envs\\fyp\\lib\\site-packages\\pandas\\core\\indexing.py:2382\u001B[0m, in \u001B[0;36m_ScalarAccessIndexer.__getitem__\u001B[1;34m(self, key)\u001B[0m\n\u001B[0;32m   2379\u001B[0m         \u001B[38;5;28;01mraise\u001B[39;00m \u001B[38;5;167;01mValueError\u001B[39;00m(\u001B[38;5;124m\"\u001B[39m\u001B[38;5;124mInvalid call for scalar access (getting)!\u001B[39m\u001B[38;5;124m\"\u001B[39m)\n\u001B[0;32m   2381\u001B[0m key \u001B[38;5;241m=\u001B[39m \u001B[38;5;28mself\u001B[39m\u001B[38;5;241m.\u001B[39m_convert_key(key)\n\u001B[1;32m-> 2382\u001B[0m \u001B[38;5;28;01mreturn\u001B[39;00m \u001B[38;5;28;43mself\u001B[39;49m\u001B[38;5;241;43m.\u001B[39;49m\u001B[43mobj\u001B[49m\u001B[38;5;241;43m.\u001B[39;49m\u001B[43m_get_value\u001B[49m\u001B[43m(\u001B[49m\u001B[38;5;241;43m*\u001B[39;49m\u001B[43mkey\u001B[49m\u001B[43m,\u001B[49m\u001B[43m \u001B[49m\u001B[43mtakeable\u001B[49m\u001B[38;5;241;43m=\u001B[39;49m\u001B[38;5;28;43mself\u001B[39;49m\u001B[38;5;241;43m.\u001B[39;49m\u001B[43m_takeable\u001B[49m\u001B[43m)\u001B[49m\n",
      "File \u001B[1;32m~\\anaconda3\\envs\\fyp\\lib\\site-packages\\pandas\\core\\frame.py:3915\u001B[0m, in \u001B[0;36mDataFrame._get_value\u001B[1;34m(self, index, col, takeable)\u001B[0m\n\u001B[0;32m   3912\u001B[0m     series \u001B[38;5;241m=\u001B[39m \u001B[38;5;28mself\u001B[39m\u001B[38;5;241m.\u001B[39m_ixs(col, axis\u001B[38;5;241m=\u001B[39m\u001B[38;5;241m1\u001B[39m)\n\u001B[0;32m   3913\u001B[0m     \u001B[38;5;28;01mreturn\u001B[39;00m series\u001B[38;5;241m.\u001B[39m_values[index]\n\u001B[1;32m-> 3915\u001B[0m series \u001B[38;5;241m=\u001B[39m \u001B[38;5;28;43mself\u001B[39;49m\u001B[38;5;241;43m.\u001B[39;49m\u001B[43m_get_item_cache\u001B[49m\u001B[43m(\u001B[49m\u001B[43mcol\u001B[49m\u001B[43m)\u001B[49m\n\u001B[0;32m   3916\u001B[0m engine \u001B[38;5;241m=\u001B[39m \u001B[38;5;28mself\u001B[39m\u001B[38;5;241m.\u001B[39mindex\u001B[38;5;241m.\u001B[39m_engine\n\u001B[0;32m   3918\u001B[0m \u001B[38;5;28;01mif\u001B[39;00m \u001B[38;5;129;01mnot\u001B[39;00m \u001B[38;5;28misinstance\u001B[39m(\u001B[38;5;28mself\u001B[39m\u001B[38;5;241m.\u001B[39mindex, MultiIndex):\n\u001B[0;32m   3919\u001B[0m     \u001B[38;5;66;03m# CategoricalIndex: Trying to use the engine fastpath may give incorrect\u001B[39;00m\n\u001B[0;32m   3920\u001B[0m     \u001B[38;5;66;03m#  results if our categories are integers that dont match our codes\u001B[39;00m\n\u001B[0;32m   3921\u001B[0m     \u001B[38;5;66;03m# IntervalIndex: IntervalTree has no get_loc\u001B[39;00m\n",
      "File \u001B[1;32m~\\anaconda3\\envs\\fyp\\lib\\site-packages\\pandas\\core\\frame.py:4279\u001B[0m, in \u001B[0;36mDataFrame._get_item_cache\u001B[1;34m(self, item)\u001B[0m\n\u001B[0;32m   4274\u001B[0m res \u001B[38;5;241m=\u001B[39m cache\u001B[38;5;241m.\u001B[39mget(item)\n\u001B[0;32m   4275\u001B[0m \u001B[38;5;28;01mif\u001B[39;00m res \u001B[38;5;129;01mis\u001B[39;00m \u001B[38;5;28;01mNone\u001B[39;00m:\n\u001B[0;32m   4276\u001B[0m     \u001B[38;5;66;03m# All places that call _get_item_cache have unique columns,\u001B[39;00m\n\u001B[0;32m   4277\u001B[0m     \u001B[38;5;66;03m#  pending resolution of GH#33047\u001B[39;00m\n\u001B[1;32m-> 4279\u001B[0m     loc \u001B[38;5;241m=\u001B[39m \u001B[38;5;28;43mself\u001B[39;49m\u001B[38;5;241;43m.\u001B[39;49m\u001B[43mcolumns\u001B[49m\u001B[38;5;241;43m.\u001B[39;49m\u001B[43mget_loc\u001B[49m\u001B[43m(\u001B[49m\u001B[43mitem\u001B[49m\u001B[43m)\u001B[49m\n\u001B[0;32m   4280\u001B[0m     res \u001B[38;5;241m=\u001B[39m \u001B[38;5;28mself\u001B[39m\u001B[38;5;241m.\u001B[39m_ixs(loc, axis\u001B[38;5;241m=\u001B[39m\u001B[38;5;241m1\u001B[39m)\n\u001B[0;32m   4282\u001B[0m     cache[item] \u001B[38;5;241m=\u001B[39m res\n",
      "File \u001B[1;32m~\\anaconda3\\envs\\fyp\\lib\\site-packages\\pandas\\core\\indexes\\base.py:3805\u001B[0m, in \u001B[0;36mIndex.get_loc\u001B[1;34m(self, key, method, tolerance)\u001B[0m\n\u001B[0;32m   3803\u001B[0m     \u001B[38;5;28;01mreturn\u001B[39;00m \u001B[38;5;28mself\u001B[39m\u001B[38;5;241m.\u001B[39m_engine\u001B[38;5;241m.\u001B[39mget_loc(casted_key)\n\u001B[0;32m   3804\u001B[0m \u001B[38;5;28;01mexcept\u001B[39;00m \u001B[38;5;167;01mKeyError\u001B[39;00m \u001B[38;5;28;01mas\u001B[39;00m err:\n\u001B[1;32m-> 3805\u001B[0m     \u001B[38;5;28;01mraise\u001B[39;00m \u001B[38;5;167;01mKeyError\u001B[39;00m(key) \u001B[38;5;28;01mfrom\u001B[39;00m \u001B[38;5;21;01merr\u001B[39;00m\n\u001B[0;32m   3806\u001B[0m \u001B[38;5;28;01mexcept\u001B[39;00m \u001B[38;5;167;01mTypeError\u001B[39;00m:\n\u001B[0;32m   3807\u001B[0m     \u001B[38;5;66;03m# If we have a listlike key, _check_indexing_error will raise\u001B[39;00m\n\u001B[0;32m   3808\u001B[0m     \u001B[38;5;66;03m#  InvalidIndexError. Otherwise we fall through and re-raise\u001B[39;00m\n\u001B[0;32m   3809\u001B[0m     \u001B[38;5;66;03m#  the TypeError.\u001B[39;00m\n\u001B[0;32m   3810\u001B[0m     \u001B[38;5;28mself\u001B[39m\u001B[38;5;241m.\u001B[39m_check_indexing_error(key)\n",
      "\u001B[1;31mKeyError\u001B[0m: 'word-id-customswr'"
     ]
    }
   ],
   "source": [
    "# import pandas as pd\n",
    "#\n",
    "# # Specify the row label and column label\n",
    "# row_label = 1280\n",
    "# column_label = 'word-id-customswr'\n",
    "#\n",
    "# # Access the value at the specified row and column\n",
    "# cell_value = train_data.at[row_label, column_label]\n",
    "#\n",
    "# print(\"Value at row\", row_label, \"and column\", column_label, \":\", cell_value)\n"
   ],
   "metadata": {
    "collapsed": false
   }
  },
  {
   "cell_type": "code",
   "execution_count": 16,
   "outputs": [
    {
     "name": "stdout",
     "output_type": "stream",
     "text": [
      "Max sequence length: 786\n"
     ]
    }
   ],
   "source": [
    "train_data['sequence-length'] = train_data['pos-id-fine'].apply(len)\n",
    "\n",
    "# Find the maximum sequence length\n",
    "max_sequence_length = train_data['sequence-length'].max()\n",
    "\n",
    "print(\"Max sequence length:\", max_sequence_length)"
   ],
   "metadata": {
    "collapsed": false
   }
  },
  {
   "cell_type": "code",
   "execution_count": 17,
   "outputs": [
    {
     "data": {
      "text/plain": "20.67294921875"
     },
     "execution_count": 17,
     "metadata": {},
     "output_type": "execute_result"
    }
   ],
   "source": [
    "# Find the maximum length of the sequences\n",
    "# max_len = max(train_data['pos-id-custom'].apply(len).max()) # NOT APPLICABLE DUE TO ERROR IN ORIGINAL DATA\n",
    "\n",
    "# avg length\n",
    "train_data['sequence-length'].mean() # instead, use mean to determine padding size"
   ],
   "metadata": {
    "collapsed": false
   }
  },
  {
   "cell_type": "markdown",
   "source": [
    "# SET INPUT TENSORS"
   ],
   "metadata": {
    "collapsed": false
   }
  },
  {
   "cell_type": "markdown",
   "source": [
    "## POS, DEP Tensors"
   ],
   "metadata": {
    "collapsed": false
   }
  },
  {
   "cell_type": "code",
   "execution_count": 19,
   "outputs": [],
   "source": [
    "pad_len = 25\n",
    "\n",
    "# pad sequences for custom POS\n",
    "X_train_pos_custom = pad_sequences(train_data['pos-id-custom'], maxlen=pad_len, padding='post', truncating='post')\n",
    "X_val_pos_custom = pad_sequences(val_data['pos-id-custom'], maxlen=pad_len, padding='post', truncating='post')\n",
    "X_test_pos_custom = pad_sequences(test_data['pos-id-custom'], maxlen=pad_len, padding='post', truncating='post')\n",
    "\n",
    "# fine POS\n",
    "X_train_pos_fine = pad_sequences(train_data['pos-id-fine'], maxlen=pad_len, padding='post', truncating='post')\n",
    "X_val_pos_fine = pad_sequences(val_data['pos-id-fine'], maxlen=pad_len, padding='post', truncating='post')\n",
    "X_test_pos_fine = pad_sequences(test_data['pos-id-fine'], maxlen=pad_len, padding='post', truncating='post')\n",
    "\n",
    "# fine pos merged\n",
    "X_train_pos_finemerge = pad_sequences(train_data['pos-id-fine-merged'], maxlen=pad_len, padding='post', truncating='post')\n",
    "X_val_pos_finemerge = pad_sequences(val_data['pos-id-fine-merged'], maxlen=pad_len, padding='post', truncating='post')\n",
    "X_test_pos_finemerge = pad_sequences(test_data['pos-id-fine-merged'], maxlen=pad_len, padding='post', truncating='post')"
   ],
   "metadata": {
    "collapsed": false
   }
  },
  {
   "cell_type": "code",
   "execution_count": 20,
   "outputs": [],
   "source": [
    "# custom dep\n",
    "X_train_dep_custom = pad_sequences(train_data['dep-id-custom'], maxlen=pad_len, padding='post', truncating='post')\n",
    "X_val_dep_custom = pad_sequences(val_data['dep-id-custom'], maxlen=pad_len, padding='post', truncating='post')\n",
    "X_test_dep_custom = pad_sequences(test_data['dep-id-custom'], maxlen=pad_len, padding='post', truncating='post')\n",
    "\n",
    "# fine dep\n",
    "X_train_dep_fine = pad_sequences(train_data['dep-id-fine'], maxlen=pad_len, padding='post', truncating='post')\n",
    "X_val_dep_fine = pad_sequences(val_data['dep-id-fine'], maxlen=pad_len, padding='post', truncating='post')\n",
    "X_test_dep_fine = pad_sequences(test_data['dep-id-fine'], maxlen=pad_len, padding='post', truncating='post')"
   ],
   "metadata": {
    "collapsed": false
   }
  },
  {
   "cell_type": "code",
   "execution_count": 21,
   "outputs": [],
   "source": [
    "# custom word\n",
    "X_train_custom = pad_sequences(train_data['word-id-custom'], maxlen=pad_len, padding='post', truncating='post')\n",
    "X_val_custom = pad_sequences(val_data['word-id-custom'], maxlen=pad_len, padding='post', truncating='post')\n",
    "X_test_custom = pad_sequences(test_data['word-id-custom'], maxlen=pad_len, padding='post', truncating='post')\n",
    "\n",
    "# spacy word\n",
    "X_train_spacy = pad_sequences(train_data['word-id-spacy'], maxlen=pad_len, padding='post', truncating='post')\n",
    "X_val_spacy = pad_sequences(val_data['word-id-spacy'], maxlen=pad_len, padding='post', truncating='post')\n",
    "X_test_spacy = pad_sequences(test_data['word-id-spacy'], maxlen=pad_len, padding='post', truncating='post')"
   ],
   "metadata": {
    "collapsed": false
   }
  },
  {
   "cell_type": "code",
   "execution_count": 22,
   "outputs": [
    {
     "data": {
      "text/plain": "10240"
     },
     "execution_count": 22,
     "metadata": {},
     "output_type": "execute_result"
    }
   ],
   "source": [
    "len(X_train_spacy)"
   ],
   "metadata": {
    "collapsed": false
   }
  },
  {
   "cell_type": "code",
   "execution_count": 23,
   "outputs": [
    {
     "data": {
      "text/plain": "15"
     },
     "execution_count": 23,
     "metadata": {},
     "output_type": "execute_result"
    }
   ],
   "source": [
    "len(pos_dict_custom)"
   ],
   "metadata": {
    "collapsed": false
   }
  },
  {
   "cell_type": "markdown",
   "source": [
    "## META Tensors"
   ],
   "metadata": {
    "collapsed": false
   }
  },
  {
   "cell_type": "code",
   "execution_count": 25,
   "outputs": [
    {
     "data": {
      "text/plain": "6     4286\n7      980\n9      737\n5      705\n2      667\n4      666\n1      654\n3      322\n10     314\n0      284\n8      222\n11     213\n12     190\nName: context-id-kmeans, dtype: int64"
     },
     "execution_count": 25,
     "metadata": {},
     "output_type": "execute_result"
    }
   ],
   "source": [
    "train_data['context-id-kmeans'].value_counts()"
   ],
   "metadata": {
    "collapsed": false
   }
  },
  {
   "cell_type": "code",
   "execution_count": 24,
   "outputs": [
    {
     "data": {
      "text/plain": "8"
     },
     "execution_count": 24,
     "metadata": {},
     "output_type": "execute_result"
    }
   ],
   "source": [
    "train_data['job-id-kmeans'].nunique()"
   ],
   "metadata": {
    "collapsed": false
   }
  },
  {
   "cell_type": "code",
   "execution_count": 26,
   "outputs": [],
   "source": [
    "# One-hot encode the metadata columns\n",
    "\n",
    "# train sets\n",
    "context_id_kmeans_encoded = to_categorical(train_data['context-id-kmeans'], num_classes=train_data['context-id-kmeans'].nunique())\n",
    "subject_id_kmeans_encoded = to_categorical(train_data['subject-id-kmeans'], num_classes=train_data['subject-id-kmeans'].nunique())\n",
    "job_id_kmeans_encoded = to_categorical(train_data['job-id-kmeans'], num_classes=train_data['job-id-kmeans'].nunique())\n",
    "party_id_kmeans_encoded = to_categorical(train_data['party-id-kmeans'], num_classes=train_data['party-id-kmeans'].nunique())\n",
    "\n",
    "context_id_jaccard_encoded = to_categorical(train_data['context-id-jaccard'], num_classes=train_data['context-id-jaccard'].nunique())\n",
    "subject_id_jaccard_encoded = to_categorical(train_data['subject-id-jaccard'], num_classes=train_data['subject-id-jaccard'].nunique())\n",
    "job_id_jaccard_encoded = to_categorical(train_data['job-id-jaccard'], num_classes=train_data['job-id-jaccard'].nunique())\n",
    "party_id_jaccard_encoded = to_categorical(train_data['party-id-jaccard'], num_classes=train_data['party-id-jaccard'].nunique())\n",
    "\n",
    "# validation sets\n",
    "val_context_id_kmeans_encoded = to_categorical(val_data['context-id-kmeans'], num_classes=val_data['context-id-kmeans'].nunique())\n",
    "val_subject_id_kmeans_encoded = to_categorical(val_data['subject-id-kmeans'], num_classes=val_data['subject-id-kmeans'].nunique())\n",
    "val_job_id_kmeans_encoded = to_categorical(val_data['job-id-kmeans'], num_classes=val_data['job-id-kmeans'].nunique())\n",
    "val_party_id_kmeans_encoded = to_categorical(val_data['party-id-kmeans'], num_classes=val_data['party-id-kmeans'].nunique())\n",
    "\n",
    "val_context_id_jaccard_encoded = to_categorical(val_data['context-id-jaccard'], num_classes=val_data['context-id-jaccard'].nunique())\n",
    "val_subject_id_jaccard_encoded = to_categorical(val_data['subject-id-jaccard'], num_classes=val_data['subject-id-jaccard'].nunique())\n",
    "val_job_id_jaccard_encoded = to_categorical(val_data['job-id-jaccard'], num_classes=val_data['job-id-jaccard'].nunique())\n",
    "val_party_id_jaccard_encoded = to_categorical(val_data['party-id-jaccard'], num_classes=val_data['party-id-jaccard'].nunique())\n",
    "\n",
    "# test sets\n",
    "test_context_id_kmeans_encoded = to_categorical(test_data['context-id-kmeans'], num_classes=test_data['context-id-kmeans'].nunique())\n",
    "test_subject_id_kmeans_encoded = to_categorical(test_data['subject-id-kmeans'], num_classes=test_data['subject-id-kmeans'].nunique())\n",
    "test_job_id_kmeans_encoded = to_categorical(test_data['job-id-kmeans'], num_classes=test_data['job-id-kmeans'].nunique())\n",
    "test_party_id_kmeans_encoded = to_categorical(test_data['party-id-kmeans'], num_classes=test_data['party-id-kmeans'].nunique())\n",
    "\n",
    "test_context_id_jaccard_encoded = to_categorical(test_data['context-id-jaccard'], num_classes=test_data['context-id-jaccard'].nunique())\n",
    "test_subject_id_jaccard_encoded = to_categorical(test_data['subject-id-jaccard'], num_classes=test_data['subject-id-jaccard'].nunique())\n",
    "test_job_id_jaccard_encoded = to_categorical(test_data['job-id-jaccard'], num_classes=test_data['job-id-jaccard'].nunique())\n",
    "test_party_id_jaccard_encoded = to_categorical(test_data['party-id-jaccard'], num_classes=test_data['party-id-jaccard'].nunique())"
   ],
   "metadata": {
    "collapsed": false
   }
  },
  {
   "cell_type": "code",
   "execution_count": 27,
   "outputs": [],
   "source": [
    "# Concatenate the one-hot encoded categorical columns for each comparison case:\n",
    "# K-means comparison\n",
    "X_train_meta_kmeans = np.hstack((context_id_kmeans_encoded, subject_id_kmeans_encoded, job_id_kmeans_encoded, party_id_kmeans_encoded))\n",
    "X_val_meta_kmeans = np.hstack((val_context_id_kmeans_encoded, val_subject_id_kmeans_encoded, val_job_id_kmeans_encoded, val_party_id_kmeans_encoded))\n",
    "X_test_meta_kmeans = np.hstack((test_context_id_kmeans_encoded, test_subject_id_kmeans_encoded, test_job_id_kmeans_encoded, test_party_id_kmeans_encoded))\n",
    "\n",
    "# Jaccard comparison\n",
    "X_train_meta_jaccard = np.hstack((context_id_jaccard_encoded, subject_id_jaccard_encoded, job_id_jaccard_encoded, party_id_jaccard_encoded))\n",
    "X_val_meta_jaccard = np.hstack((val_context_id_jaccard_encoded, val_subject_id_jaccard_encoded, val_job_id_jaccard_encoded, val_party_id_jaccard_encoded))\n",
    "X_test_meta_jaccard = np.hstack((test_context_id_jaccard_encoded, test_subject_id_jaccard_encoded, test_job_id_jaccard_encoded, test_party_id_jaccard_encoded))"
   ],
   "metadata": {
    "collapsed": false
   }
  },
  {
   "cell_type": "markdown",
   "source": [
    "# TRAINING, TESTING"
   ],
   "metadata": {
    "collapsed": false
   }
  },
  {
   "cell_type": "code",
   "execution_count": 28,
   "outputs": [],
   "source": [
    "def create_dense_model(input_shape, num_classes, learning_rate):\n",
    "    inputs = Input(shape=input_shape)\n",
    "    dense = Dense(512, activation='relu', kernel_regularizer=l2(0.001))(inputs)\n",
    "    dense = Dense(256, activation='relu', kernel_regularizer=l2(0.001))(dense)\n",
    "    dense = Dense(256, activation='relu', kernel_regularizer=l2(0.001))(dense)\n",
    "    dense = Dropout(0.5)(dense)\n",
    "    dense = Dense(256, activation='relu', kernel_regularizer=l2(0.001))(dense)\n",
    "    dense = Dense(64, activation='relu', kernel_regularizer=l2(0.001))(dense)\n",
    "    dense = Dense(64, activation='relu', kernel_regularizer=l2(0.001))(dense)\n",
    "    dense = Dense(64, activation='relu', kernel_regularizer=l2(0.001))(dense)\n",
    "    dense = Dropout(0.5)(dense)\n",
    "    output = Dense(num_classes, activation='softmax', kernel_regularizer=l2(0.001))(dense)\n",
    "    model = Model(inputs=inputs, outputs=output)\n",
    "\n",
    "    optimizer = Adam(learning_rate=learning_rate)\n",
    "    model.compile(optimizer=optimizer, loss='categorical_crossentropy', metrics=['accuracy'])\n",
    "    return model"
   ],
   "metadata": {
    "collapsed": false
   }
  },
  {
   "cell_type": "code",
   "execution_count": 84,
   "outputs": [],
   "source": [
    "def plot_matrix(predictions):\n",
    "    \"\"\"\n",
    "    Makes predictions on test set + calculates performance metrics + plots confusion matrix\n",
    "    :param predictions:\n",
    "    :return:\n",
    "    \"\"\"\n",
    "    # Convert the predictions to class labels\n",
    "    predicted_labels = np.argmax(predictions, axis=1)\n",
    "\n",
    "    true_labels = np.argmax(Y_test, axis=1)\n",
    "\n",
    "    # Calculate the accuracy\n",
    "    accuracy = accuracy_score(true_labels, predicted_labels)\n",
    "    print(f'Test set accuracy: {accuracy:.2f}')\n",
    "\n",
    "    # Calculate the precision\n",
    "    precision = precision_score(true_labels, predicted_labels, average='weighted', zero_division=0)\n",
    "    print(f'Test set precision: {precision:.2f}')\n",
    "\n",
    "    # Calculate the recall\n",
    "    recall = recall_score(true_labels, predicted_labels, average='weighted')\n",
    "    print(f'Test set recall: {recall:.2f}')\n",
    "\n",
    "    # Calculate the F1 score\n",
    "    f1 = f1_score(true_labels, predicted_labels, average='weighted')\n",
    "    print(f'Test set F1 score: {f1:.2f}')\n",
    "\n",
    "    # Calculate the confusion matrix\n",
    "    conf_mat = confusion_matrix(true_labels, predicted_labels)\n",
    "\n",
    "    print(conf_mat)\n",
    "\n",
    "    # Plot the confusion matrix using seaborn\n",
    "    plt.figure(figsize=(8, 6))\n",
    "    sns.heatmap(conf_mat, annot=True, fmt='d', cmap=\"Blues\", xticklabels=np.unique(true_labels), yticklabels=np.unique(true_labels))\n",
    "    plt.xlabel('Predicted labels')\n",
    "    plt.ylabel('True labels')\n",
    "    plt.title('Confusion Matrix')\n",
    "    plt.show()"
   ],
   "metadata": {
    "collapsed": false
   }
  },
  {
   "cell_type": "markdown",
   "source": [
    "## K-MEANS"
   ],
   "metadata": {
    "collapsed": false
   }
  },
  {
   "cell_type": "code",
   "execution_count": 32,
   "outputs": [
    {
     "name": "stdout",
     "output_type": "stream",
     "text": [
      "Epoch 1/150\n",
      "80/80 [==============================] - 2s 10ms/step - loss: 2.5873 - accuracy: 0.2002 - val_loss: 2.2958 - val_accuracy: 0.2118\n",
      "Epoch 2/150\n",
      "80/80 [==============================] - 0s 5ms/step - loss: 2.1296 - accuracy: 0.2057 - val_loss: 2.0136 - val_accuracy: 0.2142\n",
      "Epoch 3/150\n",
      "80/80 [==============================] - 0s 5ms/step - loss: 1.9369 - accuracy: 0.2101 - val_loss: 1.9005 - val_accuracy: 0.2235\n",
      "Epoch 4/150\n",
      "80/80 [==============================] - 0s 5ms/step - loss: 1.8552 - accuracy: 0.2209 - val_loss: 1.8469 - val_accuracy: 0.2274\n",
      "Epoch 5/150\n",
      "80/80 [==============================] - 0s 5ms/step - loss: 1.8155 - accuracy: 0.2241 - val_loss: 1.8217 - val_accuracy: 0.2336\n",
      "Epoch 6/150\n",
      "80/80 [==============================] - 0s 5ms/step - loss: 1.7972 - accuracy: 0.2240 - val_loss: 1.8082 - val_accuracy: 0.2188\n",
      "Epoch 7/150\n",
      "80/80 [==============================] - 0s 5ms/step - loss: 1.7825 - accuracy: 0.2233 - val_loss: 1.8058 - val_accuracy: 0.2290\n",
      "Epoch 8/150\n",
      "80/80 [==============================] - 0s 5ms/step - loss: 1.7765 - accuracy: 0.2268 - val_loss: 1.7965 - val_accuracy: 0.2243\n",
      "Epoch 9/150\n",
      "80/80 [==============================] - 0s 5ms/step - loss: 1.7717 - accuracy: 0.2213 - val_loss: 1.7911 - val_accuracy: 0.2274\n",
      "Epoch 10/150\n",
      "80/80 [==============================] - 0s 5ms/step - loss: 1.7675 - accuracy: 0.2224 - val_loss: 1.7947 - val_accuracy: 0.2305\n",
      "Epoch 11/150\n",
      "80/80 [==============================] - 0s 6ms/step - loss: 1.7643 - accuracy: 0.2298 - val_loss: 1.7852 - val_accuracy: 0.2313\n",
      "Epoch 12/150\n",
      "80/80 [==============================] - 0s 5ms/step - loss: 1.7618 - accuracy: 0.2289 - val_loss: 1.7812 - val_accuracy: 0.2329\n",
      "Epoch 13/150\n",
      "80/80 [==============================] - 0s 5ms/step - loss: 1.7619 - accuracy: 0.2234 - val_loss: 1.7873 - val_accuracy: 0.2313\n",
      "Epoch 14/150\n",
      "80/80 [==============================] - 0s 4ms/step - loss: 1.7564 - accuracy: 0.2262 - val_loss: 1.8049 - val_accuracy: 0.2196\n",
      "Epoch 15/150\n",
      "80/80 [==============================] - 0s 4ms/step - loss: 1.7551 - accuracy: 0.2262 - val_loss: 1.7845 - val_accuracy: 0.2188\n",
      "Epoch 16/150\n",
      "80/80 [==============================] - 0s 4ms/step - loss: 1.7547 - accuracy: 0.2327 - val_loss: 1.7859 - val_accuracy: 0.2305\n",
      "Epoch 17/150\n",
      "80/80 [==============================] - 0s 5ms/step - loss: 1.7542 - accuracy: 0.2274 - val_loss: 1.7846 - val_accuracy: 0.2251\n",
      "Epoch 18/150\n",
      "80/80 [==============================] - 0s 4ms/step - loss: 1.7532 - accuracy: 0.2326 - val_loss: 1.7895 - val_accuracy: 0.2298\n",
      "Epoch 19/150\n",
      "80/80 [==============================] - 0s 5ms/step - loss: 1.7510 - accuracy: 0.2378 - val_loss: 1.7833 - val_accuracy: 0.2266\n",
      "Epoch 20/150\n",
      "80/80 [==============================] - 0s 5ms/step - loss: 1.7506 - accuracy: 0.2301 - val_loss: 1.7797 - val_accuracy: 0.2150\n",
      "Epoch 21/150\n",
      "80/80 [==============================] - 0s 4ms/step - loss: 1.7494 - accuracy: 0.2310 - val_loss: 1.7844 - val_accuracy: 0.2266\n",
      "Epoch 22/150\n",
      "80/80 [==============================] - 0s 5ms/step - loss: 1.7478 - accuracy: 0.2353 - val_loss: 1.7791 - val_accuracy: 0.2204\n",
      "Epoch 23/150\n",
      "80/80 [==============================] - 0s 4ms/step - loss: 1.7466 - accuracy: 0.2280 - val_loss: 1.7804 - val_accuracy: 0.2235\n",
      "Epoch 24/150\n",
      "80/80 [==============================] - 0s 4ms/step - loss: 1.7457 - accuracy: 0.2340 - val_loss: 1.7841 - val_accuracy: 0.2243\n",
      "Epoch 25/150\n",
      "80/80 [==============================] - 0s 4ms/step - loss: 1.7437 - accuracy: 0.2335 - val_loss: 1.7948 - val_accuracy: 0.2235\n",
      "Epoch 26/150\n",
      "80/80 [==============================] - 0s 4ms/step - loss: 1.7466 - accuracy: 0.2345 - val_loss: 1.7922 - val_accuracy: 0.2282\n",
      "Epoch 27/150\n",
      "80/80 [==============================] - 0s 5ms/step - loss: 1.7432 - accuracy: 0.2312 - val_loss: 1.7876 - val_accuracy: 0.2251\n",
      "Epoch 28/150\n",
      "80/80 [==============================] - 0s 4ms/step - loss: 1.7442 - accuracy: 0.2311 - val_loss: 1.7828 - val_accuracy: 0.2235\n",
      "Epoch 29/150\n",
      "80/80 [==============================] - 0s 4ms/step - loss: 1.7413 - accuracy: 0.2381 - val_loss: 1.7865 - val_accuracy: 0.2235\n",
      "Epoch 30/150\n",
      "80/80 [==============================] - 0s 5ms/step - loss: 1.7402 - accuracy: 0.2355 - val_loss: 1.7809 - val_accuracy: 0.2188\n",
      "Epoch 31/150\n",
      "80/80 [==============================] - 0s 5ms/step - loss: 1.7403 - accuracy: 0.2411 - val_loss: 1.7886 - val_accuracy: 0.2212\n",
      "Epoch 32/150\n",
      "80/80 [==============================] - 0s 5ms/step - loss: 1.7436 - accuracy: 0.2336 - val_loss: 1.7853 - val_accuracy: 0.2165\n"
     ]
    },
    {
     "data": {
      "text/plain": "<keras.callbacks.History at 0x269cba21730>"
     },
     "execution_count": 32,
     "metadata": {},
     "output_type": "execute_result"
    }
   ],
   "source": [
    "# LR 0.0005 sbo T rbw T Adam PAD LEN 25\n",
    "\n",
    "num_classes = 6\n",
    "model_checkpoint_kmeans = ModelCheckpoint(filepath='best_model_kmeans.h5', monitor='val_loss', save_best_only=True)\n",
    "early_stopping = EarlyStopping(monitor='val_loss', patience=10, restore_best_weights=True)\n",
    "learning_rate = 0.0005\n",
    "dense_model_kmeans = create_dense_model(X_train_meta_kmeans.shape[1], num_classes, learning_rate)\n",
    "dense_model_kmeans.fit(X_train_meta_kmeans, Y_train, epochs=150, batch_size=128, validation_data=(X_val_meta_kmeans, Y_val), callbacks=[early_stopping, model_checkpoint_kmeans])"
   ],
   "metadata": {
    "collapsed": false
   }
  },
  {
   "cell_type": "code",
   "execution_count": 85,
   "outputs": [
    {
     "name": "stdout",
     "output_type": "stream",
     "text": [
      "40/40 [==============================] - 0s 1ms/step\n",
      "Test set accuracy: 0.18\n",
      "Test set precision: 0.10\n",
      "Test set recall: 0.18\n",
      "Test set F1 score: 0.12\n",
      "[[  0  39   0  15  38   0]\n",
      " [  0 143   0  51  55   0]\n",
      " [  0 126   0  40  46   0]\n",
      " [  0 172   0  47  46   0]\n",
      " [  0 135   0  73  33   0]\n",
      " [  0 130   0  40  38   0]]\n"
     ]
    },
    {
     "data": {
      "text/plain": "<Figure size 800x600 with 2 Axes>",
      "image/png": "[encoded data removed]"
     },
     "metadata": {},
     "output_type": "display_data"
    }
   ],
   "source": [
    "# Load the best model from the saved checkpoint\n",
    "best_model_kmeans = load_model('best_model_kmeans.h5')\n",
    "\n",
    "# Make predictions using the best model\n",
    "dense_model_kmeans_predictions = best_model_kmeans.predict(X_test_meta_kmeans)\n",
    "\n",
    "plot_matrix(dense_model_kmeans_predictions)"
   ],
   "metadata": {
    "collapsed": false
   }
  },
  {
   "cell_type": "code",
   "execution_count": 108,
   "outputs": [
    {
     "name": "stdout",
     "output_type": "stream",
     "text": [
      "Test set accuracy: 0.20\n"
     ]
    }
   ],
   "source": [
    "# from sklearn.metrics import accuracy_score\n",
    "#\n",
    "# # Assuming you have the true labels of the test set in a variable called `Y_test`\n",
    "# true_labels = np.argmax(Y_test, axis=1)\n",
    "#\n",
    "# # Calculate the accuracy\n",
    "# accuracy = accuracy_score(true_labels, predicted_labels)\n",
    "# print(f'Test set accuracy: {accuracy:.2f}')\n"
   ],
   "metadata": {
    "collapsed": false
   }
  },
  {
   "cell_type": "code",
   "execution_count": 106,
   "outputs": [
    {
     "name": "stdout",
     "output_type": "stream",
     "text": [
      "Epoch 1/150\n",
      "80/80 [==============================] - 2s 8ms/step - loss: 2.6137 - accuracy: 0.1997 - val_loss: 2.3408 - val_accuracy: 0.1931\n",
      "Epoch 2/150\n",
      "80/80 [==============================] - 0s 5ms/step - loss: 2.1733 - accuracy: 0.2125 - val_loss: 2.0611 - val_accuracy: 0.2142\n",
      "Epoch 3/150\n",
      "80/80 [==============================] - 0s 5ms/step - loss: 1.9764 - accuracy: 0.2183 - val_loss: 1.9325 - val_accuracy: 0.2305\n",
      "Epoch 4/150\n",
      "80/80 [==============================] - 0s 5ms/step - loss: 1.8861 - accuracy: 0.2166 - val_loss: 1.8772 - val_accuracy: 0.2204\n",
      "Epoch 5/150\n",
      "80/80 [==============================] - 0s 5ms/step - loss: 1.8384 - accuracy: 0.2216 - val_loss: 1.8461 - val_accuracy: 0.2040\n",
      "Epoch 6/150\n",
      "80/80 [==============================] - 0s 5ms/step - loss: 1.8112 - accuracy: 0.2249 - val_loss: 1.8221 - val_accuracy: 0.2220\n",
      "Epoch 7/150\n",
      "80/80 [==============================] - 0s 5ms/step - loss: 1.7964 - accuracy: 0.2229 - val_loss: 1.8211 - val_accuracy: 0.2188\n",
      "Epoch 8/150\n",
      "80/80 [==============================] - 0s 5ms/step - loss: 1.7849 - accuracy: 0.2270 - val_loss: 1.8069 - val_accuracy: 0.2212\n",
      "Epoch 9/150\n",
      "80/80 [==============================] - 0s 5ms/step - loss: 1.7787 - accuracy: 0.2237 - val_loss: 1.8054 - val_accuracy: 0.2235\n",
      "Epoch 10/150\n",
      "80/80 [==============================] - 0s 5ms/step - loss: 1.7723 - accuracy: 0.2281 - val_loss: 1.8008 - val_accuracy: 0.2150\n",
      "Epoch 11/150\n",
      "80/80 [==============================] - 0s 5ms/step - loss: 1.7680 - accuracy: 0.2296 - val_loss: 1.8025 - val_accuracy: 0.2204\n",
      "Epoch 12/150\n",
      "80/80 [==============================] - 0s 5ms/step - loss: 1.7653 - accuracy: 0.2228 - val_loss: 1.7918 - val_accuracy: 0.2251\n",
      "Epoch 13/150\n",
      "80/80 [==============================] - 0s 5ms/step - loss: 1.7636 - accuracy: 0.2268 - val_loss: 1.7986 - val_accuracy: 0.2181\n",
      "Epoch 14/150\n",
      "80/80 [==============================] - 0s 4ms/step - loss: 1.7592 - accuracy: 0.2242 - val_loss: 1.8073 - val_accuracy: 0.2134\n",
      "Epoch 15/150\n",
      "80/80 [==============================] - 0s 5ms/step - loss: 1.7577 - accuracy: 0.2290 - val_loss: 1.7849 - val_accuracy: 0.2220\n",
      "Epoch 16/150\n",
      "80/80 [==============================] - 0s 5ms/step - loss: 1.7559 - accuracy: 0.2271 - val_loss: 1.7879 - val_accuracy: 0.2243\n",
      "Epoch 17/150\n",
      "80/80 [==============================] - 0s 5ms/step - loss: 1.7552 - accuracy: 0.2248 - val_loss: 1.7911 - val_accuracy: 0.2290\n",
      "Epoch 18/150\n",
      "80/80 [==============================] - 0s 4ms/step - loss: 1.7513 - accuracy: 0.2273 - val_loss: 1.7886 - val_accuracy: 0.2282\n",
      "Epoch 19/150\n",
      "80/80 [==============================] - 0s 5ms/step - loss: 1.7501 - accuracy: 0.2332 - val_loss: 1.7903 - val_accuracy: 0.2259\n",
      "Epoch 20/150\n",
      "80/80 [==============================] - 0s 5ms/step - loss: 1.7481 - accuracy: 0.2349 - val_loss: 1.7876 - val_accuracy: 0.2220\n",
      "Epoch 21/150\n",
      "80/80 [==============================] - 0s 5ms/step - loss: 1.7490 - accuracy: 0.2330 - val_loss: 1.7784 - val_accuracy: 0.2142\n",
      "Epoch 22/150\n",
      "80/80 [==============================] - 0s 4ms/step - loss: 1.7474 - accuracy: 0.2331 - val_loss: 1.7948 - val_accuracy: 0.2173\n",
      "Epoch 23/150\n",
      "80/80 [==============================] - 0s 5ms/step - loss: 1.7467 - accuracy: 0.2340 - val_loss: 1.7887 - val_accuracy: 0.2142\n",
      "Epoch 24/150\n",
      "80/80 [==============================] - 0s 5ms/step - loss: 1.7446 - accuracy: 0.2359 - val_loss: 1.7899 - val_accuracy: 0.2204\n",
      "Epoch 25/150\n",
      "80/80 [==============================] - 0s 5ms/step - loss: 1.7455 - accuracy: 0.2319 - val_loss: 1.7868 - val_accuracy: 0.2212\n",
      "Epoch 26/150\n",
      "80/80 [==============================] - 0s 5ms/step - loss: 1.7449 - accuracy: 0.2348 - val_loss: 1.7859 - val_accuracy: 0.2220\n",
      "Epoch 27/150\n",
      "80/80 [==============================] - 0s 5ms/step - loss: 1.7429 - accuracy: 0.2397 - val_loss: 1.7825 - val_accuracy: 0.2173\n",
      "Epoch 28/150\n",
      "80/80 [==============================] - 0s 5ms/step - loss: 1.7432 - accuracy: 0.2340 - val_loss: 1.7841 - val_accuracy: 0.2111\n",
      "Epoch 29/150\n",
      "80/80 [==============================] - 0s 5ms/step - loss: 1.7433 - accuracy: 0.2310 - val_loss: 1.7908 - val_accuracy: 0.2181\n",
      "Epoch 30/150\n",
      "80/80 [==============================] - 0s 5ms/step - loss: 1.7418 - accuracy: 0.2375 - val_loss: 1.7907 - val_accuracy: 0.2142\n",
      "Epoch 31/150\n",
      "80/80 [==============================] - 0s 5ms/step - loss: 1.7396 - accuracy: 0.2383 - val_loss: 1.7895 - val_accuracy: 0.2126\n"
     ]
    },
    {
     "data": {
      "text/plain": "<keras.callbacks.History at 0x1ffcb296d60>"
     },
     "execution_count": 106,
     "metadata": {},
     "output_type": "execute_result"
    }
   ],
   "source": [
    "num_classes = 6\n",
    "# First training with learning_rate = 0.0005\n",
    "early_stopping = EarlyStopping(monitor='val_loss', patience=10, restore_best_weights=True)\n",
    "learning_rate = 0.0005\n",
    "dense_model_kmeans = create_dense_model(X_train_meta_kmeans.shape[1], num_classes, learning_rate)\n",
    "dense_model_kmeans.fit(X_train_meta_kmeans, Y_train, epochs=150, batch_size=128, validation_data=(X_val_meta_kmeans, Y_val), callbacks=[early_stopping, model_checkpoint_kmeans])"
   ],
   "metadata": {
    "collapsed": false
   }
  },
  {
   "cell_type": "code",
   "execution_count": 116,
   "outputs": [
    {
     "name": "stdout",
     "output_type": "stream",
     "text": [
      "40/40 [==============================] - 0s 2ms/step\n",
      "[[  0  38   0  15  39   0]\n",
      " [  0 138   0  53  58   0]\n",
      " [  0 118   0  52  42   0]\n",
      " [  0 150   0  72  43   0]\n",
      " [  0 120   0  83  38   0]\n",
      " [  0 130   0  40  38   0]]\n"
     ]
    }
   ],
   "source": [
    "evaluation = dense_model_kmeans.evaluate(X_test_meta_jaccard, Y_test)\n",
    "\n",
    "# Load the best model from the saved checkpoint\n",
    "best_model_kmeans = load_model('best_model_kmeans.h5')\n",
    "\n",
    "# Make predictions using the best model\n",
    "dense_model_kmeans_predictions = best_model_kmeans.predict(X_test_meta_kmeans)\n",
    "\n",
    "plot_matrix(dense_model_kmeans_predictions)"
   ],
   "metadata": {
    "collapsed": false
   }
  },
  {
   "cell_type": "code",
   "execution_count": 114,
   "outputs": [
    {
     "data": {
      "text/plain": "3    265\n1    249\n4    241\n2    212\n5    208\n0     92\nName: output, dtype: int64"
     },
     "execution_count": 114,
     "metadata": {},
     "output_type": "execute_result"
    }
   ],
   "source": [
    "test_data['output'].value_counts()"
   ],
   "metadata": {
    "collapsed": false
   }
  },
  {
   "cell_type": "code",
   "execution_count": 93,
   "outputs": [
    {
     "name": "stdout",
     "output_type": "stream",
     "text": [
      "[[0. 0. 0. 1. 0. 0.]\n",
      " [0. 0. 0. 0. 1. 0.]\n",
      " [0. 0. 0. 0. 1. 0.]\n",
      " ...\n",
      " [0. 0. 0. 0. 0. 1.]\n",
      " [0. 0. 0. 0. 0. 1.]\n",
      " [0. 0. 0. 0. 1. 0.]]\n"
     ]
    }
   ],
   "source": [
    "print(Y_test)"
   ],
   "metadata": {
    "collapsed": false
   }
  },
  {
   "cell_type": "code",
   "execution_count": null,
   "outputs": [],
   "source": [],
   "metadata": {
    "collapsed": false
   }
  },
  {
   "cell_type": "code",
   "execution_count": 90,
   "outputs": [
    {
     "name": "stdout",
     "output_type": "stream",
     "text": [
      "40/40 [==============================] - 0s 2ms/step\n",
      "[[  0  23 194  48   0]\n",
      " [  0  17 184  40   0]\n",
      " [  0  45 190  65   0]\n",
      " [  0  31 181  37   0]\n",
      " [  0  23 144  45   0]]\n"
     ]
    }
   ],
   "source": [
    "from sklearn.metrics import confusion_matrix\n",
    "\n",
    "# Get the predictions from the model\n",
    "y_pred = np.argmax(dense_model_kmeans.predict(X_test_meta_kmeans), axis=-1)\n",
    "\n",
    "# Convert the one-hot encoded labels back to their original format\n",
    "y_true = np.argmax(Y_test, axis=-1)\n",
    "\n",
    "# Calculate the confusion matrix\n",
    "conf_matrix = confusion_matrix(y_true, y_pred)\n",
    "\n",
    "print(conf_matrix)"
   ],
   "metadata": {
    "collapsed": false
   }
  },
  {
   "cell_type": "code",
   "execution_count": 77,
   "outputs": [
    {
     "name": "stdout",
     "output_type": "stream",
     "text": [
      "Epoch 1/150\n",
      "80/80 [==============================] - 1s 8ms/step - loss: 2.2787 - accuracy: 0.2217 - val_loss: 1.8951 - val_accuracy: 0.2220\n",
      "Epoch 2/150\n",
      "80/80 [==============================] - 0s 5ms/step - loss: 1.7942 - accuracy: 0.2180 - val_loss: 1.7240 - val_accuracy: 0.2220\n",
      "Epoch 3/150\n",
      "80/80 [==============================] - 0s 5ms/step - loss: 1.6952 - accuracy: 0.2342 - val_loss: 1.6763 - val_accuracy: 0.2220\n",
      "Epoch 4/150\n",
      "80/80 [==============================] - 0s 5ms/step - loss: 1.6631 - accuracy: 0.2315 - val_loss: 1.6564 - val_accuracy: 0.2220\n",
      "Epoch 5/150\n",
      "80/80 [==============================] - 0s 5ms/step - loss: 1.6479 - accuracy: 0.2284 - val_loss: 1.6441 - val_accuracy: 0.2220\n",
      "Epoch 6/150\n",
      "80/80 [==============================] - 0s 5ms/step - loss: 1.6379 - accuracy: 0.2361 - val_loss: 1.6380 - val_accuracy: 0.2220\n",
      "Epoch 7/150\n",
      "80/80 [==============================] - 0s 5ms/step - loss: 1.6324 - accuracy: 0.2342 - val_loss: 1.6357 - val_accuracy: 0.2220\n",
      "Epoch 8/150\n",
      "80/80 [==============================] - 0s 5ms/step - loss: 1.6269 - accuracy: 0.2385 - val_loss: 1.6317 - val_accuracy: 0.2220\n",
      "Epoch 9/150\n",
      "80/80 [==============================] - 0s 5ms/step - loss: 1.6239 - accuracy: 0.2418 - val_loss: 1.6295 - val_accuracy: 0.2220\n",
      "Epoch 10/150\n",
      "80/80 [==============================] - 0s 5ms/step - loss: 1.6222 - accuracy: 0.2409 - val_loss: 1.6280 - val_accuracy: 0.2220\n",
      "Epoch 11/150\n",
      "80/80 [==============================] - 0s 5ms/step - loss: 1.6205 - accuracy: 0.2452 - val_loss: 1.6265 - val_accuracy: 0.2220\n",
      "Epoch 12/150\n",
      "80/80 [==============================] - 0s 5ms/step - loss: 1.6182 - accuracy: 0.2441 - val_loss: 1.6255 - val_accuracy: 0.2220\n",
      "Epoch 13/150\n",
      "80/80 [==============================] - 0s 5ms/step - loss: 1.6170 - accuracy: 0.2438 - val_loss: 1.6230 - val_accuracy: 0.2220\n",
      "Epoch 14/150\n",
      "80/80 [==============================] - 0s 5ms/step - loss: 1.6158 - accuracy: 0.2469 - val_loss: 1.6262 - val_accuracy: 0.2220\n",
      "Epoch 15/150\n",
      "80/80 [==============================] - 0s 5ms/step - loss: 1.6152 - accuracy: 0.2445 - val_loss: 1.6214 - val_accuracy: 0.2220\n",
      "Epoch 16/150\n",
      "80/80 [==============================] - 0s 5ms/step - loss: 1.6148 - accuracy: 0.2459 - val_loss: 1.6230 - val_accuracy: 0.2220\n",
      "Epoch 17/150\n",
      "80/80 [==============================] - 0s 5ms/step - loss: 1.6131 - accuracy: 0.2450 - val_loss: 1.6217 - val_accuracy: 0.2220\n",
      "Epoch 18/150\n",
      "80/80 [==============================] - 0s 5ms/step - loss: 1.6125 - accuracy: 0.2461 - val_loss: 1.6207 - val_accuracy: 0.2220\n",
      "Epoch 19/150\n",
      "80/80 [==============================] - 0s 5ms/step - loss: 1.6120 - accuracy: 0.2449 - val_loss: 1.6198 - val_accuracy: 0.2220\n",
      "Epoch 20/150\n",
      "80/80 [==============================] - 0s 5ms/step - loss: 1.6114 - accuracy: 0.2458 - val_loss: 1.6186 - val_accuracy: 0.2220\n",
      "Epoch 21/150\n",
      "80/80 [==============================] - 0s 5ms/step - loss: 1.6101 - accuracy: 0.2460 - val_loss: 1.6184 - val_accuracy: 0.2220\n",
      "Epoch 22/150\n",
      "80/80 [==============================] - 0s 5ms/step - loss: 1.6111 - accuracy: 0.2455 - val_loss: 1.6246 - val_accuracy: 0.2220\n",
      "Epoch 23/150\n",
      "80/80 [==============================] - 0s 5ms/step - loss: 1.6109 - accuracy: 0.2456 - val_loss: 1.6183 - val_accuracy: 0.2220\n",
      "Epoch 24/150\n",
      "80/80 [==============================] - 0s 5ms/step - loss: 1.6089 - accuracy: 0.2460 - val_loss: 1.6200 - val_accuracy: 0.2220\n",
      "Epoch 25/150\n",
      "80/80 [==============================] - 0s 5ms/step - loss: 1.6101 - accuracy: 0.2426 - val_loss: 1.6186 - val_accuracy: 0.2220\n",
      "Epoch 26/150\n",
      "80/80 [==============================] - 0s 5ms/step - loss: 1.6085 - accuracy: 0.2455 - val_loss: 1.6191 - val_accuracy: 0.2220\n",
      "Epoch 27/150\n",
      "80/80 [==============================] - 0s 6ms/step - loss: 1.6090 - accuracy: 0.2456 - val_loss: 1.6170 - val_accuracy: 0.2220\n",
      "Epoch 28/150\n",
      "80/80 [==============================] - 0s 5ms/step - loss: 1.6087 - accuracy: 0.2447 - val_loss: 1.6171 - val_accuracy: 0.2220\n",
      "Epoch 29/150\n",
      "80/80 [==============================] - 0s 5ms/step - loss: 1.6083 - accuracy: 0.2455 - val_loss: 1.6190 - val_accuracy: 0.2220\n",
      "Epoch 30/150\n",
      "80/80 [==============================] - 0s 5ms/step - loss: 1.6084 - accuracy: 0.2438 - val_loss: 1.6169 - val_accuracy: 0.2220\n",
      "Epoch 31/150\n",
      "80/80 [==============================] - 0s 5ms/step - loss: 1.6076 - accuracy: 0.2448 - val_loss: 1.6156 - val_accuracy: 0.2220\n",
      "Epoch 32/150\n",
      "80/80 [==============================] - 0s 5ms/step - loss: 1.6078 - accuracy: 0.2452 - val_loss: 1.6172 - val_accuracy: 0.2220\n",
      "Epoch 33/150\n",
      "80/80 [==============================] - 0s 5ms/step - loss: 1.6085 - accuracy: 0.2456 - val_loss: 1.6150 - val_accuracy: 0.2220\n",
      "Epoch 34/150\n",
      "80/80 [==============================] - 0s 5ms/step - loss: 1.6073 - accuracy: 0.2455 - val_loss: 1.6170 - val_accuracy: 0.2220\n",
      "Epoch 35/150\n",
      "80/80 [==============================] - 0s 5ms/step - loss: 1.6080 - accuracy: 0.2455 - val_loss: 1.6162 - val_accuracy: 0.2220\n",
      "Epoch 36/150\n",
      "80/80 [==============================] - 0s 5ms/step - loss: 1.6073 - accuracy: 0.2456 - val_loss: 1.6153 - val_accuracy: 0.2220\n",
      "Epoch 37/150\n",
      "80/80 [==============================] - 0s 6ms/step - loss: 1.6070 - accuracy: 0.2455 - val_loss: 1.6150 - val_accuracy: 0.2220\n",
      "Epoch 38/150\n",
      "80/80 [==============================] - 0s 5ms/step - loss: 1.6068 - accuracy: 0.2456 - val_loss: 1.6163 - val_accuracy: 0.2220\n",
      "Epoch 39/150\n",
      "80/80 [==============================] - 0s 6ms/step - loss: 1.6070 - accuracy: 0.2453 - val_loss: 1.6177 - val_accuracy: 0.2220\n",
      "Epoch 40/150\n",
      "80/80 [==============================] - 0s 5ms/step - loss: 1.6070 - accuracy: 0.2457 - val_loss: 1.6188 - val_accuracy: 0.2220\n",
      "Epoch 41/150\n",
      "80/80 [==============================] - 0s 5ms/step - loss: 1.6070 - accuracy: 0.2456 - val_loss: 1.6153 - val_accuracy: 0.2220\n",
      "Epoch 42/150\n",
      "80/80 [==============================] - 0s 5ms/step - loss: 1.6057 - accuracy: 0.2459 - val_loss: 1.6145 - val_accuracy: 0.2220\n",
      "Epoch 43/150\n",
      "80/80 [==============================] - 0s 5ms/step - loss: 1.6061 - accuracy: 0.2447 - val_loss: 1.6152 - val_accuracy: 0.2220\n",
      "Epoch 44/150\n",
      "80/80 [==============================] - 0s 6ms/step - loss: 1.6067 - accuracy: 0.2457 - val_loss: 1.6143 - val_accuracy: 0.2220\n",
      "Epoch 45/150\n",
      "80/80 [==============================] - 0s 5ms/step - loss: 1.6063 - accuracy: 0.2452 - val_loss: 1.6134 - val_accuracy: 0.2220\n",
      "Epoch 46/150\n",
      "80/80 [==============================] - 0s 6ms/step - loss: 1.6061 - accuracy: 0.2460 - val_loss: 1.6131 - val_accuracy: 0.2220\n",
      "Epoch 47/150\n",
      "80/80 [==============================] - 0s 5ms/step - loss: 1.6059 - accuracy: 0.2454 - val_loss: 1.6140 - val_accuracy: 0.2220\n",
      "Epoch 48/150\n",
      "80/80 [==============================] - 0s 5ms/step - loss: 1.6063 - accuracy: 0.2456 - val_loss: 1.6176 - val_accuracy: 0.2220\n",
      "Epoch 49/150\n",
      "80/80 [==============================] - 0s 5ms/step - loss: 1.6053 - accuracy: 0.2456 - val_loss: 1.6144 - val_accuracy: 0.2220\n",
      "Epoch 50/150\n",
      "80/80 [==============================] - 0s 5ms/step - loss: 1.6058 - accuracy: 0.2459 - val_loss: 1.6155 - val_accuracy: 0.2220\n",
      "Epoch 51/150\n",
      "80/80 [==============================] - 0s 5ms/step - loss: 1.6058 - accuracy: 0.2453 - val_loss: 1.6153 - val_accuracy: 0.2220\n"
     ]
    },
    {
     "data": {
      "text/plain": "<keras.callbacks.History at 0x1ffbde47fa0>"
     },
     "execution_count": 77,
     "metadata": {},
     "output_type": "execute_result"
    }
   ],
   "source": [
    "# Second training with learning_rate = 0.001\n",
    "early_stopping = EarlyStopping(monitor='val_loss', patience=5, restore_best_weights=True)\n",
    "learning_rate = 0.001\n",
    "dense_model_kmeans = create_dense_model(X_train_meta_kmeans.shape[1], num_classes, learning_rate) # Create a new model with fresh weights and updated learning rate\n",
    "dense_model_kmeans.fit(X_train_meta_kmeans, Y_train, epochs=150, batch_size=128, validation_data=(X_val_meta_kmeans, Y_val), callbacks=[early_stopping, model_checkpoint_kmeans])"
   ],
   "metadata": {
    "collapsed": false
   }
  },
  {
   "cell_type": "code",
   "execution_count": 123,
   "outputs": [
    {
     "data": {
      "text/plain": "0        [9, 16, 16, 12, 1, 10, 9, 1, 16, 10, 11, 16, 1...\n1        [16, 5, 16, 10, 16, 10, 10, 16, 16, 5, 16, 1, ...\n2        [12, 12, 9, 16, 12, 12, 16, 16, 6, 16, 4, 12, ...\n3         [10, 10, 10, 10, 9, 1, 16, 4, 1, 10, 10, 11, 16]\n4               [16, 1, 10, 5, 16, 16, 10, 16, 16, 10, 16]\n                               ...                        \n10235    [16, 8, 16, 2, 10, 16, 10, 11, 16, 12, 16, 16,...\n10236    [16, 8, 13, 7, 16, 10, 16, 16, 16, 12, 16, 12,...\n10237    [9, 16, 10, 16, 12, 12, 16, 9, 16, 12, 12, 16,...\n10238        [16, 6, 16, 12, 1, 10, 16, 6, 10, 16, 12, 16]\n10239    [16, 12, 16, 16, 16, 9, 16, 10, 13, 13, 6, 16,...\nName: pos-id-fine, Length: 10240, dtype: object"
     },
     "execution_count": 123,
     "metadata": {},
     "output_type": "execute_result"
    }
   ],
   "source": [
    "train_data['pos-id-fine']"
   ],
   "metadata": {
    "collapsed": false
   }
  },
  {
   "cell_type": "markdown",
   "source": [
    "## JACCARD"
   ],
   "metadata": {
    "collapsed": false
   }
  },
  {
   "cell_type": "code",
   "execution_count": 281,
   "outputs": [
    {
     "name": "stdout",
     "output_type": "stream",
     "text": [
      "Epoch 1/150\n",
      "80/80 [==============================] - 1s 9ms/step - loss: 2.5990 - accuracy: 0.1981 - val_loss: 2.3170 - val_accuracy: 0.1931\n",
      "Epoch 2/150\n",
      "80/80 [==============================] - 0s 5ms/step - loss: 2.1586 - accuracy: 0.2067 - val_loss: 2.0302 - val_accuracy: 0.1978\n",
      "Epoch 3/150\n",
      "80/80 [==============================] - 0s 5ms/step - loss: 1.9581 - accuracy: 0.2126 - val_loss: 1.9019 - val_accuracy: 0.2033\n",
      "Epoch 4/150\n",
      "80/80 [==============================] - 0s 5ms/step - loss: 1.8691 - accuracy: 0.2156 - val_loss: 1.8434 - val_accuracy: 0.2266\n",
      "Epoch 5/150\n",
      "80/80 [==============================] - 0s 5ms/step - loss: 1.8269 - accuracy: 0.2130 - val_loss: 1.8109 - val_accuracy: 0.2352\n",
      "Epoch 6/150\n",
      "80/80 [==============================] - 0s 5ms/step - loss: 1.8033 - accuracy: 0.2256 - val_loss: 1.7941 - val_accuracy: 0.2235\n",
      "Epoch 7/150\n",
      "80/80 [==============================] - 0s 5ms/step - loss: 1.7914 - accuracy: 0.2238 - val_loss: 1.7840 - val_accuracy: 0.2368\n",
      "Epoch 8/150\n",
      "80/80 [==============================] - 0s 5ms/step - loss: 1.7813 - accuracy: 0.2197 - val_loss: 1.7769 - val_accuracy: 0.2360\n",
      "Epoch 9/150\n",
      "80/80 [==============================] - 0s 5ms/step - loss: 1.7745 - accuracy: 0.2228 - val_loss: 1.7710 - val_accuracy: 0.2305\n",
      "Epoch 10/150\n",
      "80/80 [==============================] - 0s 5ms/step - loss: 1.7690 - accuracy: 0.2242 - val_loss: 1.7689 - val_accuracy: 0.2321\n",
      "Epoch 11/150\n",
      "80/80 [==============================] - 0s 5ms/step - loss: 1.7645 - accuracy: 0.2232 - val_loss: 1.7677 - val_accuracy: 0.2321\n",
      "Epoch 12/150\n",
      "80/80 [==============================] - 0s 5ms/step - loss: 1.7632 - accuracy: 0.2272 - val_loss: 1.7665 - val_accuracy: 0.2336\n",
      "Epoch 13/150\n",
      "80/80 [==============================] - 0s 5ms/step - loss: 1.7599 - accuracy: 0.2287 - val_loss: 1.7594 - val_accuracy: 0.2298\n",
      "Epoch 14/150\n",
      "80/80 [==============================] - 0s 5ms/step - loss: 1.7576 - accuracy: 0.2247 - val_loss: 1.7582 - val_accuracy: 0.2329\n",
      "Epoch 15/150\n",
      "80/80 [==============================] - 0s 5ms/step - loss: 1.7566 - accuracy: 0.2281 - val_loss: 1.7622 - val_accuracy: 0.2352\n",
      "Epoch 16/150\n",
      "80/80 [==============================] - 0s 6ms/step - loss: 1.7545 - accuracy: 0.2260 - val_loss: 1.7551 - val_accuracy: 0.2313\n",
      "Epoch 17/150\n",
      "80/80 [==============================] - 0s 6ms/step - loss: 1.7525 - accuracy: 0.2285 - val_loss: 1.7541 - val_accuracy: 0.2298\n",
      "Epoch 18/150\n",
      "80/80 [==============================] - 0s 5ms/step - loss: 1.7524 - accuracy: 0.2320 - val_loss: 1.7578 - val_accuracy: 0.2220\n",
      "Epoch 19/150\n",
      "80/80 [==============================] - 0s 5ms/step - loss: 1.7507 - accuracy: 0.2313 - val_loss: 1.7552 - val_accuracy: 0.2360\n",
      "Epoch 20/150\n",
      "80/80 [==============================] - 0s 5ms/step - loss: 1.7509 - accuracy: 0.2371 - val_loss: 1.7569 - val_accuracy: 0.2445\n",
      "Epoch 21/150\n",
      "80/80 [==============================] - 0s 5ms/step - loss: 1.7483 - accuracy: 0.2317 - val_loss: 1.7534 - val_accuracy: 0.2391\n",
      "Epoch 22/150\n",
      "80/80 [==============================] - 0s 5ms/step - loss: 1.7492 - accuracy: 0.2320 - val_loss: 1.7520 - val_accuracy: 0.2336\n",
      "Epoch 23/150\n",
      "80/80 [==============================] - 0s 5ms/step - loss: 1.7478 - accuracy: 0.2344 - val_loss: 1.7627 - val_accuracy: 0.2274\n",
      "Epoch 24/150\n",
      "80/80 [==============================] - 0s 5ms/step - loss: 1.7465 - accuracy: 0.2335 - val_loss: 1.7551 - val_accuracy: 0.2329\n",
      "Epoch 25/150\n",
      "80/80 [==============================] - 0s 5ms/step - loss: 1.7449 - accuracy: 0.2316 - val_loss: 1.7533 - val_accuracy: 0.2360\n",
      "Epoch 26/150\n",
      "80/80 [==============================] - 0s 5ms/step - loss: 1.7441 - accuracy: 0.2378 - val_loss: 1.7533 - val_accuracy: 0.2321\n",
      "Epoch 27/150\n",
      "80/80 [==============================] - 0s 5ms/step - loss: 1.7422 - accuracy: 0.2386 - val_loss: 1.7503 - val_accuracy: 0.2469\n",
      "Epoch 28/150\n",
      "80/80 [==============================] - 0s 5ms/step - loss: 1.7429 - accuracy: 0.2372 - val_loss: 1.7553 - val_accuracy: 0.2336\n",
      "Epoch 29/150\n",
      "80/80 [==============================] - 0s 5ms/step - loss: 1.7443 - accuracy: 0.2397 - val_loss: 1.7533 - val_accuracy: 0.2360\n",
      "Epoch 30/150\n",
      "80/80 [==============================] - 0s 5ms/step - loss: 1.7417 - accuracy: 0.2364 - val_loss: 1.7555 - val_accuracy: 0.2461\n",
      "Epoch 31/150\n",
      "80/80 [==============================] - 0s 5ms/step - loss: 1.7412 - accuracy: 0.2404 - val_loss: 1.7602 - val_accuracy: 0.2313\n",
      "Epoch 32/150\n",
      "80/80 [==============================] - 0s 5ms/step - loss: 1.7418 - accuracy: 0.2403 - val_loss: 1.7524 - val_accuracy: 0.2399\n",
      "Epoch 33/150\n",
      "80/80 [==============================] - 0s 5ms/step - loss: 1.7408 - accuracy: 0.2403 - val_loss: 1.7538 - val_accuracy: 0.2399\n",
      "Epoch 34/150\n",
      "80/80 [==============================] - 0s 5ms/step - loss: 1.7419 - accuracy: 0.2404 - val_loss: 1.7573 - val_accuracy: 0.2430\n",
      "Epoch 35/150\n",
      "80/80 [==============================] - 0s 5ms/step - loss: 1.7379 - accuracy: 0.2431 - val_loss: 1.7620 - val_accuracy: 0.2321\n",
      "Epoch 36/150\n",
      "80/80 [==============================] - 0s 5ms/step - loss: 1.7377 - accuracy: 0.2373 - val_loss: 1.7575 - val_accuracy: 0.2344\n",
      "Epoch 37/150\n",
      "80/80 [==============================] - 0s 5ms/step - loss: 1.7365 - accuracy: 0.2428 - val_loss: 1.7627 - val_accuracy: 0.2352\n"
     ]
    },
    {
     "data": {
      "text/plain": "<keras.callbacks.History at 0x1ff8029b2b0>"
     },
     "execution_count": 281,
     "metadata": {},
     "output_type": "execute_result"
    }
   ],
   "source": [
    "# Testing restore best weights false\n",
    "model_checkpoint_jaccard = ModelCheckpoint(filepath='best_model_jaccard.h5', monitor='val_loss', save_best_only=True)\n",
    "early_stopping = EarlyStopping(monitor='val_loss', patience=10, restore_best_weights=False)\n",
    "\n",
    "learning_rate = 0.0005\n",
    "\n",
    "dense_model_jaccard = create_dense_model(X_train_meta_jaccard.shape[1], num_classes, learning_rate)\n",
    "dense_model_jaccard.fit(X_train_meta_jaccard, Y_train, epochs=150, batch_size=128, validation_data=(X_val_meta_jaccard, Y_val), callbacks=[early_stopping, model_checkpoint_jaccard])"
   ],
   "metadata": {
    "collapsed": false
   }
  },
  {
   "cell_type": "code",
   "execution_count": 283,
   "outputs": [
    {
     "name": "stdout",
     "output_type": "stream",
     "text": [
      "40/40 [==============================] - 0s 2ms/step - loss: 1.7474 - accuracy: 0.2234\n",
      "40/40 [==============================] - 0s 1ms/step\n",
      "Test set accuracy: 0.23\n",
      "Test set precision: 0.14\n",
      "Test set recall: 0.23\n",
      "Test set F1 score: 0.17\n",
      "[[  0  65   0  20   7   0]\n",
      " [  0 140   0  54  55   0]\n",
      " [  0 114   0  54  44   0]\n",
      " [  0 114   0  64  87   0]\n",
      " [  0  90   0  58  93   0]\n",
      " [  0  81   0  60  67   0]]\n"
     ]
    },
    {
     "data": {
      "text/plain": "<Figure size 800x600 with 2 Axes>",
      "image/png": "[encoded data removed]"
     },
     "metadata": {},
     "output_type": "display_data"
    }
   ],
   "source": [
    "# evaluate dense_model_jaccard\n",
    "evaluation = dense_model_jaccard.evaluate(X_test_meta_jaccard, Y_test)\n",
    "\n",
    "# Load the best model from the saved checkpoint\n",
    "best_model_jaccard = load_model('best_model_jaccard.h5')\n",
    "\n",
    "# Make predictions using the best model\n",
    "dense_model_jaccard_predictions = best_model_jaccard.predict(X_test_meta_jaccard)\n",
    "\n",
    "plot_matrix(dense_model_jaccard_predictions)"
   ],
   "metadata": {
    "collapsed": false
   }
  },
  {
   "cell_type": "code",
   "execution_count": 79,
   "outputs": [
    {
     "name": "stdout",
     "output_type": "stream",
     "text": [
      "Epoch 1/150\n",
      "80/80 [==============================] - 2s 8ms/step - loss: 2.5618 - accuracy: 0.2093 - val_loss: 2.2627 - val_accuracy: 0.2220\n",
      "Epoch 2/150\n",
      "80/80 [==============================] - 0s 5ms/step - loss: 2.1135 - accuracy: 0.2168 - val_loss: 1.9631 - val_accuracy: 0.2188\n",
      "Epoch 3/150\n",
      "80/80 [==============================] - 0s 5ms/step - loss: 1.9002 - accuracy: 0.2261 - val_loss: 1.8179 - val_accuracy: 0.2212\n",
      "Epoch 4/150\n",
      "80/80 [==============================] - 0s 4ms/step - loss: 1.7927 - accuracy: 0.2247 - val_loss: 1.7491 - val_accuracy: 0.2220\n",
      "Epoch 5/150\n",
      "80/80 [==============================] - 0s 4ms/step - loss: 1.7390 - accuracy: 0.2348 - val_loss: 1.7118 - val_accuracy: 0.2220\n",
      "Epoch 6/150\n",
      "80/80 [==============================] - 0s 4ms/step - loss: 1.7032 - accuracy: 0.2336 - val_loss: 1.6862 - val_accuracy: 0.2235\n",
      "Epoch 7/150\n",
      "80/80 [==============================] - 0s 4ms/step - loss: 1.6833 - accuracy: 0.2363 - val_loss: 1.6700 - val_accuracy: 0.2368\n",
      "Epoch 8/150\n",
      "80/80 [==============================] - 0s 4ms/step - loss: 1.6678 - accuracy: 0.2408 - val_loss: 1.6608 - val_accuracy: 0.2220\n",
      "Epoch 9/150\n",
      "80/80 [==============================] - 0s 4ms/step - loss: 1.6582 - accuracy: 0.2376 - val_loss: 1.6576 - val_accuracy: 0.2220\n",
      "Epoch 10/150\n",
      "80/80 [==============================] - 0s 4ms/step - loss: 1.6511 - accuracy: 0.2439 - val_loss: 1.6490 - val_accuracy: 0.2220\n",
      "Epoch 11/150\n",
      "80/80 [==============================] - 0s 4ms/step - loss: 1.6464 - accuracy: 0.2399 - val_loss: 1.6440 - val_accuracy: 0.2321\n",
      "Epoch 12/150\n",
      "80/80 [==============================] - 0s 4ms/step - loss: 1.6393 - accuracy: 0.2463 - val_loss: 1.6408 - val_accuracy: 0.2220\n",
      "Epoch 13/150\n",
      "80/80 [==============================] - 0s 5ms/step - loss: 1.6378 - accuracy: 0.2446 - val_loss: 1.6396 - val_accuracy: 0.2375\n",
      "Epoch 14/150\n",
      "80/80 [==============================] - 0s 5ms/step - loss: 1.6351 - accuracy: 0.2482 - val_loss: 1.6359 - val_accuracy: 0.2220\n",
      "Epoch 15/150\n",
      "80/80 [==============================] - 0s 5ms/step - loss: 1.6317 - accuracy: 0.2414 - val_loss: 1.6354 - val_accuracy: 0.2220\n",
      "Epoch 16/150\n",
      "80/80 [==============================] - 0s 5ms/step - loss: 1.6301 - accuracy: 0.2472 - val_loss: 1.6338 - val_accuracy: 0.2329\n",
      "Epoch 17/150\n",
      "80/80 [==============================] - 0s 5ms/step - loss: 1.6284 - accuracy: 0.2451 - val_loss: 1.6316 - val_accuracy: 0.2407\n",
      "Epoch 18/150\n",
      "80/80 [==============================] - 0s 4ms/step - loss: 1.6264 - accuracy: 0.2468 - val_loss: 1.6299 - val_accuracy: 0.2220\n",
      "Epoch 19/150\n",
      "80/80 [==============================] - 0s 5ms/step - loss: 1.6259 - accuracy: 0.2446 - val_loss: 1.6301 - val_accuracy: 0.2220\n",
      "Epoch 20/150\n",
      "80/80 [==============================] - 0s 5ms/step - loss: 1.6249 - accuracy: 0.2451 - val_loss: 1.6294 - val_accuracy: 0.2407\n",
      "Epoch 21/150\n",
      "80/80 [==============================] - 0s 5ms/step - loss: 1.6228 - accuracy: 0.2470 - val_loss: 1.6264 - val_accuracy: 0.2220\n",
      "Epoch 22/150\n",
      "80/80 [==============================] - 0s 5ms/step - loss: 1.6224 - accuracy: 0.2470 - val_loss: 1.6248 - val_accuracy: 0.2438\n",
      "Epoch 23/150\n",
      "80/80 [==============================] - 0s 4ms/step - loss: 1.6221 - accuracy: 0.2440 - val_loss: 1.6265 - val_accuracy: 0.2220\n",
      "Epoch 24/150\n",
      "80/80 [==============================] - 0s 4ms/step - loss: 1.6204 - accuracy: 0.2481 - val_loss: 1.6320 - val_accuracy: 0.2329\n",
      "Epoch 25/150\n",
      "80/80 [==============================] - 0s 4ms/step - loss: 1.6202 - accuracy: 0.2479 - val_loss: 1.6241 - val_accuracy: 0.2220\n",
      "Epoch 26/150\n",
      "80/80 [==============================] - 0s 4ms/step - loss: 1.6189 - accuracy: 0.2481 - val_loss: 1.6251 - val_accuracy: 0.2220\n",
      "Epoch 27/150\n",
      "80/80 [==============================] - 0s 4ms/step - loss: 1.6183 - accuracy: 0.2433 - val_loss: 1.6238 - val_accuracy: 0.2399\n",
      "Epoch 28/150\n",
      "80/80 [==============================] - 0s 4ms/step - loss: 1.6173 - accuracy: 0.2449 - val_loss: 1.6253 - val_accuracy: 0.2220\n",
      "Epoch 29/150\n",
      "80/80 [==============================] - 0s 4ms/step - loss: 1.6179 - accuracy: 0.2461 - val_loss: 1.6235 - val_accuracy: 0.2220\n",
      "Epoch 30/150\n",
      "80/80 [==============================] - 0s 4ms/step - loss: 1.6168 - accuracy: 0.2446 - val_loss: 1.6212 - val_accuracy: 0.2220\n",
      "Epoch 31/150\n",
      "80/80 [==============================] - 0s 4ms/step - loss: 1.6168 - accuracy: 0.2441 - val_loss: 1.6231 - val_accuracy: 0.2220\n",
      "Epoch 32/150\n",
      "80/80 [==============================] - 0s 4ms/step - loss: 1.6164 - accuracy: 0.2444 - val_loss: 1.6202 - val_accuracy: 0.2220\n",
      "Epoch 33/150\n",
      "80/80 [==============================] - 0s 4ms/step - loss: 1.6138 - accuracy: 0.2469 - val_loss: 1.6193 - val_accuracy: 0.2329\n",
      "Epoch 34/150\n",
      "80/80 [==============================] - 0s 4ms/step - loss: 1.6153 - accuracy: 0.2463 - val_loss: 1.6192 - val_accuracy: 0.2220\n",
      "Epoch 35/150\n",
      "80/80 [==============================] - 0s 4ms/step - loss: 1.6144 - accuracy: 0.2472 - val_loss: 1.6194 - val_accuracy: 0.2220\n",
      "Epoch 36/150\n",
      "80/80 [==============================] - 0s 4ms/step - loss: 1.6136 - accuracy: 0.2446 - val_loss: 1.6195 - val_accuracy: 0.2220\n",
      "Epoch 37/150\n",
      "80/80 [==============================] - 0s 4ms/step - loss: 1.6142 - accuracy: 0.2416 - val_loss: 1.6194 - val_accuracy: 0.2220\n",
      "Epoch 38/150\n",
      "80/80 [==============================] - 0s 4ms/step - loss: 1.6116 - accuracy: 0.2496 - val_loss: 1.6199 - val_accuracy: 0.2399\n",
      "Epoch 39/150\n",
      "80/80 [==============================] - 0s 4ms/step - loss: 1.6125 - accuracy: 0.2441 - val_loss: 1.6202 - val_accuracy: 0.2220\n",
      "Epoch 40/150\n",
      "80/80 [==============================] - 0s 5ms/step - loss: 1.6125 - accuracy: 0.2442 - val_loss: 1.6186 - val_accuracy: 0.2220\n",
      "Epoch 41/150\n",
      "80/80 [==============================] - 0s 5ms/step - loss: 1.6132 - accuracy: 0.2484 - val_loss: 1.6187 - val_accuracy: 0.2220\n",
      "Epoch 42/150\n",
      "80/80 [==============================] - 0s 5ms/step - loss: 1.6133 - accuracy: 0.2416 - val_loss: 1.6201 - val_accuracy: 0.2360\n",
      "Epoch 43/150\n",
      "80/80 [==============================] - 0s 5ms/step - loss: 1.6109 - accuracy: 0.2468 - val_loss: 1.6183 - val_accuracy: 0.2220\n",
      "Epoch 44/150\n",
      "80/80 [==============================] - 0s 5ms/step - loss: 1.6120 - accuracy: 0.2427 - val_loss: 1.6192 - val_accuracy: 0.2282\n",
      "Epoch 45/150\n",
      "80/80 [==============================] - 0s 5ms/step - loss: 1.6115 - accuracy: 0.2436 - val_loss: 1.6169 - val_accuracy: 0.2235\n",
      "Epoch 46/150\n",
      "80/80 [==============================] - 0s 5ms/step - loss: 1.6105 - accuracy: 0.2485 - val_loss: 1.6178 - val_accuracy: 0.2220\n",
      "Epoch 47/150\n",
      "80/80 [==============================] - 0s 5ms/step - loss: 1.6108 - accuracy: 0.2442 - val_loss: 1.6164 - val_accuracy: 0.2220\n",
      "Epoch 48/150\n",
      "80/80 [==============================] - 0s 4ms/step - loss: 1.6115 - accuracy: 0.2439 - val_loss: 1.6165 - val_accuracy: 0.2220\n",
      "Epoch 49/150\n",
      "80/80 [==============================] - 0s 4ms/step - loss: 1.6100 - accuracy: 0.2450 - val_loss: 1.6149 - val_accuracy: 0.2212\n",
      "Epoch 50/150\n",
      "80/80 [==============================] - 0s 4ms/step - loss: 1.6104 - accuracy: 0.2484 - val_loss: 1.6178 - val_accuracy: 0.2220\n",
      "Epoch 51/150\n",
      "80/80 [==============================] - 0s 4ms/step - loss: 1.6098 - accuracy: 0.2440 - val_loss: 1.6205 - val_accuracy: 0.2430\n",
      "Epoch 52/150\n",
      "80/80 [==============================] - 0s 4ms/step - loss: 1.6099 - accuracy: 0.2467 - val_loss: 1.6160 - val_accuracy: 0.2220\n",
      "Epoch 53/150\n",
      "80/80 [==============================] - 0s 4ms/step - loss: 1.6071 - accuracy: 0.2496 - val_loss: 1.6156 - val_accuracy: 0.2212\n",
      "Epoch 54/150\n",
      "80/80 [==============================] - 0s 4ms/step - loss: 1.6093 - accuracy: 0.2480 - val_loss: 1.6137 - val_accuracy: 0.2212\n",
      "Epoch 55/150\n",
      "80/80 [==============================] - 0s 4ms/step - loss: 1.6089 - accuracy: 0.2467 - val_loss: 1.6138 - val_accuracy: 0.2212\n",
      "Epoch 56/150\n",
      "80/80 [==============================] - 0s 4ms/step - loss: 1.6092 - accuracy: 0.2491 - val_loss: 1.6167 - val_accuracy: 0.2212\n",
      "Epoch 57/150\n",
      "80/80 [==============================] - 0s 4ms/step - loss: 1.6085 - accuracy: 0.2472 - val_loss: 1.6156 - val_accuracy: 0.2220\n",
      "Epoch 58/150\n",
      "80/80 [==============================] - 0s 4ms/step - loss: 1.6092 - accuracy: 0.2431 - val_loss: 1.6140 - val_accuracy: 0.2220\n",
      "Epoch 59/150\n",
      "80/80 [==============================] - 0s 4ms/step - loss: 1.6084 - accuracy: 0.2452 - val_loss: 1.6162 - val_accuracy: 0.2220\n",
      "Epoch 60/150\n",
      "80/80 [==============================] - 0s 4ms/step - loss: 1.6076 - accuracy: 0.2447 - val_loss: 1.6181 - val_accuracy: 0.2407\n",
      "Epoch 61/150\n",
      "80/80 [==============================] - 0s 4ms/step - loss: 1.6082 - accuracy: 0.2474 - val_loss: 1.6143 - val_accuracy: 0.2220\n",
      "Epoch 62/150\n",
      "80/80 [==============================] - 0s 5ms/step - loss: 1.6079 - accuracy: 0.2468 - val_loss: 1.6133 - val_accuracy: 0.2259\n",
      "Epoch 63/150\n",
      "80/80 [==============================] - 0s 5ms/step - loss: 1.6072 - accuracy: 0.2474 - val_loss: 1.6158 - val_accuracy: 0.2220\n",
      "Epoch 64/150\n",
      "80/80 [==============================] - 0s 4ms/step - loss: 1.6073 - accuracy: 0.2451 - val_loss: 1.6152 - val_accuracy: 0.2212\n",
      "Epoch 65/150\n",
      "80/80 [==============================] - 0s 4ms/step - loss: 1.6080 - accuracy: 0.2423 - val_loss: 1.6166 - val_accuracy: 0.2212\n",
      "Epoch 66/150\n",
      "80/80 [==============================] - 0s 4ms/step - loss: 1.6079 - accuracy: 0.2465 - val_loss: 1.6133 - val_accuracy: 0.2220\n",
      "Epoch 67/150\n",
      "80/80 [==============================] - 0s 4ms/step - loss: 1.6072 - accuracy: 0.2459 - val_loss: 1.6150 - val_accuracy: 0.2445\n",
      "Epoch 68/150\n",
      "80/80 [==============================] - 0s 4ms/step - loss: 1.6061 - accuracy: 0.2483 - val_loss: 1.6137 - val_accuracy: 0.2220\n",
      "Epoch 69/150\n",
      "80/80 [==============================] - 0s 5ms/step - loss: 1.6066 - accuracy: 0.2460 - val_loss: 1.6128 - val_accuracy: 0.2220\n",
      "Epoch 70/150\n",
      "80/80 [==============================] - 0s 4ms/step - loss: 1.6057 - accuracy: 0.2481 - val_loss: 1.6137 - val_accuracy: 0.2212\n",
      "Epoch 71/150\n",
      "80/80 [==============================] - 0s 4ms/step - loss: 1.6068 - accuracy: 0.2493 - val_loss: 1.6143 - val_accuracy: 0.2321\n",
      "Epoch 72/150\n",
      "80/80 [==============================] - 0s 5ms/step - loss: 1.6060 - accuracy: 0.2496 - val_loss: 1.6127 - val_accuracy: 0.2212\n",
      "Epoch 73/150\n",
      "80/80 [==============================] - 0s 4ms/step - loss: 1.6072 - accuracy: 0.2458 - val_loss: 1.6151 - val_accuracy: 0.2336\n",
      "Epoch 74/150\n",
      "80/80 [==============================] - 0s 4ms/step - loss: 1.6062 - accuracy: 0.2458 - val_loss: 1.6133 - val_accuracy: 0.2220\n",
      "Epoch 75/150\n",
      "80/80 [==============================] - 0s 5ms/step - loss: 1.6057 - accuracy: 0.2502 - val_loss: 1.6139 - val_accuracy: 0.2383\n",
      "Epoch 76/150\n",
      "80/80 [==============================] - 0s 5ms/step - loss: 1.6074 - accuracy: 0.2439 - val_loss: 1.6124 - val_accuracy: 0.2298\n",
      "Epoch 77/150\n",
      "80/80 [==============================] - 0s 5ms/step - loss: 1.6074 - accuracy: 0.2449 - val_loss: 1.6122 - val_accuracy: 0.2282\n",
      "Epoch 78/150\n",
      "80/80 [==============================] - 0s 5ms/step - loss: 1.6058 - accuracy: 0.2437 - val_loss: 1.6138 - val_accuracy: 0.2220\n",
      "Epoch 79/150\n",
      "80/80 [==============================] - 0s 4ms/step - loss: 1.6064 - accuracy: 0.2467 - val_loss: 1.6132 - val_accuracy: 0.2212\n",
      "Epoch 80/150\n",
      "80/80 [==============================] - 0s 5ms/step - loss: 1.6046 - accuracy: 0.2482 - val_loss: 1.6110 - val_accuracy: 0.2220\n",
      "Epoch 81/150\n",
      "80/80 [==============================] - 0s 4ms/step - loss: 1.6052 - accuracy: 0.2457 - val_loss: 1.6133 - val_accuracy: 0.2461\n",
      "Epoch 82/150\n",
      "80/80 [==============================] - 0s 4ms/step - loss: 1.6052 - accuracy: 0.2462 - val_loss: 1.6115 - val_accuracy: 0.2212\n",
      "Epoch 83/150\n",
      "80/80 [==============================] - 0s 4ms/step - loss: 1.6044 - accuracy: 0.2455 - val_loss: 1.6117 - val_accuracy: 0.2282\n",
      "Epoch 84/150\n",
      "80/80 [==============================] - 0s 5ms/step - loss: 1.6050 - accuracy: 0.2451 - val_loss: 1.6114 - val_accuracy: 0.2298\n",
      "Epoch 85/150\n",
      "80/80 [==============================] - 0s 5ms/step - loss: 1.6060 - accuracy: 0.2439 - val_loss: 1.6115 - val_accuracy: 0.2220\n",
      "Epoch 86/150\n",
      "80/80 [==============================] - 0s 5ms/step - loss: 1.6051 - accuracy: 0.2472 - val_loss: 1.6111 - val_accuracy: 0.2220\n",
      "Epoch 87/150\n",
      "80/80 [==============================] - 0s 5ms/step - loss: 1.6054 - accuracy: 0.2451 - val_loss: 1.6137 - val_accuracy: 0.2220\n",
      "Epoch 88/150\n",
      "80/80 [==============================] - 0s 5ms/step - loss: 1.6049 - accuracy: 0.2497 - val_loss: 1.6116 - val_accuracy: 0.2220\n",
      "Epoch 89/150\n",
      "80/80 [==============================] - 0s 5ms/step - loss: 1.6049 - accuracy: 0.2458 - val_loss: 1.6121 - val_accuracy: 0.2220\n",
      "Epoch 90/150\n",
      "80/80 [==============================] - 0s 5ms/step - loss: 1.6049 - accuracy: 0.2432 - val_loss: 1.6109 - val_accuracy: 0.2220\n",
      "Epoch 91/150\n",
      "80/80 [==============================] - 0s 4ms/step - loss: 1.6051 - accuracy: 0.2467 - val_loss: 1.6158 - val_accuracy: 0.2305\n",
      "Epoch 92/150\n",
      "80/80 [==============================] - 0s 4ms/step - loss: 1.6048 - accuracy: 0.2460 - val_loss: 1.6116 - val_accuracy: 0.2220\n",
      "Epoch 93/150\n",
      "80/80 [==============================] - 0s 5ms/step - loss: 1.6045 - accuracy: 0.2472 - val_loss: 1.6102 - val_accuracy: 0.2212\n",
      "Epoch 94/150\n",
      "80/80 [==============================] - 0s 5ms/step - loss: 1.6040 - accuracy: 0.2456 - val_loss: 1.6100 - val_accuracy: 0.2220\n",
      "Epoch 95/150\n",
      "80/80 [==============================] - 0s 5ms/step - loss: 1.6043 - accuracy: 0.2470 - val_loss: 1.6120 - val_accuracy: 0.2220\n",
      "Epoch 96/150\n",
      "80/80 [==============================] - 0s 4ms/step - loss: 1.6046 - accuracy: 0.2432 - val_loss: 1.6107 - val_accuracy: 0.2220\n",
      "Epoch 97/150\n",
      "80/80 [==============================] - 0s 4ms/step - loss: 1.6028 - accuracy: 0.2475 - val_loss: 1.6115 - val_accuracy: 0.2220\n",
      "Epoch 98/150\n",
      "80/80 [==============================] - 0s 4ms/step - loss: 1.6042 - accuracy: 0.2459 - val_loss: 1.6132 - val_accuracy: 0.2430\n",
      "Epoch 99/150\n",
      "80/80 [==============================] - 0s 4ms/step - loss: 1.6035 - accuracy: 0.2473 - val_loss: 1.6134 - val_accuracy: 0.2329\n",
      "Epoch 100/150\n",
      "80/80 [==============================] - 0s 4ms/step - loss: 1.6044 - accuracy: 0.2513 - val_loss: 1.6109 - val_accuracy: 0.2220\n",
      "Epoch 101/150\n",
      "80/80 [==============================] - 0s 4ms/step - loss: 1.6037 - accuracy: 0.2447 - val_loss: 1.6111 - val_accuracy: 0.2220\n",
      "Epoch 102/150\n",
      "80/80 [==============================] - 0s 5ms/step - loss: 1.6028 - accuracy: 0.2499 - val_loss: 1.6151 - val_accuracy: 0.2407\n",
      "Epoch 103/150\n",
      "80/80 [==============================] - 0s 4ms/step - loss: 1.6037 - accuracy: 0.2514 - val_loss: 1.6106 - val_accuracy: 0.2220\n",
      "Epoch 104/150\n",
      "80/80 [==============================] - 0s 5ms/step - loss: 1.6027 - accuracy: 0.2464 - val_loss: 1.6104 - val_accuracy: 0.2212\n"
     ]
    },
    {
     "data": {
      "text/plain": "<keras.callbacks.History at 0x1ffbf776b80>"
     },
     "execution_count": 79,
     "metadata": {},
     "output_type": "execute_result"
    }
   ],
   "source": [
    "# First training with learning_rate = 0.0005\n",
    "early_stopping = EarlyStopping(monitor='val_loss', patience=10, restore_best_weights=True)\n",
    "learning_rate = 0.0005\n",
    "dense_model_jaccard = create_dense_model(X_train_meta_jaccard.shape[1], num_classes, learning_rate)\n",
    "dense_model_jaccard.fit(X_train_meta_jaccard, Y_train, epochs=150, batch_size=128, validation_data=(X_val_meta_jaccard, Y_val), callbacks=[early_stopping, model_checkpoint_jaccard])"
   ],
   "metadata": {
    "collapsed": false
   }
  },
  {
   "cell_type": "code",
   "execution_count": 120,
   "outputs": [
    {
     "name": "stdout",
     "output_type": "stream",
     "text": [
      "Epoch 1/50\n",
      "80/80 [==============================] - 2s 9ms/step - loss: 2.3710 - accuracy: 0.1940 - val_loss: 2.0040 - val_accuracy: 0.2181\n",
      "Epoch 2/50\n",
      "80/80 [==============================] - 0s 5ms/step - loss: 1.8989 - accuracy: 0.2107 - val_loss: 1.8313 - val_accuracy: 0.2336\n",
      "Epoch 3/50\n",
      "80/80 [==============================] - 0s 5ms/step - loss: 1.8089 - accuracy: 0.2197 - val_loss: 1.7951 - val_accuracy: 0.2188\n",
      "Epoch 4/50\n",
      "80/80 [==============================] - 0s 5ms/step - loss: 1.7837 - accuracy: 0.2198 - val_loss: 1.7764 - val_accuracy: 0.2305\n",
      "Epoch 5/50\n",
      "80/80 [==============================] - 0s 5ms/step - loss: 1.7710 - accuracy: 0.2173 - val_loss: 1.7681 - val_accuracy: 0.2321\n",
      "Epoch 6/50\n",
      "80/80 [==============================] - 0s 5ms/step - loss: 1.7649 - accuracy: 0.2149 - val_loss: 1.7644 - val_accuracy: 0.2383\n",
      "Epoch 7/50\n",
      "80/80 [==============================] - 0s 5ms/step - loss: 1.7607 - accuracy: 0.2296 - val_loss: 1.7606 - val_accuracy: 0.2305\n",
      "Epoch 8/50\n",
      "80/80 [==============================] - 0s 5ms/step - loss: 1.7583 - accuracy: 0.2221 - val_loss: 1.7582 - val_accuracy: 0.2321\n",
      "Epoch 9/50\n",
      "80/80 [==============================] - 0s 5ms/step - loss: 1.7569 - accuracy: 0.2224 - val_loss: 1.7568 - val_accuracy: 0.2368\n",
      "Epoch 10/50\n",
      "80/80 [==============================] - 0s 5ms/step - loss: 1.7515 - accuracy: 0.2298 - val_loss: 1.7582 - val_accuracy: 0.2290\n",
      "Epoch 11/50\n",
      "80/80 [==============================] - 0s 5ms/step - loss: 1.7538 - accuracy: 0.2244 - val_loss: 1.7599 - val_accuracy: 0.2274\n",
      "Epoch 12/50\n",
      "80/80 [==============================] - 0s 5ms/step - loss: 1.7511 - accuracy: 0.2300 - val_loss: 1.7523 - val_accuracy: 0.2352\n",
      "Epoch 13/50\n",
      "80/80 [==============================] - 0s 5ms/step - loss: 1.7518 - accuracy: 0.2239 - val_loss: 1.7511 - val_accuracy: 0.2274\n",
      "Epoch 14/50\n",
      "80/80 [==============================] - 0s 5ms/step - loss: 1.7493 - accuracy: 0.2275 - val_loss: 1.7548 - val_accuracy: 0.2243\n",
      "Epoch 15/50\n",
      "80/80 [==============================] - 0s 5ms/step - loss: 1.7484 - accuracy: 0.2249 - val_loss: 1.7544 - val_accuracy: 0.2305\n",
      "Epoch 16/50\n",
      "80/80 [==============================] - 0s 5ms/step - loss: 1.7472 - accuracy: 0.2250 - val_loss: 1.7539 - val_accuracy: 0.2344\n",
      "Epoch 17/50\n",
      "80/80 [==============================] - 0s 5ms/step - loss: 1.7471 - accuracy: 0.2271 - val_loss: 1.7518 - val_accuracy: 0.2298\n",
      "Epoch 18/50\n",
      "80/80 [==============================] - 0s 5ms/step - loss: 1.7458 - accuracy: 0.2322 - val_loss: 1.7481 - val_accuracy: 0.2298\n",
      "Epoch 19/50\n",
      "80/80 [==============================] - 0s 5ms/step - loss: 1.7467 - accuracy: 0.2316 - val_loss: 1.7504 - val_accuracy: 0.2321\n",
      "Epoch 20/50\n",
      "80/80 [==============================] - 0s 5ms/step - loss: 1.7456 - accuracy: 0.2274 - val_loss: 1.7491 - val_accuracy: 0.2329\n",
      "Epoch 21/50\n",
      "80/80 [==============================] - 0s 5ms/step - loss: 1.7449 - accuracy: 0.2315 - val_loss: 1.7488 - val_accuracy: 0.2391\n",
      "Epoch 22/50\n",
      "80/80 [==============================] - 0s 5ms/step - loss: 1.7449 - accuracy: 0.2328 - val_loss: 1.7484 - val_accuracy: 0.2360\n",
      "Epoch 23/50\n",
      "80/80 [==============================] - 0s 5ms/step - loss: 1.7441 - accuracy: 0.2341 - val_loss: 1.7498 - val_accuracy: 0.2344\n",
      "Epoch 24/50\n",
      "80/80 [==============================] - 0s 5ms/step - loss: 1.7446 - accuracy: 0.2306 - val_loss: 1.7473 - val_accuracy: 0.2360\n",
      "Epoch 25/50\n",
      "80/80 [==============================] - 0s 5ms/step - loss: 1.7419 - accuracy: 0.2306 - val_loss: 1.7471 - val_accuracy: 0.2282\n",
      "Epoch 26/50\n",
      "80/80 [==============================] - 0s 5ms/step - loss: 1.7431 - accuracy: 0.2326 - val_loss: 1.7481 - val_accuracy: 0.2430\n",
      "Epoch 27/50\n",
      "80/80 [==============================] - 0s 5ms/step - loss: 1.7432 - accuracy: 0.2360 - val_loss: 1.7482 - val_accuracy: 0.2344\n",
      "Epoch 28/50\n",
      "80/80 [==============================] - 0s 5ms/step - loss: 1.7425 - accuracy: 0.2368 - val_loss: 1.7513 - val_accuracy: 0.2383\n",
      "Epoch 29/50\n",
      "80/80 [==============================] - 0s 5ms/step - loss: 1.7424 - accuracy: 0.2346 - val_loss: 1.7519 - val_accuracy: 0.2336\n",
      "Epoch 30/50\n",
      "80/80 [==============================] - 0s 5ms/step - loss: 1.7408 - accuracy: 0.2335 - val_loss: 1.7512 - val_accuracy: 0.2352\n",
      "Epoch 31/50\n",
      "80/80 [==============================] - 0s 5ms/step - loss: 1.7412 - accuracy: 0.2335 - val_loss: 1.7494 - val_accuracy: 0.2391\n",
      "Epoch 32/50\n",
      "80/80 [==============================] - 0s 5ms/step - loss: 1.7415 - accuracy: 0.2307 - val_loss: 1.7484 - val_accuracy: 0.2375\n",
      "Epoch 33/50\n",
      "80/80 [==============================] - 0s 5ms/step - loss: 1.7406 - accuracy: 0.2375 - val_loss: 1.7590 - val_accuracy: 0.2399\n",
      "Epoch 34/50\n",
      "80/80 [==============================] - 0s 5ms/step - loss: 1.7408 - accuracy: 0.2359 - val_loss: 1.7563 - val_accuracy: 0.2266\n",
      "Epoch 35/50\n",
      "80/80 [==============================] - 0s 5ms/step - loss: 1.7408 - accuracy: 0.2379 - val_loss: 1.7499 - val_accuracy: 0.2407\n",
      "Epoch 36/50\n",
      "80/80 [==============================] - 0s 5ms/step - loss: 1.7407 - accuracy: 0.2372 - val_loss: 1.7504 - val_accuracy: 0.2383\n",
      "Epoch 37/50\n",
      "80/80 [==============================] - 0s 5ms/step - loss: 1.7392 - accuracy: 0.2383 - val_loss: 1.7504 - val_accuracy: 0.2344\n",
      "Epoch 38/50\n",
      "80/80 [==============================] - 0s 5ms/step - loss: 1.7384 - accuracy: 0.2385 - val_loss: 1.7522 - val_accuracy: 0.2383\n",
      "Epoch 39/50\n",
      "80/80 [==============================] - 0s 5ms/step - loss: 1.7404 - accuracy: 0.2376 - val_loss: 1.7531 - val_accuracy: 0.2375\n",
      "Epoch 40/50\n",
      "80/80 [==============================] - 0s 5ms/step - loss: 1.7383 - accuracy: 0.2423 - val_loss: 1.7596 - val_accuracy: 0.2344\n",
      "Epoch 41/50\n",
      "80/80 [==============================] - 0s 5ms/step - loss: 1.7377 - accuracy: 0.2376 - val_loss: 1.7585 - val_accuracy: 0.2305\n",
      "Epoch 42/50\n",
      "80/80 [==============================] - 0s 5ms/step - loss: 1.7370 - accuracy: 0.2394 - val_loss: 1.7539 - val_accuracy: 0.2368\n",
      "Epoch 43/50\n",
      "80/80 [==============================] - 0s 5ms/step - loss: 1.7383 - accuracy: 0.2365 - val_loss: 1.7507 - val_accuracy: 0.2414\n",
      "Epoch 44/50\n",
      "80/80 [==============================] - 0s 5ms/step - loss: 1.7356 - accuracy: 0.2406 - val_loss: 1.7561 - val_accuracy: 0.2305\n",
      "Epoch 45/50\n",
      "80/80 [==============================] - 0s 5ms/step - loss: 1.7376 - accuracy: 0.2373 - val_loss: 1.7570 - val_accuracy: 0.2375\n",
      "Epoch 46/50\n",
      "80/80 [==============================] - 0s 5ms/step - loss: 1.7362 - accuracy: 0.2383 - val_loss: 1.7534 - val_accuracy: 0.2383\n",
      "Epoch 47/50\n",
      "80/80 [==============================] - 0s 5ms/step - loss: 1.7377 - accuracy: 0.2374 - val_loss: 1.7529 - val_accuracy: 0.2414\n",
      "Epoch 48/50\n",
      "80/80 [==============================] - 0s 5ms/step - loss: 1.7370 - accuracy: 0.2397 - val_loss: 1.7530 - val_accuracy: 0.2368\n",
      "Epoch 49/50\n",
      "80/80 [==============================] - 0s 5ms/step - loss: 1.7343 - accuracy: 0.2417 - val_loss: 1.7549 - val_accuracy: 0.2352\n",
      "Epoch 50/50\n",
      "80/80 [==============================] - 0s 5ms/step - loss: 1.7350 - accuracy: 0.2449 - val_loss: 1.7563 - val_accuracy: 0.2344\n"
     ]
    },
    {
     "data": {
      "text/plain": "<keras.callbacks.History at 0x1ffc3622ca0>"
     },
     "execution_count": 120,
     "metadata": {},
     "output_type": "execute_result"
    }
   ],
   "source": [
    "# Second training with learning_rate = 0.001\n",
    "early_stopping = EarlyStopping(monitor='val_loss', patience=20, restore_best_weights=True)\n",
    "learning_rate = 0.001\n",
    "dense_model_jaccard = create_dense_model(X_train_meta_jaccard.shape[1], num_classes, learning_rate) # Create a new model with fresh weights and updated learning rate\n",
    "dense_model_jaccard.fit(X_train_meta_jaccard, Y_train, epochs=150, batch_size=128, validation_data=(X_val_meta_jaccard, Y_val), callbacks=[early_stopping, model_checkpoint_jaccard])"
   ],
   "metadata": {
    "collapsed": false
   }
  },
  {
   "cell_type": "code",
   "execution_count": 121,
   "outputs": [
    {
     "name": "stdout",
     "output_type": "stream",
     "text": [
      "40/40 [==============================] - 0s 2ms/step\n",
      "Test set accuracy: 0.23\n",
      "Test set precision: 0.13\n",
      "Test set recall: 0.23\n",
      "Test set F1 score: 0.16\n"
     ]
    },
    {
     "data": {
      "text/plain": "<Figure size 800x600 with 2 Axes>",
      "image/png": "[encoded data removed]"
     },
     "metadata": {},
     "output_type": "display_data"
    }
   ],
   "source": [
    "evaluation = dense_model_jaccard.evaluate(X_test_meta_jaccard, Y_test)\n",
    "\n",
    "# Load the best model from the saved checkpoint\n",
    "best_model_jaccard = load_model('best_model_jaccard.h5')\n",
    "\n",
    "# Make predictions using the best model\n",
    "dense_model_jaccard_predictions = best_model_jaccard.predict(X_test_meta_jaccard)\n",
    "\n",
    "plot_matrix(dense_model_jaccard_predictions)"
   ],
   "metadata": {
    "collapsed": false
   }
  },
  {
   "cell_type": "markdown",
   "source": [
    "# MULTI INPUT DENSE MODEL"
   ],
   "metadata": {
    "collapsed": false
   }
  },
  {
   "cell_type": "code",
   "execution_count": 86,
   "outputs": [
    {
     "name": "stdout",
     "output_type": "stream",
     "text": [
      "Length of the vocabulary dictionaries: 9606 9495\n"
     ]
    }
   ],
   "source": [
    "vocabulary_dict_custom = pickle.load(open('vocabulary_statement_custom.p', 'rb'))\n",
    "vocabulary_dict_spacy = pickle.load(open('vocabulary_statement_spacy.p', 'rb'))\n",
    "# vocab_length = len(vocabulary_dict_custom)\n",
    "print(\"Length of the vocabulary dictionaries:\", len(vocabulary_dict_custom), len(vocabulary_dict_spacy))"
   ],
   "metadata": {
    "collapsed": false
   }
  },
  {
   "cell_type": "code",
   "execution_count": 87,
   "outputs": [],
   "source": [
    "# Multi input dense ORGINAL IMPORTANT\n",
    "def create_multi_input_dense_model(input_shape_meta, vocab_size_pos, vocab_size_dep, num_classes, learning_rate, input_seq_length):\n",
    "    # Define separate input layers for each feature type\n",
    "    input_meta = Input(shape=input_shape_meta, name=\"meta_input\")\n",
    "    input_pos = Input(shape=(input_seq_length,), name=\"pos_input\")\n",
    "    input_dep = Input(shape=(input_seq_length,), name=\"dep_input\")\n",
    "\n",
    "    # Define initial processing layers for each feature type\n",
    "    meta_dense = Dense(512, activation='relu', kernel_regularizer=l2(0.001))(input_meta)\n",
    "    pos_embedding = Embedding(vocab_size_pos, 16)(input_pos)\n",
    "    pos_flat = Flatten()(pos_embedding)\n",
    "    dep_embedding = Embedding(vocab_size_dep, 16)(input_dep)\n",
    "    dep_flat = Flatten()(dep_embedding)\n",
    "\n",
    "    # Concatenate the outputs of the initial processing layers\n",
    "    concat = Concatenate()([meta_dense, pos_flat, dep_flat])\n",
    "\n",
    "    # Add additional Dense layers after concatenation\n",
    "    dense = Dense(256, activation='relu', kernel_regularizer=l2(0.001))(concat)\n",
    "    dense = Dense(256, activation='relu', kernel_regularizer=l2(0.001))(dense)\n",
    "    dense = Dropout(0.5)(dense)\n",
    "    dense = Dense(256, activation='relu', kernel_regularizer=l2(0.001))(dense)\n",
    "    dense = Dense(64, activation='relu', kernel_regularizer=l2(0.001))(dense)\n",
    "    dense = Dense(64, activation='relu', kernel_regularizer=l2(0.001))(dense)\n",
    "    dense = Dense(64, activation='relu', kernel_regularizer=l2(0.001))(dense)\n",
    "    dense = Dropout(0.5)(dense)\n",
    "\n",
    "    # Add the final output layer\n",
    "    output = Dense(num_classes, activation='softmax', kernel_regularizer=l2(0.001))(dense)\n",
    "\n",
    "    # Create and compile the model\n",
    "    model = Model(inputs=[input_meta, input_pos, input_dep], outputs=output)\n",
    "    optimizer = Adam(learning_rate=learning_rate)\n",
    "    model.compile(optimizer=optimizer, loss='categorical_crossentropy', metrics=['accuracy'])\n",
    "\n",
    "    return model"
   ],
   "metadata": {
    "collapsed": false
   }
  },
  {
   "cell_type": "code",
   "execution_count": 261,
   "outputs": [],
   "source": [
    "# # Multi input dense\n",
    "# def create_multi_input_dense_model(input_shape_meta, vocab_size_pos, vocab_size_dep, num_classes, learning_rate, input_seq_length):\n",
    "#     # Define separate input layers for each feature type\n",
    "#     input_meta = Input(shape=input_shape_meta, name=\"meta_input\")\n",
    "#     input_pos = Input(shape=(input_seq_length,), name=\"pos_input\")\n",
    "#     input_dep = Input(shape=(input_seq_length,), name=\"dep_input\")\n",
    "#\n",
    "#     # Define initial processing layers for each feature type\n",
    "#     meta_dense = Dense(512, activation='relu', kernel_regularizer=l2(0.001))(input_meta)\n",
    "#     pos_embedding = Embedding(vocab_size_pos, 16)(input_pos)\n",
    "#     pos_flat = Flatten()(pos_embedding)\n",
    "#     dep_embedding = Embedding(vocab_size_dep, 16)(input_dep)\n",
    "#     dep_flat = Flatten()(dep_embedding)\n",
    "#\n",
    "#     # Concatenate the outputs of the initial processing layers\n",
    "#     concat = Concatenate()([meta_dense, pos_flat, dep_flat])\n",
    "#\n",
    "#     # Add additional Dense layers after concatenation\n",
    "#     dense = Dense(256, activation='relu', kernel_regularizer=l2(0.001))(concat)\n",
    "#     dense = Dense(256, activation='relu', kernel_regularizer=l2(0.001))(dense)\n",
    "#     dense = Dropout(0.5)(dense)\n",
    "#     dense = Dense(256, activation='relu', kernel_regularizer=l2(0.001))(dense)\n",
    "#     dense = Dense(64, activation='relu', kernel_regularizer=l2(0.001))(dense)\n",
    "#     dense = Dropout(0.5)(dense)\n",
    "#     dense = Dense(64, activation='relu', kernel_regularizer=l2(0.001))(dense)\n",
    "#     dense = Dense(64, activation='relu', kernel_regularizer=l2(0.001))(dense)\n",
    "#     dense = Dropout(0.5)(dense)\n",
    "#\n",
    "#     # Add the final output layer\n",
    "#     output = Dense(num_classes, activation='softmax', kernel_regularizer=l2(0.001))(dense)\n",
    "#\n",
    "#     # Create and compile the model\n",
    "#     model = Model(inputs=[input_meta, input_pos, input_dep], outputs=output)\n",
    "#     optimizer = Adam(learning_rate=learning_rate)\n",
    "#     model.compile(optimizer=optimizer, loss='categorical_crossentropy', metrics=['accuracy'])\n",
    "#\n",
    "#     return model"
   ],
   "metadata": {
    "collapsed": false
   }
  },
  {
   "cell_type": "code",
   "execution_count": 238,
   "outputs": [
    {
     "name": "stdout",
     "output_type": "stream",
     "text": [
      "POS vocabulary size: 16\n"
     ]
    }
   ],
   "source": [
    "# print length pos_dict fine\n",
    "print(\"POS vocabulary size:\", len(pos_dict_fine))"
   ],
   "metadata": {
    "collapsed": false
   }
  },
  {
   "cell_type": "code",
   "execution_count": 237,
   "outputs": [
    {
     "name": "stdout",
     "output_type": "stream",
     "text": [
      "POS vocabulary max value: 5\n"
     ]
    }
   ],
   "source": [
    "# print max of pos_dict fine\n",
    "print(\"POS vocabulary max value:\", max(pos_dict_fine_merged.values()))"
   ],
   "metadata": {
    "collapsed": false
   }
  },
  {
   "cell_type": "code",
   "execution_count": null,
   "outputs": [],
   "source": [
    "# num_classes = 6\n",
    "# # First training with learning_rate = 0.0005\n",
    "# early_stopping = EarlyStopping(monitor='val_loss', patience=10, restore_best_weights=True)\n",
    "# learning_rate = 0.0005\n",
    "# # dense_model_kmeans = create_dense_model(X_train_meta_kmeans.shape[1], num_classes, learning_rate)\n",
    "# # dense_model_kmeans.fit(X_train_meta_kmeans, Y_train, epochs=150, batch_size=128, validation_data=(X_val_meta_kmeans, Y_val), callbacks=[early_stopping, model_checkpoint_kmeans])"
   ],
   "metadata": {
    "collapsed": false
   }
  },
  {
   "cell_type": "code",
   "execution_count": null,
   "outputs": [],
   "source": [
    "# Create ModelCheckpoint callback\n",
    "# model_checkpoint_jaccard_pfine_dfine = ModelCheckpoint(filepath='best_model_jaccard_pfine_dfine.h5', monitor='val_loss', save_best_only=True)\n",
    "# model_checkpoint_kmeans = ModelCheckpoint(filepath='best_model_kmeans.h5', monitor='val_loss', save_best_only=True)"
   ],
   "metadata": {
    "collapsed": false
   }
  },
  {
   "cell_type": "code",
   "execution_count": 267,
   "outputs": [],
   "source": [],
   "metadata": {
    "collapsed": false
   }
  },
  {
   "cell_type": "markdown",
   "source": [
    "## JACCARD META, pos_fine, dep_fine"
   ],
   "metadata": {
    "collapsed": false
   }
  },
  {
   "cell_type": "code",
   "execution_count": 88,
   "outputs": [
    {
     "name": "stdout",
     "output_type": "stream",
     "text": [
      "Epoch 1/150\n",
      "80/80 [==============================] - 3s 21ms/step - loss: 2.6011 - accuracy: 0.1957 - val_loss: 2.2569 - val_accuracy: 0.1939\n",
      "Epoch 2/150\n",
      "80/80 [==============================] - 1s 11ms/step - loss: 2.0978 - accuracy: 0.2140 - val_loss: 1.9726 - val_accuracy: 0.2438\n",
      "Epoch 3/150\n",
      "80/80 [==============================] - 1s 13ms/step - loss: 1.9194 - accuracy: 0.2286 - val_loss: 1.8675 - val_accuracy: 0.2539\n",
      "Epoch 4/150\n",
      "80/80 [==============================] - 1s 14ms/step - loss: 1.8417 - accuracy: 0.2368 - val_loss: 1.8227 - val_accuracy: 0.2718\n",
      "Epoch 5/150\n",
      "80/80 [==============================] - 1s 13ms/step - loss: 1.8110 - accuracy: 0.2328 - val_loss: 1.7943 - val_accuracy: 0.2609\n",
      "Epoch 6/150\n",
      "80/80 [==============================] - 1s 10ms/step - loss: 1.7866 - accuracy: 0.2344 - val_loss: 1.7803 - val_accuracy: 0.2632\n",
      "Epoch 7/150\n",
      "80/80 [==============================] - 1s 10ms/step - loss: 1.7737 - accuracy: 0.2398 - val_loss: 1.7712 - val_accuracy: 0.2500\n",
      "Epoch 8/150\n",
      "80/80 [==============================] - 1s 10ms/step - loss: 1.7646 - accuracy: 0.2463 - val_loss: 1.7693 - val_accuracy: 0.2484\n",
      "Epoch 9/150\n",
      "80/80 [==============================] - 1s 13ms/step - loss: 1.7600 - accuracy: 0.2443 - val_loss: 1.7620 - val_accuracy: 0.2664\n",
      "Epoch 10/150\n",
      "80/80 [==============================] - 1s 11ms/step - loss: 1.7472 - accuracy: 0.2559 - val_loss: 1.7663 - val_accuracy: 0.2508\n",
      "Epoch 11/150\n",
      "80/80 [==============================] - 1s 11ms/step - loss: 1.7442 - accuracy: 0.2521 - val_loss: 1.7622 - val_accuracy: 0.2516\n",
      "Epoch 12/150\n",
      "80/80 [==============================] - 1s 10ms/step - loss: 1.7407 - accuracy: 0.2574 - val_loss: 1.7708 - val_accuracy: 0.2523\n",
      "Epoch 13/150\n",
      "80/80 [==============================] - 1s 13ms/step - loss: 1.7389 - accuracy: 0.2543 - val_loss: 1.7638 - val_accuracy: 0.2438\n",
      "Epoch 14/150\n",
      "80/80 [==============================] - 1s 11ms/step - loss: 1.7311 - accuracy: 0.2609 - val_loss: 1.7597 - val_accuracy: 0.2523\n",
      "Epoch 15/150\n",
      "80/80 [==============================] - 1s 11ms/step - loss: 1.7289 - accuracy: 0.2612 - val_loss: 1.7672 - val_accuracy: 0.2461\n",
      "Epoch 16/150\n",
      "80/80 [==============================] - 1s 11ms/step - loss: 1.7270 - accuracy: 0.2659 - val_loss: 1.7673 - val_accuracy: 0.2523\n",
      "Epoch 17/150\n",
      "80/80 [==============================] - 1s 13ms/step - loss: 1.7223 - accuracy: 0.2682 - val_loss: 1.7704 - val_accuracy: 0.2484\n",
      "Epoch 18/150\n",
      "80/80 [==============================] - 1s 11ms/step - loss: 1.7105 - accuracy: 0.2776 - val_loss: 1.7797 - val_accuracy: 0.2578\n",
      "Epoch 19/150\n",
      "80/80 [==============================] - 1s 14ms/step - loss: 1.7036 - accuracy: 0.2807 - val_loss: 1.7913 - val_accuracy: 0.2477\n",
      "Epoch 20/150\n",
      "80/80 [==============================] - 1s 9ms/step - loss: 1.6956 - accuracy: 0.2887 - val_loss: 1.8006 - val_accuracy: 0.2500\n",
      "Epoch 21/150\n",
      "80/80 [==============================] - 1s 11ms/step - loss: 1.6741 - accuracy: 0.2962 - val_loss: 1.8468 - val_accuracy: 0.2469\n",
      "Epoch 22/150\n",
      "80/80 [==============================] - 1s 10ms/step - loss: 1.6524 - accuracy: 0.3144 - val_loss: 1.8562 - val_accuracy: 0.2407\n",
      "Epoch 23/150\n",
      "80/80 [==============================] - 1s 11ms/step - loss: 1.6240 - accuracy: 0.3313 - val_loss: 1.8777 - val_accuracy: 0.2531\n",
      "Epoch 24/150\n",
      "80/80 [==============================] - 1s 14ms/step - loss: 1.5921 - accuracy: 0.3341 - val_loss: 1.9937 - val_accuracy: 0.2414\n"
     ]
    },
    {
     "data": {
      "text/plain": "<keras.callbacks.History at 0x269d4aab220>"
     },
     "execution_count": 88,
     "metadata": {},
     "output_type": "execute_result"
    }
   ],
   "source": [
    "# JACCARD META, pos_fine, dep_fine\n",
    "# INITIALISE\n",
    "input_shape_meta = (X_train_meta_jaccard.shape[1],) # JACCARD META\n",
    "vocab_size_pos_fine =  max(pos_dict_fine.values())+1 # FINE GRAINED POS\n",
    "vocab_size_dep_fine = max(dep_dict_fine.values())+1 # FINE GRAINED DEP\n",
    "\n",
    "model_checkpoint_jaccard_pfine_dfine = ModelCheckpoint(filepath='best_model_jaccard_pfine_dfine.h5', monitor='val_loss', save_best_only=True)\n",
    "early_stopping = EarlyStopping(monitor='val_loss', patience=10, restore_best_weights=True)\n",
    "\n",
    "num_classes = 6\n",
    "learning_rate = 0.0005\n",
    "\n",
    "# Create the JACCARD META, pos_fine, dep_fine model\n",
    "dense_model_jaccard_pfine_dfine = create_multi_input_dense_model(input_shape_meta, vocab_size_pos_fine, vocab_size_dep_fine, num_classes, learning_rate, pad_len)\n",
    "\n",
    "# TRAIN\n",
    "dense_model_jaccard_pfine_dfine.fit([X_train_meta_jaccard, X_train_pos_fine, X_train_dep_fine], Y_train, epochs=150, batch_size=128, validation_data=([X_val_meta_jaccard, X_val_pos_fine, X_val_dep_fine], Y_val), callbacks=[early_stopping, model_checkpoint_jaccard_pfine_dfine])"
   ],
   "metadata": {
    "collapsed": false
   }
  },
  {
   "cell_type": "code",
   "execution_count": 89,
   "outputs": [
    {
     "name": "stdout",
     "output_type": "stream",
     "text": [
      "40/40 [==============================] - 1s 13ms/step\n",
      "Test set accuracy: 0.25\n",
      "Test set precision: 0.15\n",
      "Test set recall: 0.25\n",
      "Test set F1 score: 0.17\n",
      "[[  0  67   0  11  14   0]\n",
      " [  0 154   0  37  58   0]\n",
      " [  0 124   0  38  50   0]\n",
      " [  0 130   0  41  94   0]\n",
      " [  0  82   0  37 122   0]\n",
      " [  0  83   0  25 100   0]]\n"
     ]
    },
    {
     "data": {
      "text/plain": "<Figure size 800x600 with 2 Axes>",
      "image/png": "[encoded data removed]"
     },
     "metadata": {},
     "output_type": "display_data"
    }
   ],
   "source": [
    "# CONFUSION MATRIX AND PREDICTIONS FOR LR 0.001\n",
    "# Load the best model from the saved checkpoint\n",
    "best_model_jaccard_pfine_dfine = load_model('best_model_jaccard_pfine_dfine.h5')\n",
    "dense_model_jaccard_pfine_dfine_predictions = best_model_jaccard_pfine_dfine.predict([X_test_meta_jaccard, X_test_pos_fine, X_test_dep_fine])\n",
    "\n",
    "plot_matrix(dense_model_jaccard_pfine_dfine_predictions)"
   ],
   "metadata": {
    "collapsed": false
   }
  },
  {
   "cell_type": "markdown",
   "source": [
    "## JACCARD META, pos_fine, dep_custom"
   ],
   "metadata": {
    "collapsed": false
   }
  },
  {
   "cell_type": "code",
   "execution_count": 95,
   "outputs": [
    {
     "name": "stdout",
     "output_type": "stream",
     "text": [
      "Epoch 1/150\n",
      "80/80 [==============================] - 3s 14ms/step - loss: 2.5937 - accuracy: 0.1916 - val_loss: 2.2522 - val_accuracy: 0.2243\n",
      "Epoch 2/150\n",
      "80/80 [==============================] - 1s 11ms/step - loss: 2.0954 - accuracy: 0.1942 - val_loss: 1.9748 - val_accuracy: 0.1994\n",
      "Epoch 3/150\n",
      "80/80 [==============================] - 1s 12ms/step - loss: 1.9163 - accuracy: 0.1985 - val_loss: 1.8648 - val_accuracy: 0.2157\n",
      "Epoch 4/150\n",
      "80/80 [==============================] - 1s 9ms/step - loss: 1.8395 - accuracy: 0.2117 - val_loss: 1.8192 - val_accuracy: 0.2329\n",
      "Epoch 5/150\n",
      "80/80 [==============================] - 1s 12ms/step - loss: 1.8046 - accuracy: 0.2288 - val_loss: 1.7918 - val_accuracy: 0.2477\n",
      "Epoch 6/150\n",
      "80/80 [==============================] - 1s 11ms/step - loss: 1.7812 - accuracy: 0.2345 - val_loss: 1.7743 - val_accuracy: 0.2578\n",
      "Epoch 7/150\n",
      "80/80 [==============================] - 1s 11ms/step - loss: 1.7708 - accuracy: 0.2340 - val_loss: 1.7695 - val_accuracy: 0.2555\n",
      "Epoch 8/150\n",
      "80/80 [==============================] - 1s 12ms/step - loss: 1.7603 - accuracy: 0.2436 - val_loss: 1.7677 - val_accuracy: 0.2492\n",
      "Epoch 9/150\n",
      "80/80 [==============================] - 1s 10ms/step - loss: 1.7525 - accuracy: 0.2431 - val_loss: 1.7556 - val_accuracy: 0.2407\n",
      "Epoch 10/150\n",
      "80/80 [==============================] - 1s 14ms/step - loss: 1.7467 - accuracy: 0.2501 - val_loss: 1.7523 - val_accuracy: 0.2516\n",
      "Epoch 11/150\n",
      "80/80 [==============================] - 1s 10ms/step - loss: 1.7397 - accuracy: 0.2516 - val_loss: 1.7532 - val_accuracy: 0.2578\n",
      "Epoch 12/150\n",
      "80/80 [==============================] - 1s 11ms/step - loss: 1.7392 - accuracy: 0.2503 - val_loss: 1.7531 - val_accuracy: 0.2586\n",
      "Epoch 13/150\n",
      "80/80 [==============================] - 1s 11ms/step - loss: 1.7337 - accuracy: 0.2580 - val_loss: 1.7538 - val_accuracy: 0.2430\n",
      "Epoch 14/150\n",
      "80/80 [==============================] - 1s 11ms/step - loss: 1.7304 - accuracy: 0.2576 - val_loss: 1.7573 - val_accuracy: 0.2562\n",
      "Epoch 15/150\n",
      "80/80 [==============================] - 1s 10ms/step - loss: 1.7238 - accuracy: 0.2563 - val_loss: 1.7631 - val_accuracy: 0.2492\n",
      "Epoch 16/150\n",
      "80/80 [==============================] - 1s 11ms/step - loss: 1.7200 - accuracy: 0.2656 - val_loss: 1.7573 - val_accuracy: 0.2500\n",
      "Epoch 17/150\n",
      "80/80 [==============================] - 1s 9ms/step - loss: 1.7128 - accuracy: 0.2684 - val_loss: 1.7726 - val_accuracy: 0.2555\n",
      "Epoch 18/150\n",
      "80/80 [==============================] - 1s 11ms/step - loss: 1.7057 - accuracy: 0.2759 - val_loss: 1.7785 - val_accuracy: 0.2531\n",
      "Epoch 19/150\n",
      "80/80 [==============================] - 1s 8ms/step - loss: 1.6895 - accuracy: 0.2862 - val_loss: 1.7986 - val_accuracy: 0.2492\n",
      "Epoch 20/150\n",
      "80/80 [==============================] - 1s 13ms/step - loss: 1.6707 - accuracy: 0.2972 - val_loss: 1.8615 - val_accuracy: 0.2477\n"
     ]
    },
    {
     "data": {
      "text/plain": "<keras.callbacks.History at 0x269db3565b0>"
     },
     "execution_count": 95,
     "metadata": {},
     "output_type": "execute_result"
    }
   ],
   "source": [
    "# JACCARD META, pos_fine, dep_custom\n",
    "# INITIALISE\n",
    "input_shape_meta = (X_train_meta_jaccard.shape[1],) # JACCARD META\n",
    "vocab_size_pos_fine =  max(pos_dict_fine.values())+1 # FINE GRAINED POS\n",
    "vocab_size_dep_custom = max(dep_dict_custom.values())+1 # CUSTOM DEP\n",
    "\n",
    "model_checkpoint_jaccard_pfine_dcustom = ModelCheckpoint(filepath='best_model_jaccard_pfine_dcustom.h5', monitor='val_loss', save_best_only=True)\n",
    "early_stopping = EarlyStopping(monitor='val_loss', patience=10, restore_best_weights=True)\n",
    "\n",
    "num_classes = 6\n",
    "learning_rate = 0.0005\n",
    "# max_len = 30\n",
    "\n",
    "# Create the JACCARD META, pos_fine, dep_custom model\n",
    "dense_model_jaccard_pfine_dcustom = create_multi_input_dense_model(input_shape_meta, vocab_size_pos_fine, vocab_size_dep_custom, num_classes, learning_rate, pad_len)\n",
    "\n",
    "# TRAIN\n",
    "dense_model_jaccard_pfine_dcustom.fit([X_train_meta_jaccard, X_train_pos_fine, X_train_dep_custom], Y_train, epochs=150, batch_size=128, validation_data=([X_val_meta_jaccard, X_val_pos_fine, X_val_dep_custom], Y_val), callbacks=[early_stopping, model_checkpoint_jaccard_pfine_dcustom])"
   ],
   "metadata": {
    "collapsed": false
   }
  },
  {
   "cell_type": "code",
   "execution_count": 96,
   "outputs": [
    {
     "name": "stdout",
     "output_type": "stream",
     "text": [
      "40/40 [==============================] - 1s 17ms/step - loss: 1.7457 - accuracy: 0.2549\n",
      "40/40 [==============================] - 0s 9ms/step\n",
      "Test set accuracy: 0.25\n",
      "Test set precision: 0.15\n",
      "Test set recall: 0.25\n",
      "Test set F1 score: 0.19\n",
      "[[  0  60   0  14  18   0]\n",
      " [  0 130   0  55  64   0]\n",
      " [  0  99   0  56  57   0]\n",
      " [  0 102   0  76  87   0]\n",
      " [  0  66   0  58 117   0]\n",
      " [  0  69   0  40  99   0]]\n"
     ]
    },
    {
     "data": {
      "text/plain": "<Figure size 800x600 with 2 Axes>",
      "image/png": "[encoded data removed]"
     },
     "metadata": {},
     "output_type": "display_data"
    }
   ],
   "source": [
    "# CONFUSION MATRIX AND PREDICTIONS\n",
    "evaluation = dense_model_jaccard_pfine_dcustom.evaluate([X_test_meta_jaccard, X_test_pos_fine, X_test_dep_custom], Y_test)\n",
    "\n",
    "# Load the best model from the saved checkpoint\n",
    "best_model_jaccard_pfine_dcustom = load_model('best_model_jaccard_pfine_dcustom.h5')\n",
    "\n",
    "# Make predictions using the best model\n",
    "dense_model_jaccard_pfine_dcustom_predictions = best_model_jaccard_pfine_dcustom.predict([X_test_meta_jaccard, X_test_pos_fine, X_test_dep_custom])\n",
    "\n",
    "plot_matrix(dense_model_jaccard_pfine_dcustom_predictions)"
   ],
   "metadata": {
    "collapsed": false
   }
  },
  {
   "cell_type": "markdown",
   "source": [
    "## JACCARD META, pos_merge, dep_fine"
   ],
   "metadata": {
    "collapsed": false
   }
  },
  {
   "cell_type": "code",
   "execution_count": 277,
   "outputs": [
    {
     "name": "stdout",
     "output_type": "stream",
     "text": [
      "Epoch 1/150\n",
      "80/80 [==============================] - 4s 26ms/step - loss: 2.6247 - accuracy: 0.1972 - val_loss: 2.3033 - val_accuracy: 0.1939\n",
      "Epoch 2/150\n",
      "80/80 [==============================] - 1s 11ms/step - loss: 2.1515 - accuracy: 0.2123 - val_loss: 2.0310 - val_accuracy: 0.2002\n",
      "Epoch 3/150\n",
      "80/80 [==============================] - 1s 11ms/step - loss: 1.9719 - accuracy: 0.2067 - val_loss: 1.9169 - val_accuracy: 0.2344\n",
      "Epoch 4/150\n",
      "80/80 [==============================] - 1s 13ms/step - loss: 1.8865 - accuracy: 0.2219 - val_loss: 1.8578 - val_accuracy: 0.2430\n",
      "Epoch 5/150\n",
      "80/80 [==============================] - 1s 12ms/step - loss: 1.8406 - accuracy: 0.2239 - val_loss: 1.8241 - val_accuracy: 0.2523\n",
      "Epoch 6/150\n",
      "80/80 [==============================] - 1s 10ms/step - loss: 1.8144 - accuracy: 0.2271 - val_loss: 1.8024 - val_accuracy: 0.2492\n",
      "Epoch 7/150\n",
      "80/80 [==============================] - 1s 12ms/step - loss: 1.7964 - accuracy: 0.2362 - val_loss: 1.7889 - val_accuracy: 0.2555\n",
      "Epoch 8/150\n",
      "80/80 [==============================] - 1s 10ms/step - loss: 1.7822 - accuracy: 0.2347 - val_loss: 1.7806 - val_accuracy: 0.2492\n",
      "Epoch 9/150\n",
      "80/80 [==============================] - 1s 12ms/step - loss: 1.7736 - accuracy: 0.2331 - val_loss: 1.7723 - val_accuracy: 0.2477\n",
      "Epoch 10/150\n",
      "80/80 [==============================] - 1s 11ms/step - loss: 1.7679 - accuracy: 0.2392 - val_loss: 1.7649 - val_accuracy: 0.2500\n",
      "Epoch 11/150\n",
      "80/80 [==============================] - 1s 9ms/step - loss: 1.7614 - accuracy: 0.2428 - val_loss: 1.7600 - val_accuracy: 0.2531\n",
      "Epoch 12/150\n",
      "80/80 [==============================] - 1s 11ms/step - loss: 1.7598 - accuracy: 0.2395 - val_loss: 1.7569 - val_accuracy: 0.2562\n",
      "Epoch 13/150\n",
      "80/80 [==============================] - 1s 12ms/step - loss: 1.7521 - accuracy: 0.2409 - val_loss: 1.7602 - val_accuracy: 0.2453\n",
      "Epoch 14/150\n",
      "80/80 [==============================] - 1s 10ms/step - loss: 1.7510 - accuracy: 0.2428 - val_loss: 1.7531 - val_accuracy: 0.2570\n",
      "Epoch 15/150\n",
      "80/80 [==============================] - 1s 11ms/step - loss: 1.7499 - accuracy: 0.2404 - val_loss: 1.7511 - val_accuracy: 0.2601\n",
      "Epoch 16/150\n",
      "80/80 [==============================] - 1s 13ms/step - loss: 1.7443 - accuracy: 0.2462 - val_loss: 1.7508 - val_accuracy: 0.2578\n",
      "Epoch 17/150\n",
      "80/80 [==============================] - 1s 10ms/step - loss: 1.7415 - accuracy: 0.2477 - val_loss: 1.7535 - val_accuracy: 0.2523\n",
      "Epoch 18/150\n",
      "80/80 [==============================] - 1s 11ms/step - loss: 1.7392 - accuracy: 0.2522 - val_loss: 1.7523 - val_accuracy: 0.2500\n",
      "Epoch 19/150\n",
      "80/80 [==============================] - 1s 12ms/step - loss: 1.7358 - accuracy: 0.2502 - val_loss: 1.7525 - val_accuracy: 0.2586\n",
      "Epoch 20/150\n",
      "80/80 [==============================] - 1s 9ms/step - loss: 1.7354 - accuracy: 0.2537 - val_loss: 1.7658 - val_accuracy: 0.2445\n",
      "Epoch 21/150\n",
      "80/80 [==============================] - 1s 12ms/step - loss: 1.7343 - accuracy: 0.2533 - val_loss: 1.7623 - val_accuracy: 0.2555\n",
      "Epoch 22/150\n",
      "80/80 [==============================] - 1s 10ms/step - loss: 1.7273 - accuracy: 0.2565 - val_loss: 1.7577 - val_accuracy: 0.2375\n",
      "Epoch 23/150\n",
      "80/80 [==============================] - 1s 11ms/step - loss: 1.7243 - accuracy: 0.2611 - val_loss: 1.7592 - val_accuracy: 0.2547\n",
      "Epoch 24/150\n",
      "80/80 [==============================] - 1s 10ms/step - loss: 1.7185 - accuracy: 0.2689 - val_loss: 1.7689 - val_accuracy: 0.2523\n",
      "Epoch 25/150\n",
      "80/80 [==============================] - 1s 13ms/step - loss: 1.7144 - accuracy: 0.2706 - val_loss: 1.7852 - val_accuracy: 0.2508\n",
      "Epoch 26/150\n",
      "80/80 [==============================] - 1s 13ms/step - loss: 1.7021 - accuracy: 0.2802 - val_loss: 1.7934 - val_accuracy: 0.2352\n"
     ]
    },
    {
     "data": {
      "text/plain": "<keras.callbacks.History at 0x1ffd7fb18e0>"
     },
     "execution_count": 277,
     "metadata": {},
     "output_type": "execute_result"
    }
   ],
   "source": [
    "# JACCARD META, pos_merge, dep_fine\n",
    "# INITIALISE\n",
    "input_shape_meta = (X_train_meta_jaccard.shape[1],) # JACCARD META\n",
    "vocab_size_pos_merge =  max(pos_dict_fine_merged.values())+1 # MERGED POS\n",
    "vocab_size_dep_fine = max(dep_dict_fine.values())+1 # FINE GRAINED DEP\n",
    "\n",
    "model_checkpoint_jaccard_pmerge_dfine = ModelCheckpoint(filepath='best_model_jaccard_pmerge_dfine.h5', monitor='val_loss', save_best_only=True)\n",
    "early_stopping = EarlyStopping(monitor='val_loss', patience=10, restore_best_weights=False)\n",
    "\n",
    "num_classes = 6\n",
    "learning_rate = 0.0001\n",
    "# max_len = 30\n",
    "\n",
    "# Create and train the JACCARD META, pos_merge, dep_fine model\n",
    "dense_model_jaccard_pmerge_dfine = create_multi_input_dense_model(input_shape_meta, vocab_size_pos_merge, vocab_size_dep_fine, num_classes, learning_rate, pad_len)\n",
    "\n",
    "# train\n",
    "dense_model_jaccard_pmerge_dfine.fit([X_train_meta_jaccard, X_train_pos_finemerge, X_train_dep_fine], Y_train, epochs=150, batch_size=128, validation_data=([X_val_meta_jaccard, X_val_pos_finemerge, X_val_dep_fine], Y_val), callbacks=[early_stopping, model_checkpoint_jaccard_pmerge_dfine])"
   ],
   "metadata": {
    "collapsed": false
   }
  },
  {
   "cell_type": "code",
   "execution_count": 278,
   "outputs": [
    {
     "name": "stdout",
     "output_type": "stream",
     "text": [
      "40/40 [==============================] - 1s 18ms/step - loss: 1.7850 - accuracy: 0.2257\n",
      "40/40 [==============================] - 1s 12ms/step\n",
      "Test set accuracy: 0.26\n",
      "Test set precision: 0.16\n",
      "Test set recall: 0.26\n",
      "Test set F1 score: 0.19\n",
      "[[  0  64   0  13  15   0]\n",
      " [  0 148   0  40  61   0]\n",
      " [  0 117   0  34  61   0]\n",
      " [  0 120   0  56  89   0]\n",
      " [  0  71   0  42 128   0]\n",
      " [  0  76   0  33  99   0]]\n"
     ]
    },
    {
     "data": {
      "text/plain": "<Figure size 800x600 with 2 Axes>",
      "image/png": "[encoded data removed]"
     },
     "metadata": {},
     "output_type": "display_data"
    }
   ],
   "source": [
    "# evaluate dense_model_jaccard_pmerge_dfine\n",
    "evaluation = dense_model_jaccard_pmerge_dfine.evaluate([X_test_meta_jaccard, X_test_pos_finemerge, X_test_dep_fine], Y_test)\n",
    "\n",
    "# Load the best model from the saved checkpoint\n",
    "best_model_jaccard_pmerge_dfine = load_model('best_model_jaccard_pmerge_dfine.h5')\n",
    "\n",
    "# Make predictions using the best model\n",
    "dense_model_jaccard_pmerge_dfine_predictions = best_model_jaccard_pmerge_dfine.predict([X_test_meta_jaccard, X_test_pos_finemerge, X_test_dep_fine])\n",
    "\n",
    "plot_matrix(dense_model_jaccard_pmerge_dfine_predictions)"
   ],
   "metadata": {
    "collapsed": false
   }
  },
  {
   "cell_type": "markdown",
   "source": [
    "## JACCARD META, pos_merge, dep_custom"
   ],
   "metadata": {
    "collapsed": false
   }
  },
  {
   "cell_type": "code",
   "execution_count": 279,
   "outputs": [
    {
     "name": "stdout",
     "output_type": "stream",
     "text": [
      "Epoch 1/150\n",
      "80/80 [==============================] - 3s 18ms/step - loss: 2.6308 - accuracy: 0.1964 - val_loss: 2.3021 - val_accuracy: 0.1931\n",
      "Epoch 2/150\n",
      "80/80 [==============================] - 1s 11ms/step - loss: 2.1409 - accuracy: 0.1977 - val_loss: 2.0147 - val_accuracy: 0.2157\n",
      "Epoch 3/150\n",
      "80/80 [==============================] - 1s 11ms/step - loss: 1.9512 - accuracy: 0.2060 - val_loss: 1.8994 - val_accuracy: 0.2259\n",
      "Epoch 4/150\n",
      "80/80 [==============================] - 1s 12ms/step - loss: 1.8717 - accuracy: 0.2102 - val_loss: 1.8464 - val_accuracy: 0.2321\n",
      "Epoch 5/150\n",
      "80/80 [==============================] - 1s 9ms/step - loss: 1.8254 - accuracy: 0.2201 - val_loss: 1.8143 - val_accuracy: 0.2469\n",
      "Epoch 6/150\n",
      "80/80 [==============================] - 1s 11ms/step - loss: 1.8024 - accuracy: 0.2298 - val_loss: 1.7946 - val_accuracy: 0.2492\n",
      "Epoch 7/150\n",
      "80/80 [==============================] - 1s 10ms/step - loss: 1.7874 - accuracy: 0.2342 - val_loss: 1.7804 - val_accuracy: 0.2664\n",
      "Epoch 8/150\n",
      "80/80 [==============================] - 1s 14ms/step - loss: 1.7742 - accuracy: 0.2372 - val_loss: 1.7723 - val_accuracy: 0.2586\n",
      "Epoch 9/150\n",
      "80/80 [==============================] - 1s 12ms/step - loss: 1.7685 - accuracy: 0.2379 - val_loss: 1.7678 - val_accuracy: 0.2516\n",
      "Epoch 10/150\n",
      "80/80 [==============================] - 1s 14ms/step - loss: 1.7621 - accuracy: 0.2381 - val_loss: 1.7629 - val_accuracy: 0.2593\n",
      "Epoch 11/150\n",
      "80/80 [==============================] - 1s 15ms/step - loss: 1.7578 - accuracy: 0.2395 - val_loss: 1.7606 - val_accuracy: 0.2477\n",
      "Epoch 12/150\n",
      "80/80 [==============================] - 1s 10ms/step - loss: 1.7523 - accuracy: 0.2435 - val_loss: 1.7562 - val_accuracy: 0.2477\n",
      "Epoch 13/150\n",
      "80/80 [==============================] - 1s 10ms/step - loss: 1.7483 - accuracy: 0.2416 - val_loss: 1.7539 - val_accuracy: 0.2531\n",
      "Epoch 14/150\n",
      "80/80 [==============================] - 1s 13ms/step - loss: 1.7467 - accuracy: 0.2423 - val_loss: 1.7526 - val_accuracy: 0.2477\n",
      "Epoch 15/150\n",
      "80/80 [==============================] - 1s 10ms/step - loss: 1.7403 - accuracy: 0.2467 - val_loss: 1.7516 - val_accuracy: 0.2500\n",
      "Epoch 16/150\n",
      "80/80 [==============================] - 1s 13ms/step - loss: 1.7392 - accuracy: 0.2386 - val_loss: 1.7580 - val_accuracy: 0.2477\n",
      "Epoch 17/150\n",
      "80/80 [==============================] - 1s 10ms/step - loss: 1.7370 - accuracy: 0.2492 - val_loss: 1.7587 - val_accuracy: 0.2516\n",
      "Epoch 18/150\n",
      "80/80 [==============================] - 1s 11ms/step - loss: 1.7326 - accuracy: 0.2494 - val_loss: 1.7628 - val_accuracy: 0.2555\n",
      "Epoch 19/150\n",
      "80/80 [==============================] - 1s 12ms/step - loss: 1.7282 - accuracy: 0.2596 - val_loss: 1.7677 - val_accuracy: 0.2375\n",
      "Epoch 20/150\n",
      "80/80 [==============================] - 1s 10ms/step - loss: 1.7257 - accuracy: 0.2567 - val_loss: 1.7694 - val_accuracy: 0.2391\n",
      "Epoch 21/150\n",
      "80/80 [==============================] - 1s 11ms/step - loss: 1.7237 - accuracy: 0.2552 - val_loss: 1.7704 - val_accuracy: 0.2500\n",
      "Epoch 22/150\n",
      "80/80 [==============================] - 1s 13ms/step - loss: 1.7141 - accuracy: 0.2690 - val_loss: 1.7853 - val_accuracy: 0.2492\n",
      "Epoch 23/150\n",
      "80/80 [==============================] - 1s 10ms/step - loss: 1.7050 - accuracy: 0.2763 - val_loss: 1.8029 - val_accuracy: 0.2484\n",
      "Epoch 24/150\n",
      "80/80 [==============================] - 1s 10ms/step - loss: 1.6923 - accuracy: 0.2873 - val_loss: 1.8175 - val_accuracy: 0.2422\n",
      "Epoch 25/150\n",
      "80/80 [==============================] - 1s 9ms/step - loss: 1.6776 - accuracy: 0.2927 - val_loss: 1.8355 - val_accuracy: 0.2461\n"
     ]
    },
    {
     "data": {
      "text/plain": "<keras.callbacks.History at 0x1fff696a7c0>"
     },
     "execution_count": 279,
     "metadata": {},
     "output_type": "execute_result"
    }
   ],
   "source": [
    "# JACCARD META, pos_merge, dep_custom\n",
    "# INITIALISE\n",
    "input_shape_meta = (X_train_meta_jaccard.shape[1],) # JACCARD META\n",
    "vocab_size_pos_merge =  max(pos_dict_fine_merged.values())+1 # MERGED POS\n",
    "vocab_size_dep_custom = max(dep_dict_custom.values())+1 # CUSTOM DEP\n",
    "\n",
    "model_checkpoint_jaccard_pmerge_dcustom = ModelCheckpoint(filepath='best_model_jaccard_pmerge_dcustom.h5', monitor='val_loss', save_best_only=True)\n",
    "early_stopping = EarlyStopping(monitor='val_loss', patience=10, restore_best_weights=False)\n",
    "\n",
    "num_classes = 6\n",
    "learning_rate = 0.0005\n",
    "# max_len = 30\n",
    "\n",
    "# Create and train the JACCARD META, pos_merge, dep_custom model\n",
    "dense_model_jaccard_pmerge_dcustom = create_multi_input_dense_model(input_shape_meta, vocab_size_pos_merge, vocab_size_dep_custom, num_classes, learning_rate, pad_len)\n",
    "dense_model_jaccard_pmerge_dcustom.fit([X_train_meta_jaccard, X_train_pos_finemerge, X_train_dep_custom], Y_train, epochs=150, batch_size=128, validation_data=([X_val_meta_jaccard, X_val_pos_finemerge, X_val_dep_custom], Y_val), callbacks=[early_stopping, model_checkpoint_jaccard_pmerge_dcustom])"
   ],
   "metadata": {
    "collapsed": false
   }
  },
  {
   "cell_type": "code",
   "execution_count": 280,
   "outputs": [
    {
     "name": "stdout",
     "output_type": "stream",
     "text": [
      "40/40 [==============================] - 1s 15ms/step - loss: 1.8147 - accuracy: 0.2281\n",
      "40/40 [==============================] - 1s 13ms/step\n",
      "Test set accuracy: 0.25\n",
      "Test set precision: 0.15\n",
      "Test set recall: 0.25\n",
      "Test set F1 score: 0.18\n",
      "[[  0  64   0  20   8   0]\n",
      " [  0 151   0  50  48   0]\n",
      " [  0 123   0  46  43   0]\n",
      " [  0 126   0  62  77   0]\n",
      " [  0  82   0  59 100   0]\n",
      " [  0  78   0  52  78   0]]\n"
     ]
    },
    {
     "data": {
      "text/plain": "<Figure size 800x600 with 2 Axes>",
      "image/png": "[encoded data removed]"
     },
     "metadata": {},
     "output_type": "display_data"
    }
   ],
   "source": [
    "# evaluate dense_model_jaccard_pmerge_dcustom and make prediction and plot confusion matrix\n",
    "evaluation = dense_model_jaccard_pmerge_dcustom.evaluate([X_test_meta_jaccard, X_test_pos_finemerge, X_test_dep_custom], Y_test)\n",
    "best_model_jaccard_pmerge_dcustom = load_model('best_model_jaccard_pmerge_dcustom.h5')\n",
    "dense_model_jaccard_pmerge_dcustom_predictions = best_model_jaccard_pmerge_dcustom.predict([X_test_meta_jaccard, X_test_pos_finemerge, X_test_dep_custom])\n",
    "plot_matrix(dense_model_jaccard_pmerge_dcustom_predictions)"
   ],
   "metadata": {
    "collapsed": false
   }
  },
  {
   "cell_type": "markdown",
   "source": [
    "## JACCARD META, pos_default, dep_fine"
   ],
   "metadata": {
    "collapsed": false
   }
  },
  {
   "cell_type": "code",
   "execution_count": 288,
   "outputs": [
    {
     "name": "stdout",
     "output_type": "stream",
     "text": [
      "Epoch 1/150\n",
      "80/80 [==============================] - 4s 30ms/step - loss: 2.6531 - accuracy: 0.1986 - val_loss: 2.3351 - val_accuracy: 0.1947\n",
      "Epoch 2/150\n",
      "80/80 [==============================] - 1s 13ms/step - loss: 2.1739 - accuracy: 0.1991 - val_loss: 2.0457 - val_accuracy: 0.1931\n",
      "Epoch 3/150\n",
      "80/80 [==============================] - 1s 11ms/step - loss: 1.9775 - accuracy: 0.2089 - val_loss: 1.9169 - val_accuracy: 0.2352\n",
      "Epoch 4/150\n",
      "80/80 [==============================] - 1s 11ms/step - loss: 1.8828 - accuracy: 0.2242 - val_loss: 1.8540 - val_accuracy: 0.2523\n",
      "Epoch 5/150\n",
      "80/80 [==============================] - 1s 11ms/step - loss: 1.8342 - accuracy: 0.2297 - val_loss: 1.8180 - val_accuracy: 0.2477\n",
      "Epoch 6/150\n",
      "80/80 [==============================] - 1s 10ms/step - loss: 1.8058 - accuracy: 0.2409 - val_loss: 1.7944 - val_accuracy: 0.2555\n",
      "Epoch 7/150\n",
      "80/80 [==============================] - 1s 10ms/step - loss: 1.7853 - accuracy: 0.2374 - val_loss: 1.7777 - val_accuracy: 0.2523\n",
      "Epoch 8/150\n",
      "80/80 [==============================] - 1s 10ms/step - loss: 1.7741 - accuracy: 0.2375 - val_loss: 1.7669 - val_accuracy: 0.2609\n",
      "Epoch 9/150\n",
      "80/80 [==============================] - 1s 10ms/step - loss: 1.7660 - accuracy: 0.2379 - val_loss: 1.7613 - val_accuracy: 0.2539\n",
      "Epoch 10/150\n",
      "80/80 [==============================] - 1s 13ms/step - loss: 1.7571 - accuracy: 0.2399 - val_loss: 1.7568 - val_accuracy: 0.2640\n",
      "Epoch 11/150\n",
      "80/80 [==============================] - 1s 10ms/step - loss: 1.7497 - accuracy: 0.2476 - val_loss: 1.7628 - val_accuracy: 0.2632\n",
      "Epoch 12/150\n",
      "80/80 [==============================] - 1s 12ms/step - loss: 1.7452 - accuracy: 0.2520 - val_loss: 1.7547 - val_accuracy: 0.2609\n",
      "Epoch 13/150\n",
      "80/80 [==============================] - 1s 9ms/step - loss: 1.7403 - accuracy: 0.2462 - val_loss: 1.7568 - val_accuracy: 0.2593\n",
      "Epoch 14/150\n",
      "80/80 [==============================] - 1s 10ms/step - loss: 1.7349 - accuracy: 0.2567 - val_loss: 1.7557 - val_accuracy: 0.2601\n",
      "Epoch 15/150\n",
      "80/80 [==============================] - 1s 11ms/step - loss: 1.7300 - accuracy: 0.2617 - val_loss: 1.7559 - val_accuracy: 0.2601\n",
      "Epoch 16/150\n",
      "80/80 [==============================] - 1s 12ms/step - loss: 1.7286 - accuracy: 0.2595 - val_loss: 1.7596 - val_accuracy: 0.2656\n",
      "Epoch 17/150\n",
      "80/80 [==============================] - 1s 15ms/step - loss: 1.7226 - accuracy: 0.2611 - val_loss: 1.7665 - val_accuracy: 0.2570\n",
      "Epoch 18/150\n",
      "80/80 [==============================] - 1s 13ms/step - loss: 1.7175 - accuracy: 0.2691 - val_loss: 1.7867 - val_accuracy: 0.2508\n",
      "Epoch 19/150\n",
      "80/80 [==============================] - 1s 12ms/step - loss: 1.7044 - accuracy: 0.2808 - val_loss: 1.7887 - val_accuracy: 0.2500\n",
      "Epoch 20/150\n",
      "80/80 [==============================] - 1s 11ms/step - loss: 1.6916 - accuracy: 0.2886 - val_loss: 1.7968 - val_accuracy: 0.2593\n",
      "Epoch 21/150\n",
      "80/80 [==============================] - 1s 10ms/step - loss: 1.6730 - accuracy: 0.2985 - val_loss: 1.8400 - val_accuracy: 0.2422\n",
      "Epoch 22/150\n",
      "80/80 [==============================] - 1s 9ms/step - loss: 1.6459 - accuracy: 0.3131 - val_loss: 1.9222 - val_accuracy: 0.2399\n"
     ]
    },
    {
     "data": {
      "text/plain": "<keras.callbacks.History at 0x1ff83e08580>"
     },
     "execution_count": 288,
     "metadata": {},
     "output_type": "execute_result"
    }
   ],
   "source": [
    "# JACCARD META, pos_default, dep_fine\n",
    "# INITIALISE\n",
    "input_shape_meta = (X_train_meta_jaccard.shape[1],) # JACCARD META\n",
    "vocab_size_pos_custom =  max(pos_dict_custom.values())+1 # CUSTOM POS\n",
    "vocab_size_dep_fine = max(dep_dict_fine.values())+1 # FINE GRAINED DEP\n",
    "\n",
    "model_checkpoint_jaccard_pdefault_dfine = ModelCheckpoint(filepath='best_model_jaccard_pdefault_dfine.h5', monitor='val_loss', save_best_only=True)\n",
    "early_stopping = EarlyStopping(monitor='val_loss', patience=10, restore_best_weights=False)\n",
    "\n",
    "num_classes = 6\n",
    "learning_rate = 0.0005\n",
    "# max_len = 30\n",
    "\n",
    "# Create and train the JACCARD META, pos_custom, dep_fine model\n",
    "dense_model_jaccard_pcustom_dfine = create_multi_input_dense_model(input_shape_meta, vocab_size_pos_custom, vocab_size_dep_fine, num_classes, learning_rate, pad_len)\n",
    "dense_model_jaccard_pcustom_dfine.fit([X_train_meta_jaccard, X_train_pos_custom, X_train_dep_fine], Y_train, epochs=150, batch_size=128, validation_data=([X_val_meta_jaccard, X_val_pos_custom, X_val_dep_fine], Y_val), callbacks=[early_stopping, model_checkpoint_jaccard_pdefault_dfine])"
   ],
   "metadata": {
    "collapsed": false
   }
  },
  {
   "cell_type": "code",
   "execution_count": 289,
   "outputs": [
    {
     "name": "stdout",
     "output_type": "stream",
     "text": [
      "40/40 [==============================] - 1s 19ms/step - loss: 1.8967 - accuracy: 0.2336\n",
      "40/40 [==============================] - 0s 6ms/step\n",
      "Test set accuracy: 0.26\n",
      "Test set precision: 0.15\n",
      "Test set recall: 0.26\n",
      "Test set F1 score: 0.18\n",
      "[[  0  69   0   9  14   0]\n",
      " [  0 151   0  46  52   0]\n",
      " [  0 124   0  39  49   0]\n",
      " [  0 115   0  61  89   0]\n",
      " [  0  74   0  55 112   0]\n",
      " [  0  77   0  44  87   0]]\n"
     ]
    },
    {
     "data": {
      "text/plain": "<Figure size 800x600 with 2 Axes>",
      "image/png": "[encoded data removed]"
     },
     "metadata": {},
     "output_type": "display_data"
    }
   ],
   "source": [
    "# evaluate dense_model_jaccard_pcustom_dfine and make prediction and plot confusion matrix\n",
    "evaluation = dense_model_jaccard_pcustom_dfine.evaluate([X_test_meta_jaccard, X_test_pos_custom, X_test_dep_fine], Y_test)\n",
    "best_model_jaccard_pcustom_dfine = load_model('best_model_jaccard_pdefault_dfine.h5')\n",
    "\n",
    "dense_model_jaccard_pcustom_dfine_predictions = best_model_jaccard_pcustom_dfine.predict([X_test_meta_jaccard, X_test_pos_custom, X_test_dep_fine])\n",
    "plot_matrix(dense_model_jaccard_pcustom_dfine_predictions)"
   ],
   "metadata": {
    "collapsed": false
   }
  },
  {
   "cell_type": "code",
   "execution_count": 98,
   "outputs": [],
   "source": [
    "# BiLSTM-GRU Model for statement features\n",
    "def create_bilstm_gru_model(vocab_size, embedding_dim, embedding_matrix, input_length, learning_rate):\n",
    "    inputs = Input(shape=(input_length,))\n",
    "    embedding = Embedding(vocab_size, embedding_dim, weights=[embedding_matrix], input_length=input_length, trainable=False)(inputs)\n",
    "    bilstm = Bidirectional(LSTM(50, return_sequences=True))(embedding)\n",
    "    # bigru = Bidirectional(GRU(50, return_sequences=True, return_state=True))[0](embedding)\n",
    "    bigru = Bidirectional(GRU(50, return_sequences=True))(embedding)\n",
    "    max_pool_lstm = GlobalMaxPooling1D()(bilstm)\n",
    "    max_pool_gru = GlobalMaxPooling1D()(bigru)\n",
    "    avg_pool_lstm = GlobalAveragePooling1D()(bilstm)\n",
    "    avg_pool_gru = GlobalAveragePooling1D()(bigru)\n",
    "    concat = Concatenate()([max_pool_lstm, max_pool_gru, avg_pool_lstm, avg_pool_gru])\n",
    "    output = Dense(6, activation='sigmoid')(concat)\n",
    "    model = Model(inputs=inputs, outputs=output)\n",
    "    optimizer = Adam(learning_rate=learning_rate)\n",
    "    model.compile(optimizer=optimizer, loss='categorical_crossentropy', metrics=['accuracy'])\n",
    "    return model"
   ],
   "metadata": {
    "collapsed": false
   }
  },
  {
   "cell_type": "code",
   "execution_count": 292,
   "outputs": [
    {
     "data": {
      "text/plain": "9495"
     },
     "execution_count": 292,
     "metadata": {},
     "output_type": "execute_result"
    }
   ],
   "source": [
    "len(vocabulary_dict_spacy)"
   ],
   "metadata": {
    "collapsed": false
   }
  },
  {
   "cell_type": "code",
   "execution_count": 293,
   "outputs": [
    {
     "data": {
      "text/plain": "9607"
     },
     "execution_count": 293,
     "metadata": {},
     "output_type": "execute_result"
    }
   ],
   "source": [
    "len(embedding_matrix)"
   ],
   "metadata": {
    "collapsed": false
   }
  },
  {
   "cell_type": "code",
   "execution_count": 100,
   "outputs": [
    {
     "name": "stdout",
     "output_type": "stream",
     "text": [
      "Epoch 1/15\n",
      "80/80 [==============================] - 11s 67ms/step - loss: 1.7552 - accuracy: 0.2087 - val_loss: 1.7420 - val_accuracy: 0.2329\n",
      "Epoch 2/15\n",
      "80/80 [==============================] - 4s 49ms/step - loss: 1.7209 - accuracy: 0.2530 - val_loss: 1.7252 - val_accuracy: 0.2516\n",
      "Epoch 3/15\n",
      "80/80 [==============================] - 4s 49ms/step - loss: 1.7004 - accuracy: 0.2685 - val_loss: 1.7196 - val_accuracy: 0.2461\n",
      "Epoch 4/15\n",
      "80/80 [==============================] - 4s 49ms/step - loss: 1.6812 - accuracy: 0.2917 - val_loss: 1.7078 - val_accuracy: 0.2578\n",
      "Epoch 5/15\n",
      "80/80 [==============================] - 4s 48ms/step - loss: 1.6639 - accuracy: 0.3036 - val_loss: 1.7052 - val_accuracy: 0.2492\n",
      "Epoch 6/15\n",
      "80/80 [==============================] - 4s 49ms/step - loss: 1.6460 - accuracy: 0.3287 - val_loss: 1.7049 - val_accuracy: 0.2438\n",
      "Epoch 7/15\n",
      "80/80 [==============================] - 4s 48ms/step - loss: 1.6281 - accuracy: 0.3427 - val_loss: 1.7087 - val_accuracy: 0.2539\n",
      "Epoch 8/15\n",
      "80/80 [==============================] - 4s 48ms/step - loss: 1.6107 - accuracy: 0.3488 - val_loss: 1.6997 - val_accuracy: 0.2648\n",
      "Epoch 9/15\n",
      "80/80 [==============================] - 4s 48ms/step - loss: 1.5912 - accuracy: 0.3633 - val_loss: 1.7027 - val_accuracy: 0.2539\n",
      "Epoch 10/15\n",
      "80/80 [==============================] - 4s 48ms/step - loss: 1.5708 - accuracy: 0.3767 - val_loss: 1.7095 - val_accuracy: 0.2407\n",
      "Epoch 11/15\n",
      "80/80 [==============================] - 4s 48ms/step - loss: 1.5516 - accuracy: 0.3874 - val_loss: 1.7121 - val_accuracy: 0.2539\n"
     ]
    },
    {
     "data": {
      "text/plain": "<keras.callbacks.History at 0x269e995f400>"
     },
     "execution_count": 100,
     "metadata": {},
     "output_type": "execute_result"
    }
   ],
   "source": [
    "# Create the BiLSTM-GRU model\n",
    "vocab_size = len(vocabulary_dict_spacy) + 1\n",
    "embedding_dim = 300\n",
    "embedding_matrix = embedding_matrix_spacy_300d\n",
    "# input_length = 30 # same as max_len\n",
    "learning_rate = 0.00025\n",
    "\n",
    "bilstm_gru_model_spacy = create_bilstm_gru_model(vocab_size, embedding_dim, embedding_matrix, pad_len, learning_rate)\n",
    "\n",
    "# model checkpoint\n",
    "model_checkpoint_bilstm_gru_spacy = ModelCheckpoint(filepath='best_model_bilstm_gru_spacy.h5', monitor='val_loss', save_best_only=True)\n",
    "# early stopping\n",
    "early_stopping = EarlyStopping(monitor='val_loss', patience=3, restore_best_weights=False)\n",
    "\n",
    "bilstm_gru_model_spacy.fit(X_train_spacy, Y_train, epochs=15, batch_size=128, validation_data=(X_val_spacy, Y_val), callbacks=[early_stopping, model_checkpoint_bilstm_gru_spacy])\n",
    "\n",
    "# # Obtain predictions\n",
    "# dense_preds = dense_model.predict(X_test_meta)\n",
    "# bilstm_gru_preds = bilstm_gru_model.predict(X_test_custom)\n",
    "#\n",
    "# # Ensemble voting\n",
    "# val_accuracies = [dense_model.evaluate(X_val_meta,"
   ],
   "metadata": {
    "collapsed": false
   }
  },
  {
   "cell_type": "code",
   "execution_count": 101,
   "outputs": [
    {
     "name": "stdout",
     "output_type": "stream",
     "text": [
      "40/40 [==============================] - 1s 13ms/step - loss: 1.7040 - accuracy: 0.2636\n",
      "40/40 [==============================] - 2s 12ms/step\n",
      "Test set accuracy: 0.26\n",
      "Test set precision: 0.27\n",
      "Test set recall: 0.26\n",
      "Test set F1 score: 0.24\n",
      "[[  3  39  10  24  10   6]\n",
      " [  3 104  15  76  35  16]\n",
      " [  3  49  30  82  33  15]\n",
      " [  1  74  17  98  63  12]\n",
      " [  1  57   7  90  64  22]\n",
      " [  4  52  12  58  51  31]]\n"
     ]
    },
    {
     "data": {
      "text/plain": "<Figure size 800x600 with 2 Axes>",
      "image/png": "[encoded data removed]"
     },
     "metadata": {},
     "output_type": "display_data"
    }
   ],
   "source": [
    "# evaluate bilstm_gru_model_spacy and make prediction and plot confusion matrix\n",
    "evaluation = bilstm_gru_model_spacy.evaluate(X_test_spacy, Y_test)\n",
    "best_model_bilstm_gru_spacy = load_model('best_model_bilstm_gru_spacy.h5')\n",
    "\n",
    "bilstm_gru_spacy_predictions = best_model_bilstm_gru_spacy.predict(X_test_spacy)\n",
    "plot_matrix(bilstm_gru_spacy_predictions)"
   ],
   "metadata": {
    "collapsed": false
   }
  },
  {
   "cell_type": "code",
   "execution_count": 103,
   "outputs": [
    {
     "name": "stdout",
     "output_type": "stream",
     "text": [
      "Epoch 1/70\n",
      "80/80 [==============================] - 11s 74ms/step - loss: 1.8085 - accuracy: 0.1490 - val_loss: 1.8050 - val_accuracy: 0.1659\n",
      "Epoch 2/70\n",
      "80/80 [==============================] - 4s 48ms/step - loss: 1.7897 - accuracy: 0.1856 - val_loss: 1.7897 - val_accuracy: 0.1830\n",
      "Epoch 3/70\n",
      "80/80 [==============================] - 4s 48ms/step - loss: 1.7771 - accuracy: 0.1951 - val_loss: 1.7788 - val_accuracy: 0.1955\n",
      "Epoch 4/70\n",
      "80/80 [==============================] - 4s 49ms/step - loss: 1.7682 - accuracy: 0.2038 - val_loss: 1.7716 - val_accuracy: 0.2025\n",
      "Epoch 5/70\n",
      "80/80 [==============================] - 4s 48ms/step - loss: 1.7619 - accuracy: 0.2062 - val_loss: 1.7661 - val_accuracy: 0.2064\n",
      "Epoch 6/70\n",
      "80/80 [==============================] - 4s 48ms/step - loss: 1.7572 - accuracy: 0.2122 - val_loss: 1.7623 - val_accuracy: 0.2040\n",
      "Epoch 7/70\n",
      "80/80 [==============================] - 4s 48ms/step - loss: 1.7536 - accuracy: 0.2151 - val_loss: 1.7593 - val_accuracy: 0.2017\n",
      "Epoch 8/70\n",
      "80/80 [==============================] - 4s 49ms/step - loss: 1.7506 - accuracy: 0.2183 - val_loss: 1.7570 - val_accuracy: 0.2040\n",
      "Epoch 9/70\n",
      "80/80 [==============================] - 4s 48ms/step - loss: 1.7482 - accuracy: 0.2213 - val_loss: 1.7551 - val_accuracy: 0.2040\n",
      "Epoch 10/70\n",
      "80/80 [==============================] - 4s 48ms/step - loss: 1.7460 - accuracy: 0.2224 - val_loss: 1.7531 - val_accuracy: 0.2072\n",
      "Epoch 11/70\n",
      "80/80 [==============================] - 4s 48ms/step - loss: 1.7441 - accuracy: 0.2243 - val_loss: 1.7518 - val_accuracy: 0.2048\n",
      "Epoch 12/70\n",
      "80/80 [==============================] - 4s 49ms/step - loss: 1.7424 - accuracy: 0.2278 - val_loss: 1.7506 - val_accuracy: 0.2048\n",
      "Epoch 13/70\n",
      "80/80 [==============================] - 4s 49ms/step - loss: 1.7408 - accuracy: 0.2284 - val_loss: 1.7494 - val_accuracy: 0.2118\n",
      "Epoch 14/70\n",
      "80/80 [==============================] - 4s 48ms/step - loss: 1.7392 - accuracy: 0.2320 - val_loss: 1.7483 - val_accuracy: 0.2150\n",
      "Epoch 15/70\n",
      "80/80 [==============================] - 4s 48ms/step - loss: 1.7378 - accuracy: 0.2341 - val_loss: 1.7471 - val_accuracy: 0.2181\n",
      "Epoch 16/70\n",
      "80/80 [==============================] - 4s 49ms/step - loss: 1.7363 - accuracy: 0.2363 - val_loss: 1.7462 - val_accuracy: 0.2157\n",
      "Epoch 17/70\n",
      "80/80 [==============================] - 4s 49ms/step - loss: 1.7350 - accuracy: 0.2386 - val_loss: 1.7451 - val_accuracy: 0.2212\n",
      "Epoch 18/70\n",
      "80/80 [==============================] - 4s 49ms/step - loss: 1.7336 - accuracy: 0.2394 - val_loss: 1.7442 - val_accuracy: 0.2305\n",
      "Epoch 19/70\n",
      "80/80 [==============================] - 4s 49ms/step - loss: 1.7324 - accuracy: 0.2416 - val_loss: 1.7434 - val_accuracy: 0.2336\n",
      "Epoch 20/70\n",
      "80/80 [==============================] - 4s 51ms/step - loss: 1.7311 - accuracy: 0.2430 - val_loss: 1.7426 - val_accuracy: 0.2344\n",
      "Epoch 21/70\n",
      "80/80 [==============================] - 4s 49ms/step - loss: 1.7298 - accuracy: 0.2451 - val_loss: 1.7417 - val_accuracy: 0.2352\n",
      "Epoch 22/70\n",
      "80/80 [==============================] - 4s 49ms/step - loss: 1.7287 - accuracy: 0.2459 - val_loss: 1.7407 - val_accuracy: 0.2344\n",
      "Epoch 23/70\n",
      "80/80 [==============================] - 4s 51ms/step - loss: 1.7275 - accuracy: 0.2479 - val_loss: 1.7401 - val_accuracy: 0.2375\n",
      "Epoch 24/70\n",
      "80/80 [==============================] - 4s 50ms/step - loss: 1.7263 - accuracy: 0.2481 - val_loss: 1.7392 - val_accuracy: 0.2352\n",
      "Epoch 25/70\n",
      "80/80 [==============================] - 4s 49ms/step - loss: 1.7252 - accuracy: 0.2497 - val_loss: 1.7384 - val_accuracy: 0.2368\n",
      "Epoch 26/70\n",
      "80/80 [==============================] - 4s 48ms/step - loss: 1.7240 - accuracy: 0.2500 - val_loss: 1.7378 - val_accuracy: 0.2375\n",
      "Epoch 27/70\n",
      "80/80 [==============================] - 4s 49ms/step - loss: 1.7229 - accuracy: 0.2523 - val_loss: 1.7370 - val_accuracy: 0.2368\n",
      "Epoch 28/70\n",
      "80/80 [==============================] - 4s 50ms/step - loss: 1.7218 - accuracy: 0.2524 - val_loss: 1.7363 - val_accuracy: 0.2360\n",
      "Epoch 29/70\n",
      "80/80 [==============================] - 4s 49ms/step - loss: 1.7207 - accuracy: 0.2532 - val_loss: 1.7357 - val_accuracy: 0.2383\n",
      "Epoch 30/70\n",
      "80/80 [==============================] - 4s 49ms/step - loss: 1.7197 - accuracy: 0.2549 - val_loss: 1.7348 - val_accuracy: 0.2375\n",
      "Epoch 31/70\n",
      "80/80 [==============================] - 4s 49ms/step - loss: 1.7187 - accuracy: 0.2558 - val_loss: 1.7344 - val_accuracy: 0.2399\n",
      "Epoch 32/70\n",
      "80/80 [==============================] - 4s 50ms/step - loss: 1.7176 - accuracy: 0.2592 - val_loss: 1.7336 - val_accuracy: 0.2407\n",
      "Epoch 33/70\n",
      "80/80 [==============================] - 4s 50ms/step - loss: 1.7166 - accuracy: 0.2595 - val_loss: 1.7332 - val_accuracy: 0.2445\n",
      "Epoch 34/70\n",
      "80/80 [==============================] - 4s 49ms/step - loss: 1.7156 - accuracy: 0.2604 - val_loss: 1.7324 - val_accuracy: 0.2469\n",
      "Epoch 35/70\n",
      "80/80 [==============================] - 4s 49ms/step - loss: 1.7146 - accuracy: 0.2617 - val_loss: 1.7317 - val_accuracy: 0.2469\n",
      "Epoch 36/70\n",
      "80/80 [==============================] - 4s 50ms/step - loss: 1.7136 - accuracy: 0.2627 - val_loss: 1.7312 - val_accuracy: 0.2492\n",
      "Epoch 37/70\n",
      "80/80 [==============================] - 4s 50ms/step - loss: 1.7126 - accuracy: 0.2643 - val_loss: 1.7305 - val_accuracy: 0.2484\n",
      "Epoch 38/70\n",
      "80/80 [==============================] - 4s 50ms/step - loss: 1.7116 - accuracy: 0.2646 - val_loss: 1.7301 - val_accuracy: 0.2523\n",
      "Epoch 39/70\n",
      "80/80 [==============================] - 4s 53ms/step - loss: 1.7107 - accuracy: 0.2661 - val_loss: 1.7295 - val_accuracy: 0.2508\n",
      "Epoch 40/70\n",
      "80/80 [==============================] - 4s 50ms/step - loss: 1.7097 - accuracy: 0.2674 - val_loss: 1.7290 - val_accuracy: 0.2508\n",
      "Epoch 41/70\n",
      "80/80 [==============================] - 4s 49ms/step - loss: 1.7088 - accuracy: 0.2669 - val_loss: 1.7284 - val_accuracy: 0.2516\n",
      "Epoch 42/70\n",
      "80/80 [==============================] - 4s 49ms/step - loss: 1.7078 - accuracy: 0.2693 - val_loss: 1.7280 - val_accuracy: 0.2516\n",
      "Epoch 43/70\n",
      "80/80 [==============================] - 4s 49ms/step - loss: 1.7070 - accuracy: 0.2705 - val_loss: 1.7274 - val_accuracy: 0.2539\n",
      "Epoch 44/70\n",
      "80/80 [==============================] - 4s 50ms/step - loss: 1.7060 - accuracy: 0.2708 - val_loss: 1.7267 - val_accuracy: 0.2523\n",
      "Epoch 45/70\n",
      "80/80 [==============================] - 4s 51ms/step - loss: 1.7051 - accuracy: 0.2739 - val_loss: 1.7262 - val_accuracy: 0.2539\n",
      "Epoch 46/70\n",
      "80/80 [==============================] - 4s 49ms/step - loss: 1.7042 - accuracy: 0.2738 - val_loss: 1.7258 - val_accuracy: 0.2555\n",
      "Epoch 47/70\n",
      "80/80 [==============================] - 4s 50ms/step - loss: 1.7033 - accuracy: 0.2749 - val_loss: 1.7254 - val_accuracy: 0.2578\n",
      "Epoch 48/70\n",
      "80/80 [==============================] - 4s 52ms/step - loss: 1.7025 - accuracy: 0.2771 - val_loss: 1.7248 - val_accuracy: 0.2593\n",
      "Epoch 49/70\n",
      "80/80 [==============================] - 4s 51ms/step - loss: 1.7016 - accuracy: 0.2757 - val_loss: 1.7246 - val_accuracy: 0.2578\n",
      "Epoch 50/70\n",
      "80/80 [==============================] - 4s 50ms/step - loss: 1.7007 - accuracy: 0.2789 - val_loss: 1.7239 - val_accuracy: 0.2586\n",
      "Epoch 51/70\n",
      "80/80 [==============================] - 4s 49ms/step - loss: 1.6998 - accuracy: 0.2787 - val_loss: 1.7236 - val_accuracy: 0.2625\n",
      "Epoch 52/70\n",
      "80/80 [==============================] - 4s 51ms/step - loss: 1.6989 - accuracy: 0.2798 - val_loss: 1.7230 - val_accuracy: 0.2625\n",
      "Epoch 53/70\n",
      "80/80 [==============================] - 4s 50ms/step - loss: 1.6981 - accuracy: 0.2808 - val_loss: 1.7225 - val_accuracy: 0.2625\n",
      "Epoch 54/70\n",
      "80/80 [==============================] - 4s 49ms/step - loss: 1.6972 - accuracy: 0.2814 - val_loss: 1.7222 - val_accuracy: 0.2617\n",
      "Epoch 55/70\n",
      "80/80 [==============================] - 4s 49ms/step - loss: 1.6964 - accuracy: 0.2824 - val_loss: 1.7218 - val_accuracy: 0.2625\n",
      "Epoch 56/70\n",
      "80/80 [==============================] - 4s 50ms/step - loss: 1.6956 - accuracy: 0.2818 - val_loss: 1.7211 - val_accuracy: 0.2648\n",
      "Epoch 57/70\n",
      "80/80 [==============================] - 4s 50ms/step - loss: 1.6947 - accuracy: 0.2831 - val_loss: 1.7208 - val_accuracy: 0.2632\n",
      "Epoch 58/70\n",
      "80/80 [==============================] - 4s 49ms/step - loss: 1.6938 - accuracy: 0.2839 - val_loss: 1.7203 - val_accuracy: 0.2632\n",
      "Epoch 59/70\n",
      "80/80 [==============================] - 4s 49ms/step - loss: 1.6931 - accuracy: 0.2855 - val_loss: 1.7201 - val_accuracy: 0.2632\n",
      "Epoch 60/70\n",
      "80/80 [==============================] - 4s 50ms/step - loss: 1.6922 - accuracy: 0.2852 - val_loss: 1.7198 - val_accuracy: 0.2656\n",
      "Epoch 61/70\n",
      "80/80 [==============================] - 4s 50ms/step - loss: 1.6913 - accuracy: 0.2862 - val_loss: 1.7191 - val_accuracy: 0.2648\n",
      "Epoch 62/70\n",
      "80/80 [==============================] - 4s 49ms/step - loss: 1.6906 - accuracy: 0.2872 - val_loss: 1.7191 - val_accuracy: 0.2632\n",
      "Epoch 63/70\n",
      "80/80 [==============================] - 4s 49ms/step - loss: 1.6897 - accuracy: 0.2890 - val_loss: 1.7185 - val_accuracy: 0.2656\n",
      "Epoch 64/70\n",
      "80/80 [==============================] - 4s 50ms/step - loss: 1.6889 - accuracy: 0.2881 - val_loss: 1.7182 - val_accuracy: 0.2664\n",
      "Epoch 65/70\n",
      "80/80 [==============================] - 4s 51ms/step - loss: 1.6881 - accuracy: 0.2896 - val_loss: 1.7177 - val_accuracy: 0.2656\n",
      "Epoch 66/70\n",
      "80/80 [==============================] - 4s 49ms/step - loss: 1.6873 - accuracy: 0.2905 - val_loss: 1.7175 - val_accuracy: 0.2648\n",
      "Epoch 67/70\n",
      "80/80 [==============================] - 4s 49ms/step - loss: 1.6865 - accuracy: 0.2904 - val_loss: 1.7170 - val_accuracy: 0.2640\n",
      "Epoch 68/70\n",
      "80/80 [==============================] - 4s 50ms/step - loss: 1.6856 - accuracy: 0.2915 - val_loss: 1.7166 - val_accuracy: 0.2656\n",
      "Epoch 69/70\n",
      "80/80 [==============================] - 4s 50ms/step - loss: 1.6849 - accuracy: 0.2929 - val_loss: 1.7163 - val_accuracy: 0.2687\n",
      "Epoch 70/70\n",
      "80/80 [==============================] - 4s 49ms/step - loss: 1.6840 - accuracy: 0.2948 - val_loss: 1.7159 - val_accuracy: 0.2679\n"
     ]
    },
    {
     "data": {
      "text/plain": "<keras.callbacks.History at 0x269fdf2d8b0>"
     },
     "execution_count": 103,
     "metadata": {},
     "output_type": "execute_result"
    }
   ],
   "source": [
    "# Create the BiLSTM-GRU model\n",
    "vocab_size = len(vocabulary_dict_spacy) + 1\n",
    "embedding_dim = 300\n",
    "embedding_matrix = embedding_matrix_spacy_300d\n",
    "# input_length = 30 # same as max_len\n",
    "learning_rate = 0.00001\n",
    "\n",
    "bilstm_gru_model_spacy = create_bilstm_gru_model(vocab_size, embedding_dim, embedding_matrix, pad_len, learning_rate)\n",
    "\n",
    "# model checkpoint\n",
    "model_checkpoint_bilstm_gru_spacy = ModelCheckpoint(filepath='best_model_bilstm_gru_spacy.h5', monitor='val_loss', save_best_only=True)\n",
    "# early stopping\n",
    "early_stopping = EarlyStopping(monitor='val_loss', patience=3, restore_best_weights=False)\n",
    "\n",
    "bilstm_gru_model_spacy.fit(X_train_spacy, Y_train, epochs=70, batch_size=128, validation_data=(X_val_spacy, Y_val), callbacks=[early_stopping, model_checkpoint_bilstm_gru_spacy])"
   ],
   "metadata": {
    "collapsed": false
   }
  },
  {
   "cell_type": "code",
   "execution_count": 104,
   "outputs": [
    {
     "name": "stdout",
     "output_type": "stream",
     "text": [
      "40/40 [==============================] - 1s 12ms/step - loss: 1.7090 - accuracy: 0.2557\n",
      "40/40 [==============================] - 2s 12ms/step\n",
      "Test set accuracy: 0.26\n",
      "Test set precision: 0.24\n",
      "Test set recall: 0.26\n",
      "Test set F1 score: 0.22\n",
      "[[  0  46   3  22  14   7]\n",
      " [  0 109  11  72  47  10]\n",
      " [  1  74  20  71  41   5]\n",
      " [  0  87   9 108  58   3]\n",
      " [  0  54  12  86  76  13]\n",
      " [  0  61   5  64  67  11]]\n"
     ]
    },
    {
     "data": {
      "text/plain": "<Figure size 800x600 with 2 Axes>",
      "image/png": "[encoded data removed]"
     },
     "metadata": {},
     "output_type": "display_data"
    }
   ],
   "source": [
    "# evaluate bilstm_gru_model_spacy and make prediction and plot confusion matrix LR 0.00001\n",
    "evaluation = bilstm_gru_model_spacy.evaluate(X_test_spacy, Y_test)\n",
    "best_model_bilstm_gru_spacy = load_model('best_model_bilstm_gru_spacy.h5')\n",
    "\n",
    "bilstm_gru_spacy_predictions = best_model_bilstm_gru_spacy.predict(X_test_spacy)\n",
    "plot_matrix(bilstm_gru_spacy_predictions)"
   ],
   "metadata": {
    "collapsed": false
   }
  },
  {
   "cell_type": "code",
   "execution_count": 313,
   "outputs": [
    {
     "name": "stdout",
     "output_type": "stream",
     "text": [
      "40/40 [==============================] - 1s 14ms/step - loss: 1.7080 - accuracy: 0.2478\n",
      "40/40 [==============================] - 2s 14ms/step\n",
      "Test set accuracy: 0.25\n",
      "Test set precision: 0.27\n",
      "Test set recall: 0.25\n",
      "Test set F1 score: 0.22\n",
      "[[  1  44  11  15  19   2]\n",
      " [  1 117  10  49  60  12]\n",
      " [  1  82  26  58  39   6]\n",
      " [  0  95  15  76  72   7]\n",
      " [  0  59   9  77  82  14]\n",
      " [  0  74   4  55  59  16]]\n"
     ]
    },
    {
     "data": {
      "text/plain": "<Figure size 800x600 with 2 Axes>",
      "image/png": "[encoded data removed]"
     },
     "metadata": {},
     "output_type": "display_data"
    }
   ],
   "source": [
    "# evaluate bilstm_gru_model_spacy and make prediction and plot confusion matrix LR DEFAULT\n",
    "evaluation = bilstm_gru_model_spacy.evaluate(X_test_spacy, Y_test)\n",
    "best_model_bilstm_gru_spacy = load_model('best_model_bilstm_gru_spacy.h5')\n",
    "\n",
    "bilstm_gru_spacy_predictions = best_model_bilstm_gru_spacy.predict(X_test_spacy)\n",
    "plot_matrix(bilstm_gru_spacy_predictions)"
   ],
   "metadata": {
    "collapsed": false
   }
  },
  {
   "cell_type": "markdown",
   "source": [
    "# ENSEMBLE MAJORITY VOTING"
   ],
   "metadata": {
    "collapsed": false
   }
  },
  {
   "cell_type": "code",
   "execution_count": 119,
   "outputs": [
    {
     "name": "stdout",
     "output_type": "stream",
     "text": [
      "Test set accuracy: 0.22\n",
      "Test set precision: 0.19\n",
      "Test set recall: 0.22\n",
      "Test set F1 score: 0.14\n",
      "[[  6  72   2  12   0   0]\n",
      " [  8 202  10  29   0   0]\n",
      " [  3 173  11  24   1   0]\n",
      " [  2 186  20  56   1   0]\n",
      " [  3 161   9  66   2   0]\n",
      " [  5 128   4  68   3   0]]\n"
     ]
    },
    {
     "data": {
      "text/plain": "<Figure size 800x600 with 2 Axes>",
      "image/png": "[encoded data removed]"
     },
     "metadata": {},
     "output_type": "display_data"
    }
   ],
   "source": [
    "# binarize the predictions (threshold = 0.5)\n",
    "dense_preds_bin = (dense_model_jaccard_pfine_dcustom_predictions > 0.5).astype(int)\n",
    "lstm_gru_preds_bin = (bilstm_gru_spacy_predictions > 0.5).astype(int)\n",
    "\n",
    "# Majority voting\n",
    "combined_preds = (dense_preds_bin + lstm_gru_preds_bin) / 2\n",
    "final_preds = (combined_preds >= 0.5).astype(int)\n",
    "\n",
    "plot_matrix(final_preds)"
   ],
   "metadata": {
    "collapsed": false
   }
  },
  {
   "cell_type": "code",
   "execution_count": null,
   "outputs": [],
   "source": [],
   "metadata": {
    "collapsed": false
   }
  },
  {
   "cell_type": "code",
   "execution_count": 111,
   "outputs": [
    {
     "name": "stdout",
     "output_type": "stream",
     "text": [
      "Test set accuracy: 0.22\n",
      "Test set precision: 0.19\n",
      "Test set recall: 0.22\n",
      "Test set F1 score: 0.14\n",
      "[[  6  72   2  12   0   0]\n",
      " [  8 202  10  29   0   0]\n",
      " [  3 173  11  24   1   0]\n",
      " [  2 186  20  56   1   0]\n",
      " [  3 161   9  66   2   0]\n",
      " [  5 128   4  68   3   0]]\n"
     ]
    },
    {
     "data": {
      "text/plain": "<Figure size 800x600 with 2 Axes>",
      "image/png": "[encoded data removed]"
     },
     "metadata": {},
     "output_type": "display_data"
    }
   ],
   "source": [],
   "metadata": {
    "collapsed": false
   }
  },
  {
   "cell_type": "code",
   "execution_count": 317,
   "outputs": [],
   "source": [
    "# EXPORT data as pickle\n",
    "train_data.to_pickle('processed_train_data_v4.p')\n",
    "val_data.to_pickle('processed_val_data_v4.p')\n",
    "test_data.to_pickle('processed_test_data_v4.p')"
   ],
   "metadata": {
    "collapsed": false
   }
  },
  {
   "cell_type": "code",
   "execution_count": 316,
   "outputs": [
    {
     "data": {
      "text/plain": "   index          id        label  \\\n0      0   2635.json        false   \n1      1  10540.json    half-true   \n2      2    324.json  mostly-true   \n3      3   1123.json        false   \n4      4   9028.json    half-true   \n\n                                           statement  \\\n0  Says the Annies List political group supports ...   \n1  When did the decline of coal start? It started...   \n2  Hillary Clinton agrees with John McCain \"by vo...   \n3  Health care reform legislation is likely to ma...   \n4  The economic turnaround started at the end of ...   \n\n                              subject         speaker             job-title  \\\n0                            abortion    dwayne-bohac  State representative   \n1  energy,history,job-accomplishments  scott-surovell        State delegate   \n2                      foreign-policy    barack-obama             President   \n3                         health-care    blog-posting               unknown   \n4                        economy,jobs   charlie-crist               unknown   \n\n        party  barely-true-counts  false-counts  ...  \\\n0  republican                 0.0           1.0  ...   \n1    democrat                 0.0           0.0  ...   \n2    democrat                70.0          71.0  ...   \n3        none                 7.0          19.0  ...   \n4    democrat                15.0           9.0  ...   \n\n                                         dep-id-fine  \\\n0         [8, 8, 4, 4, 3, 1, 8, 3, 8, 7, 2, 8, 8, 8]   \n1  [8, 8, 8, 1, 8, 7, 8, 8, 1, 8, 8, 3, 1, 8, 8, ...   \n2  [7, 1, 8, 8, 7, 8, 8, 8, 8, 8, 8, 7, 8, 8, 2, ...   \n3            [7, 7, 7, 1, 8, 8, 8, 8, 3, 7, 7, 2, 8]   \n4                  [8, 3, 1, 8, 8, 8, 8, 8, 8, 8, 8]   \n\n                                       dep-id-custom  \\\n0      [7, 5, 11, 11, 8, 6, 11, 8, 1, 4, 9, 2, 3, 1]   \n1  [11, 7, 5, 6, 2, 4, 3, 1, 6, 7, 11, 8, 6, 11, ...   \n2  [4, 6, 7, 2, 4, 3, 1, 2, 11, 10, 11, 4, 11, 5,...   \n3         [4, 4, 4, 6, 7, 11, 10, 11, 8, 4, 4, 9, 1]   \n4                 [5, 8, 6, 7, 2, 5, 3, 2, 11, 3, 1]   \n\n                                 statement-customswr  \\\n0  say annies list political group support third ...   \n1  when do decline coal start start when natural ...   \n2  hillary clinton agree john mccain vote give ge...   \n3  health care reform legislation be likely manda...   \n4                 economic turnaround start end term   \n\n                                  statement-spacyswr  job-id-jaccard  \\\n0  say annies list political group support trimes...               2   \n1  decline coal start start natural gas take star...               6   \n2  hillary clinton agree john mccain vote george ...               2   \n3  health care reform legislation likely mandate ...               0   \n4                 economic turnaround start end term               0   \n\n  party-id-jaccard context-id-jaccard  subject-id-jaccard  \\\n0                0                 13                   2   \n1                1                  0                   5   \n2                1                  3                   5   \n3                2                  0                   0   \n4                1                  3                   6   \n\n                                      word-id-custom  \\\n0  [3, 5440, 717, 493, 396, 54, 274, 4039, 155, 1...   \n1  [37, 9, 804, 861, 308, 308, 37, 981, 254, 39, ...   \n2  [104, 69, 734, 160, 201, 18, 89, 262, 137, 258...   \n3  [19, 22, 209, 252, 1, 592, 406, 361, 439, 176,...   \n4                         [282, 3331, 308, 247, 248]   \n\n                                       word-id-spacy  \n0       [1, 5315, 633, 423, 332, 37, 3919, 120, 936]  \n1  [720, 773, 249, 249, 891, 204, 46, 249, 527, 1...  \n2  [74, 49, 649, 125, 157, 12, 212, 103, 208, 274...  \n3  [13, 16, 165, 202, 514, 342, 301, 372, 140, 2747]  \n4                         [224, 3208, 249, 198, 199]  \n\n[5 rows x 36 columns]",
      "text/html": "<div>\n<style scoped>\n    .dataframe tbody tr th:only-of-type {\n        vertical-align: middle;\n    }\n\n    .dataframe tbody tr th {\n        vertical-align: top;\n    }\n\n    .dataframe thead th {\n        text-align: right;\n    }\n</style>\n<table border=\"1\" class=\"dataframe\">\n  <thead>\n    <tr style=\"text-align: right;\">\n      <th></th>\n      <th>index</th>\n      <th>id</th>\n      <th>label</th>\n      <th>statement</th>\n      <th>subject</th>\n      <th>speaker</th>\n      <th>job-title</th>\n      <th>party</th>\n      <th>barely-true-counts</th>\n      <th>false-counts</th>\n      <th>...</th>\n      <th>dep-id-fine</th>\n      <th>dep-id-custom</th>\n      <th>statement-customswr</th>\n      <th>statement-spacyswr</th>\n      <th>job-id-jaccard</th>\n      <th>party-id-jaccard</th>\n      <th>context-id-jaccard</th>\n      <th>subject-id-jaccard</th>\n      <th>word-id-custom</th>\n      <th>word-id-spacy</th>\n    </tr>\n  </thead>\n  <tbody>\n    <tr>\n      <th>0</th>\n      <td>0</td>\n      <td>2635.json</td>\n      <td>false</td>\n      <td>Says the Annies List political group supports ...</td>\n      <td>abortion</td>\n      <td>dwayne-bohac</td>\n      <td>State representative</td>\n      <td>republican</td>\n      <td>0.0</td>\n      <td>1.0</td>\n      <td>...</td>\n      <td>[8, 8, 4, 4, 3, 1, 8, 3, 8, 7, 2, 8, 8, 8]</td>\n      <td>[7, 5, 11, 11, 8, 6, 11, 8, 1, 4, 9, 2, 3, 1]</td>\n      <td>say annies list political group support third ...</td>\n      <td>say annies list political group support trimes...</td>\n      <td>2</td>\n      <td>0</td>\n      <td>13</td>\n      <td>2</td>\n      <td>[3, 5440, 717, 493, 396, 54, 274, 4039, 155, 1...</td>\n      <td>[1, 5315, 633, 423, 332, 37, 3919, 120, 936]</td>\n    </tr>\n    <tr>\n      <th>1</th>\n      <td>1</td>\n      <td>10540.json</td>\n      <td>half-true</td>\n      <td>When did the decline of coal start? It started...</td>\n      <td>energy,history,job-accomplishments</td>\n      <td>scott-surovell</td>\n      <td>State delegate</td>\n      <td>democrat</td>\n      <td>0.0</td>\n      <td>0.0</td>\n      <td>...</td>\n      <td>[8, 8, 8, 1, 8, 7, 8, 8, 1, 8, 8, 3, 1, 8, 8, ...</td>\n      <td>[11, 7, 5, 6, 2, 4, 3, 1, 6, 7, 11, 8, 6, 11, ...</td>\n      <td>when do decline coal start start when natural ...</td>\n      <td>decline coal start start natural gas take star...</td>\n      <td>6</td>\n      <td>1</td>\n      <td>0</td>\n      <td>5</td>\n      <td>[37, 9, 804, 861, 308, 308, 37, 981, 254, 39, ...</td>\n      <td>[720, 773, 249, 249, 891, 204, 46, 249, 527, 1...</td>\n    </tr>\n    <tr>\n      <th>2</th>\n      <td>2</td>\n      <td>324.json</td>\n      <td>mostly-true</td>\n      <td>Hillary Clinton agrees with John McCain \"by vo...</td>\n      <td>foreign-policy</td>\n      <td>barack-obama</td>\n      <td>President</td>\n      <td>democrat</td>\n      <td>70.0</td>\n      <td>71.0</td>\n      <td>...</td>\n      <td>[7, 1, 8, 8, 7, 8, 8, 8, 8, 8, 8, 7, 8, 8, 2, ...</td>\n      <td>[4, 6, 7, 2, 4, 3, 1, 2, 11, 10, 11, 4, 11, 5,...</td>\n      <td>hillary clinton agree john mccain vote give ge...</td>\n      <td>hillary clinton agree john mccain vote george ...</td>\n      <td>2</td>\n      <td>1</td>\n      <td>3</td>\n      <td>5</td>\n      <td>[104, 69, 734, 160, 201, 18, 89, 262, 137, 258...</td>\n      <td>[74, 49, 649, 125, 157, 12, 212, 103, 208, 274...</td>\n    </tr>\n    <tr>\n      <th>3</th>\n      <td>3</td>\n      <td>1123.json</td>\n      <td>false</td>\n      <td>Health care reform legislation is likely to ma...</td>\n      <td>health-care</td>\n      <td>blog-posting</td>\n      <td>unknown</td>\n      <td>none</td>\n      <td>7.0</td>\n      <td>19.0</td>\n      <td>...</td>\n      <td>[7, 7, 7, 1, 8, 8, 8, 8, 3, 7, 7, 2, 8]</td>\n      <td>[4, 4, 4, 6, 7, 11, 10, 11, 8, 4, 4, 9, 1]</td>\n      <td>health care reform legislation be likely manda...</td>\n      <td>health care reform legislation likely mandate ...</td>\n      <td>0</td>\n      <td>2</td>\n      <td>0</td>\n      <td>0</td>\n      <td>[19, 22, 209, 252, 1, 592, 406, 361, 439, 176,...</td>\n      <td>[13, 16, 165, 202, 514, 342, 301, 372, 140, 2747]</td>\n    </tr>\n    <tr>\n      <th>4</th>\n      <td>4</td>\n      <td>9028.json</td>\n      <td>half-true</td>\n      <td>The economic turnaround started at the end of ...</td>\n      <td>economy,jobs</td>\n      <td>charlie-crist</td>\n      <td>unknown</td>\n      <td>democrat</td>\n      <td>15.0</td>\n      <td>9.0</td>\n      <td>...</td>\n      <td>[8, 3, 1, 8, 8, 8, 8, 8, 8, 8, 8]</td>\n      <td>[5, 8, 6, 7, 2, 5, 3, 2, 11, 3, 1]</td>\n      <td>economic turnaround start end term</td>\n      <td>economic turnaround start end term</td>\n      <td>0</td>\n      <td>1</td>\n      <td>3</td>\n      <td>6</td>\n      <td>[282, 3331, 308, 247, 248]</td>\n      <td>[224, 3208, 249, 198, 199]</td>\n    </tr>\n  </tbody>\n</table>\n<p>5 rows × 36 columns</p>\n</div>"
     },
     "execution_count": 316,
     "metadata": {},
     "output_type": "execute_result"
    }
   ],
   "source": [
    "train_data.head()"
   ],
   "metadata": {
    "collapsed": false
   }
  }
 ],
 "metadata": {
  "kernelspec": {
   "display_name": "Python 3",
   "language": "python",
   "name": "python3"
  },
  "language_info": {
   "codemirror_mode": {
    "name": "ipython",
    "version": 2
   },
   "file_extension": ".py",
   "mimetype": "text/x-python",
   "name": "python",
   "nbconvert_exporter": "python",
   "pygments_lexer": "ipython2",
   "version": "2.7.6"
  }
 },
 "nbformat": 4,
 "nbformat_minor": 0
}
